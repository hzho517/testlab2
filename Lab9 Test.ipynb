{
 "cells": [
  {
   "cell_type": "code",
   "execution_count": 2,
   "metadata": {},
   "outputs": [],
   "source": [
    "import findspark\n",
    "findspark.init('/home/ubuntu/spark-2.1.1-bin-hadoop2.7')\n",
    "import pyspark\n",
    "from pyspark.sql import SparkSession\n",
    "spark = SparkSession.builder.appName('basics').getOrCreate()"
   ]
  },
  {
   "cell_type": "code",
   "execution_count": 3,
   "metadata": {},
   "outputs": [],
   "source": [
    "# If you would like to manually change data types, refer to this article: https://medium.com/@mrpowers/adding-structtype-columns-to-spark-dataframes-b44125409803\n",
    "df = spark.read.csv('BostonCrime2.0.csv',header=True,inferSchema=True)"
   ]
  },
  {
   "cell_type": "markdown",
   "metadata": {},
   "source": [
    "Data Exploration"
   ]
  },
  {
   "cell_type": "code",
   "execution_count": 10,
   "metadata": {},
   "outputs": [
    {
     "name": "stdout",
     "output_type": "stream",
     "text": [
      "+---------------+------------+--------------------+--------+--------------+----+-----+-----------+----+----------+--------------+--------+\n",
      "|INCIDENT_NUMBER|OFFENSE_CODE|  OFFENSE_CODE_GROUP|DISTRICT|REPORTING_AREA|YEAR|MONTH|DAY_OF_WEEK|HOUR|  UCR_PART|        STREET|SHOOTING|\n",
      "+---------------+------------+--------------------+--------+--------------+----+-----+-----------+----+----------+--------------+--------+\n",
      "|              1|        1102|               Fraud|      D4|           619|2015|   12|     Sunday|  14|  Part Two|  WESTLAND AVE|       N|\n",
      "|              2|         619|             Larceny|      D4|           619|2015|   12|     Sunday|  14|  Part One|  WESTLAND AVE|       N|\n",
      "|              3|        1107|               Fraud|     E18|           486|2015|    7|  Wednesday|  12|  Part Two|   OAKCREST RD|       N|\n",
      "|              4|        1107|               Fraud|      C6|           226|2015|   11|   Thursday|   8|  Part Two|   E FOURTH ST|       N|\n",
      "|              5|        2647|               Other|      D4|           129|2015|   10|   Saturday|  13|  Part Two|   BERKELEY ST|       N|\n",
      "|              6|        1102|               Fraud|     D14|           791|2015|    9|    Tuesday|  11|  Part Two|    ALLSTON ST|       N|\n",
      "|              7|        3201|       Property Lost|     C11|           366|2015|    8|   Thursday|   8|Part Three|      EDWIN ST|       N|\n",
      "|              8|        1102|               Fraud|     C11|           450|2015|   10|  Wednesday|  12|  Part Two| WASHINGTON ST|       N|\n",
      "|              9|        1102|               Fraud|     C11|           352|2015|    8|   Saturday|   6|  Part Two|     DITSON ST|       N|\n",
      "|             10|        1107|               Fraud|      A1|           122|2015|    8|   Saturday|  15|  Part Two| WASHINGTON ST|       N|\n",
      "|             11|        1107|               Fraud|    null|              |2015|    7|  Wednesday|  24|  Part Two|        COBDEN|       N|\n",
      "|             12|         735| Auto Theft Recovery|     C11|           385|2015|   11|     Sunday|  11|     Other|     HALLET ST|       N|\n",
      "|             13|        1102|               Fraud|     C11|           345|2015|   12|     Monday|   4|  Part Two|     DRAPER ST|       N|\n",
      "|             14|        1107|               Fraud|      A7|            20|2015|    7|  Wednesday|   8|  Part Two|      PARIS ST|       N|\n",
      "|             15|        1102|               Fraud|     C11|           342|2015|    9|    Tuesday|  24|  Part Two|    TOPLIFF ST|       N|\n",
      "|             16|        1102|               Fraud|     C11|           365|2015|    9|   Thursday|   9|  Part Two|     SEMONT RD|       N|\n",
      "|             17|         615|Larceny From Moto...|     C11|           366|2015|   10|   Thursday|   8|  Part One|      EDWIN ST|       N|\n",
      "|             18|        3115|  Investigate Person|     D14|           775|2015|    7|  Wednesday|  24|Part Three|WALLINGFORD RD|       N|\n",
      "|             19|        1102|               Fraud|      A1|           101|2015|    8|     Friday|   9|  Part Two|      BROAD ST|       N|\n",
      "|             20|        1102|               Fraud|      D4|           165|2015|   10|   Thursday|  24|  Part Two|     ALBANY ST|       N|\n",
      "+---------------+------------+--------------------+--------+--------------+----+-----+-----------+----+----------+--------------+--------+\n",
      "only showing top 20 rows\n",
      "\n"
     ]
    }
   ],
   "source": [
    "df.show()"
   ]
  },
  {
   "cell_type": "code",
   "execution_count": 11,
   "metadata": {},
   "outputs": [
    {
     "name": "stdout",
     "output_type": "stream",
     "text": [
      "root\n",
      " |-- INCIDENT_NUMBER: integer (nullable = true)\n",
      " |-- OFFENSE_CODE: integer (nullable = true)\n",
      " |-- OFFENSE_CODE_GROUP: string (nullable = true)\n",
      " |-- DISTRICT: string (nullable = true)\n",
      " |-- REPORTING_AREA: string (nullable = true)\n",
      " |-- YEAR: integer (nullable = true)\n",
      " |-- MONTH: integer (nullable = true)\n",
      " |-- DAY_OF_WEEK: string (nullable = true)\n",
      " |-- HOUR: integer (nullable = true)\n",
      " |-- UCR_PART: string (nullable = true)\n",
      " |-- STREET: string (nullable = true)\n",
      " |-- SHOOTING: string (nullable = true)\n",
      "\n"
     ]
    }
   ],
   "source": [
    "df.printSchema()"
   ]
  },
  {
   "cell_type": "code",
   "execution_count": 12,
   "metadata": {},
   "outputs": [
    {
     "name": "stdout",
     "output_type": "stream",
     "text": [
      "[Row(INCIDENT_NUMBER=1, OFFENSE_CODE=1102, OFFENSE_CODE_GROUP='Fraud', DISTRICT='D4', REPORTING_AREA='619', YEAR=2015, MONTH=12, DAY_OF_WEEK='Sunday', HOUR=14, UCR_PART='Part Two', STREET='WESTLAND AVE', SHOOTING='N')]\n"
     ]
    }
   ],
   "source": [
    "print(df.head(1))"
   ]
  },
  {
   "cell_type": "code",
   "execution_count": 14,
   "metadata": {},
   "outputs": [
    {
     "name": "stdout",
     "output_type": "stream",
     "text": [
      "+-------+------------------+------------------+------------------+--------+-----------------+------------------+-----------------+-----------+-----------------+--------+---------+--------+\n",
      "|summary|   INCIDENT_NUMBER|      OFFENSE_CODE|OFFENSE_CODE_GROUP|DISTRICT|   REPORTING_AREA|              YEAR|            MONTH|DAY_OF_WEEK|             HOUR|UCR_PART|   STREET|SHOOTING|\n",
      "+-------+------------------+------------------+------------------+--------+-----------------+------------------+-----------------+-----------+-----------------+--------+---------+--------+\n",
      "|  count|               800|               800|               800|     772|              800|               800|              800|        800|              800|     800|      783|     800|\n",
      "|   mean|             400.5|        1949.24875|              null|    null| 404.742782152231|        2016.50375|           8.2025|       null|            15.49|    null|     null|    null|\n",
      "| stddev|231.08440016582685|1095.3304308812276|              null|    null|253.4539993960598|1.1209623692572204|2.677770867909777|       null|6.011661591762074|    null|     null|    null|\n",
      "|    min|                 1|               301|Aggravated Assault|      A1|                 |              2015|                1|     Friday|                1|   Other| ADAMS ST|       N|\n",
      "|    max|               800|              3831|   Warrant Arrests|      E5|               97|              2018|               12|  Wednesday|               24|Part Two|ZAMORA ST|       Y|\n",
      "+-------+------------------+------------------+------------------+--------+-----------------+------------------+-----------------+-----------+-----------------+--------+---------+--------+\n",
      "\n"
     ]
    }
   ],
   "source": [
    "df.describe().show()"
   ]
  },
  {
   "cell_type": "code",
   "execution_count": 4,
   "metadata": {},
   "outputs": [
    {
     "name": "stdout",
     "output_type": "stream",
     "text": [
      "+-------+--------+-----------------+--------+\n",
      "|summary|DISTRICT|            MONTH|SHOOTING|\n",
      "+-------+--------+-----------------+--------+\n",
      "|  count|     772|              800|     800|\n",
      "|   mean|    null|           8.2025|    null|\n",
      "| stddev|    null|2.677770867909777|    null|\n",
      "|    min|      A1|                1|       N|\n",
      "|    max|      E5|               12|       Y|\n",
      "+-------+--------+-----------------+--------+\n",
      "\n"
     ]
    }
   ],
   "source": [
    "df.select('DISTRICT','MONTH','SHOOTING').describe().show()"
   ]
  },
  {
   "cell_type": "code",
   "execution_count": 5,
   "metadata": {},
   "outputs": [
    {
     "name": "stdout",
     "output_type": "stream",
     "text": [
      "+-------+-----------------+-----------------+------------------+\n",
      "|summary|            MONTH|             HOUR|              YEAR|\n",
      "+-------+-----------------+-----------------+------------------+\n",
      "|  count|              800|              800|               800|\n",
      "|   mean|           8.2025|            15.49|        2016.50375|\n",
      "| stddev|2.677770867909777|6.011661591762074|1.1209623692572204|\n",
      "|    min|                1|                1|              2015|\n",
      "|    max|               12|               24|              2018|\n",
      "+-------+-----------------+-----------------+------------------+\n",
      "\n"
     ]
    }
   ],
   "source": [
    "df.select('MONTH','HOUR','YEAR').describe().show()"
   ]
  },
  {
   "cell_type": "markdown",
   "metadata": {},
   "source": [
    "Data Manipulation"
   ]
  },
  {
   "cell_type": "code",
   "execution_count": 7,
   "metadata": {},
   "outputs": [
    {
     "name": "stdout",
     "output_type": "stream",
     "text": [
      "+-----+\n",
      "|month|\n",
      "+-----+\n",
      "|   12|\n",
      "|   12|\n",
      "|    7|\n",
      "|   11|\n",
      "|   10|\n",
      "|    9|\n",
      "|    8|\n",
      "|   10|\n",
      "|    8|\n",
      "|    8|\n",
      "|    7|\n",
      "|   11|\n",
      "|   12|\n",
      "|    7|\n",
      "|    9|\n",
      "|    9|\n",
      "|   10|\n",
      "|    7|\n",
      "|    8|\n",
      "|   10|\n",
      "+-----+\n",
      "only showing top 20 rows\n",
      "\n"
     ]
    }
   ],
   "source": [
    "mon_col = df.select('month')\n",
    "mon_col.show()"
   ]
  },
  {
   "cell_type": "code",
   "execution_count": 8,
   "metadata": {},
   "outputs": [
    {
     "name": "stdout",
     "output_type": "stream",
     "text": [
      "+---------------+------------+--------------------+--------+--------------+----+-----+-----------+----+----------+--------------+--------+--------------+\n",
      "|INCIDENT_NUMBER|OFFENSE_CODE|  OFFENSE_CODE_GROUP|DISTRICT|REPORTING_AREA|YEAR|MONTH|DAY_OF_WEEK|HOUR|  UCR_PART|        STREET|SHOOTING|month_times_10|\n",
      "+---------------+------------+--------------------+--------+--------------+----+-----+-----------+----+----------+--------------+--------+--------------+\n",
      "|              1|        1102|               Fraud|      D4|           619|2015|   12|     Sunday|  14|  Part Two|  WESTLAND AVE|       N|           120|\n",
      "|              2|         619|             Larceny|      D4|           619|2015|   12|     Sunday|  14|  Part One|  WESTLAND AVE|       N|           120|\n",
      "|              3|        1107|               Fraud|     E18|           486|2015|    7|  Wednesday|  12|  Part Two|   OAKCREST RD|       N|            70|\n",
      "|              4|        1107|               Fraud|      C6|           226|2015|   11|   Thursday|   8|  Part Two|   E FOURTH ST|       N|           110|\n",
      "|              5|        2647|               Other|      D4|           129|2015|   10|   Saturday|  13|  Part Two|   BERKELEY ST|       N|           100|\n",
      "|              6|        1102|               Fraud|     D14|           791|2015|    9|    Tuesday|  11|  Part Two|    ALLSTON ST|       N|            90|\n",
      "|              7|        3201|       Property Lost|     C11|           366|2015|    8|   Thursday|   8|Part Three|      EDWIN ST|       N|            80|\n",
      "|              8|        1102|               Fraud|     C11|           450|2015|   10|  Wednesday|  12|  Part Two| WASHINGTON ST|       N|           100|\n",
      "|              9|        1102|               Fraud|     C11|           352|2015|    8|   Saturday|   6|  Part Two|     DITSON ST|       N|            80|\n",
      "|             10|        1107|               Fraud|      A1|           122|2015|    8|   Saturday|  15|  Part Two| WASHINGTON ST|       N|            80|\n",
      "|             11|        1107|               Fraud|    null|              |2015|    7|  Wednesday|  24|  Part Two|        COBDEN|       N|            70|\n",
      "|             12|         735| Auto Theft Recovery|     C11|           385|2015|   11|     Sunday|  11|     Other|     HALLET ST|       N|           110|\n",
      "|             13|        1102|               Fraud|     C11|           345|2015|   12|     Monday|   4|  Part Two|     DRAPER ST|       N|           120|\n",
      "|             14|        1107|               Fraud|      A7|            20|2015|    7|  Wednesday|   8|  Part Two|      PARIS ST|       N|            70|\n",
      "|             15|        1102|               Fraud|     C11|           342|2015|    9|    Tuesday|  24|  Part Two|    TOPLIFF ST|       N|            90|\n",
      "|             16|        1102|               Fraud|     C11|           365|2015|    9|   Thursday|   9|  Part Two|     SEMONT RD|       N|            90|\n",
      "|             17|         615|Larceny From Moto...|     C11|           366|2015|   10|   Thursday|   8|  Part One|      EDWIN ST|       N|           100|\n",
      "|             18|        3115|  Investigate Person|     D14|           775|2015|    7|  Wednesday|  24|Part Three|WALLINGFORD RD|       N|            70|\n",
      "|             19|        1102|               Fraud|      A1|           101|2015|    8|     Friday|   9|  Part Two|      BROAD ST|       N|            80|\n",
      "|             20|        1102|               Fraud|      D4|           165|2015|   10|   Thursday|  24|  Part Two|     ALBANY ST|       N|           100|\n",
      "+---------------+------------+--------------------+--------+--------------+----+-----+-----------+----+----------+--------------+--------+--------------+\n",
      "only showing top 20 rows\n",
      "\n",
      "+---------------+------------+--------------------+--------+--------------+----+-----+-----------+----+----------+--------------+--------+\n",
      "|INCIDENT_NUMBER|OFFENSE_CODE|  OFFENSE_CODE_GROUP|DISTRICT|REPORTING_AREA|YEAR|MONTH|DAY_OF_WEEK|HOUR|  UCR_PART|        STREET|SHOOTING|\n",
      "+---------------+------------+--------------------+--------+--------------+----+-----+-----------+----+----------+--------------+--------+\n",
      "|              1|        1102|               Fraud|      D4|           619|2015|   12|     Sunday|  14|  Part Two|  WESTLAND AVE|       N|\n",
      "|              2|         619|             Larceny|      D4|           619|2015|   12|     Sunday|  14|  Part One|  WESTLAND AVE|       N|\n",
      "|              3|        1107|               Fraud|     E18|           486|2015|    7|  Wednesday|  12|  Part Two|   OAKCREST RD|       N|\n",
      "|              4|        1107|               Fraud|      C6|           226|2015|   11|   Thursday|   8|  Part Two|   E FOURTH ST|       N|\n",
      "|              5|        2647|               Other|      D4|           129|2015|   10|   Saturday|  13|  Part Two|   BERKELEY ST|       N|\n",
      "|              6|        1102|               Fraud|     D14|           791|2015|    9|    Tuesday|  11|  Part Two|    ALLSTON ST|       N|\n",
      "|              7|        3201|       Property Lost|     C11|           366|2015|    8|   Thursday|   8|Part Three|      EDWIN ST|       N|\n",
      "|              8|        1102|               Fraud|     C11|           450|2015|   10|  Wednesday|  12|  Part Two| WASHINGTON ST|       N|\n",
      "|              9|        1102|               Fraud|     C11|           352|2015|    8|   Saturday|   6|  Part Two|     DITSON ST|       N|\n",
      "|             10|        1107|               Fraud|      A1|           122|2015|    8|   Saturday|  15|  Part Two| WASHINGTON ST|       N|\n",
      "|             11|        1107|               Fraud|    null|              |2015|    7|  Wednesday|  24|  Part Two|        COBDEN|       N|\n",
      "|             12|         735| Auto Theft Recovery|     C11|           385|2015|   11|     Sunday|  11|     Other|     HALLET ST|       N|\n",
      "|             13|        1102|               Fraud|     C11|           345|2015|   12|     Monday|   4|  Part Two|     DRAPER ST|       N|\n",
      "|             14|        1107|               Fraud|      A7|            20|2015|    7|  Wednesday|   8|  Part Two|      PARIS ST|       N|\n",
      "|             15|        1102|               Fraud|     C11|           342|2015|    9|    Tuesday|  24|  Part Two|    TOPLIFF ST|       N|\n",
      "|             16|        1102|               Fraud|     C11|           365|2015|    9|   Thursday|   9|  Part Two|     SEMONT RD|       N|\n",
      "|             17|         615|Larceny From Moto...|     C11|           366|2015|   10|   Thursday|   8|  Part One|      EDWIN ST|       N|\n",
      "|             18|        3115|  Investigate Person|     D14|           775|2015|    7|  Wednesday|  24|Part Three|WALLINGFORD RD|       N|\n",
      "|             19|        1102|               Fraud|      A1|           101|2015|    8|     Friday|   9|  Part Two|      BROAD ST|       N|\n",
      "|             20|        1102|               Fraud|      D4|           165|2015|   10|   Thursday|  24|  Part Two|     ALBANY ST|       N|\n",
      "+---------------+------------+--------------------+--------+--------------+----+-----+-----------+----+----------+--------------+--------+\n",
      "only showing top 20 rows\n",
      "\n"
     ]
    }
   ],
   "source": [
    "df.withColumn('month_times_10',df['month']*10).show()\n",
    "df.show()"
   ]
  },
  {
   "cell_type": "code",
   "execution_count": 9,
   "metadata": {},
   "outputs": [
    {
     "name": "stdout",
     "output_type": "stream",
     "text": [
      "+---------------+------------+--------------------+--------+--------------+----+-----+-----------+----+----------+--------------+--------+\n",
      "|INCIDENT_NUMBER|OFFENSE_CODE|  OFFENSE_CODE_GROUP|DISTRICT|REPORTING_AREA|YEAR|MONTH|DAY_OF_WEEK|HOUR|  UCR_PART|        STREET|SHOOTING|\n",
      "+---------------+------------+--------------------+--------+--------------+----+-----+-----------+----+----------+--------------+--------+\n",
      "|              1|        1102|               Fraud|      D4|           619|2015|   12|     Sunday|  14|  Part Two|  WESTLAND AVE|       N|\n",
      "|              2|         619|             Larceny|      D4|           619|2015|   12|     Sunday|  14|  Part One|  WESTLAND AVE|       N|\n",
      "|              3|        1107|               Fraud|     E18|           486|2015|    7|  Wednesday|  12|  Part Two|   OAKCREST RD|       N|\n",
      "|              4|        1107|               Fraud|      C6|           226|2015|   11|   Thursday|   8|  Part Two|   E FOURTH ST|       N|\n",
      "|              5|        2647|               Other|      D4|           129|2015|   10|   Saturday|  13|  Part Two|   BERKELEY ST|       N|\n",
      "|              6|        1102|               Fraud|     D14|           791|2015|    9|    Tuesday|  11|  Part Two|    ALLSTON ST|       N|\n",
      "|              7|        3201|       Property Lost|     C11|           366|2015|    8|   Thursday|   8|Part Three|      EDWIN ST|       N|\n",
      "|              8|        1102|               Fraud|     C11|           450|2015|   10|  Wednesday|  12|  Part Two| WASHINGTON ST|       N|\n",
      "|              9|        1102|               Fraud|     C11|           352|2015|    8|   Saturday|   6|  Part Two|     DITSON ST|       N|\n",
      "|             10|        1107|               Fraud|      A1|           122|2015|    8|   Saturday|  15|  Part Two| WASHINGTON ST|       N|\n",
      "|             11|        1107|               Fraud|    null|              |2015|    7|  Wednesday|  24|  Part Two|        COBDEN|       N|\n",
      "|             12|         735| Auto Theft Recovery|     C11|           385|2015|   11|     Sunday|  11|     Other|     HALLET ST|       N|\n",
      "|             13|        1102|               Fraud|     C11|           345|2015|   12|     Monday|   4|  Part Two|     DRAPER ST|       N|\n",
      "|             14|        1107|               Fraud|      A7|            20|2015|    7|  Wednesday|   8|  Part Two|      PARIS ST|       N|\n",
      "|             15|        1102|               Fraud|     C11|           342|2015|    9|    Tuesday|  24|  Part Two|    TOPLIFF ST|       N|\n",
      "|             16|        1102|               Fraud|     C11|           365|2015|    9|   Thursday|   9|  Part Two|     SEMONT RD|       N|\n",
      "|             17|         615|Larceny From Moto...|     C11|           366|2015|   10|   Thursday|   8|  Part One|      EDWIN ST|       N|\n",
      "|             18|        3115|  Investigate Person|     D14|           775|2015|    7|  Wednesday|  24|Part Three|WALLINGFORD RD|       N|\n",
      "|             19|        1102|               Fraud|      A1|           101|2015|    8|     Friday|   9|  Part Two|      BROAD ST|       N|\n",
      "|             20|        1102|               Fraud|      D4|           165|2015|   10|   Thursday|  24|  Part Two|     ALBANY ST|       N|\n",
      "+---------------+------------+--------------------+--------+--------------+----+-----+-----------+----+----------+--------------+--------+\n",
      "only showing top 20 rows\n",
      "\n",
      "+----+-----+\n",
      "|YEAR|MONTH|\n",
      "+----+-----+\n",
      "|2015|   12|\n",
      "|2015|   12|\n",
      "|2015|    7|\n",
      "|2015|   11|\n",
      "|2015|   10|\n",
      "|2015|    9|\n",
      "|2015|    8|\n",
      "|2015|   10|\n",
      "|2015|    8|\n",
      "|2015|    8|\n",
      "|2015|    7|\n",
      "|2015|   11|\n",
      "|2015|   12|\n",
      "|2015|    7|\n",
      "|2015|    9|\n",
      "|2015|    9|\n",
      "|2015|   10|\n",
      "|2015|    7|\n",
      "|2015|    8|\n",
      "|2015|   10|\n",
      "+----+-----+\n",
      "only showing top 20 rows\n",
      "\n"
     ]
    }
   ],
   "source": [
    "df.filter(\"MONTH > 6\").show()\n",
    "df.filter(\"MONTH > 6\").select('YEAR','MONTH').show()"
   ]
  },
  {
   "cell_type": "code",
   "execution_count": 10,
   "metadata": {},
   "outputs": [
    {
     "name": "stdout",
     "output_type": "stream",
     "text": [
      "+---------------+-----+----+\n",
      "|INCIDENT_NUMBER|MONTH|HOUR|\n",
      "+---------------+-----+----+\n",
      "|              4|   11|   8|\n",
      "|              6|    9|  11|\n",
      "|              7|    8|   8|\n",
      "|              9|    8|   6|\n",
      "|             12|   11|  11|\n",
      "|             13|   12|   4|\n",
      "|             14|    7|   8|\n",
      "|             16|    9|   9|\n",
      "|             17|   10|   8|\n",
      "|             19|    8|   9|\n",
      "|             21|   12|   9|\n",
      "|             25|    9|   9|\n",
      "|             26|   10|   9|\n",
      "|             27|    8|   9|\n",
      "|             28|    7|   2|\n",
      "|             29|   10|   9|\n",
      "|             31|   11|   9|\n",
      "|             43|    9|   7|\n",
      "|             45|    8|   9|\n",
      "|             55|    8|   9|\n",
      "+---------------+-----+----+\n",
      "only showing top 20 rows\n",
      "\n"
     ]
    }
   ],
   "source": [
    "df.filter(\"MONTH > 6 AND HOUR < 12\").select('INCIDENT_NUMBER','MONTH','HOUR').show()"
   ]
  },
  {
   "cell_type": "markdown",
   "metadata": {},
   "source": [
    "Data Aggregation"
   ]
  },
  {
   "cell_type": "code",
   "execution_count": 11,
   "metadata": {},
   "outputs": [
    {
     "name": "stdout",
     "output_type": "stream",
     "text": [
      "+-----+--------------------+------------------+------------------+----------+------------------+\n",
      "|MONTH|avg(INCIDENT_NUMBER)| avg(OFFENSE_CODE)|         avg(YEAR)|avg(MONTH)|         avg(HOUR)|\n",
      "+-----+--------------------+------------------+------------------+----------+------------------+\n",
      "|   12|   298.0091743119266| 1735.697247706422|2015.9816513761468|      12.0|15.458715596330276|\n",
      "|    1|  339.05882352941177|1959.2941176470588|2016.4117647058824|       1.0|17.529411764705884|\n",
      "|    6|  387.76785714285717| 2149.214285714286|            2016.5|       6.0|              14.5|\n",
      "|    3|               403.6|           1981.25|            2016.5|       3.0|             15.35|\n",
      "|    5|   404.9130434782609|2087.1739130434785|2016.5652173913043|       5.0|13.695652173913043|\n",
      "|    9|             275.175|         1879.8125|         2015.8375|       9.0|             16.45|\n",
      "|    4|   361.1764705882353|1483.6470588235295|2016.3529411764705|       4.0|15.647058823529411|\n",
      "|    8|  267.67857142857144| 2092.214285714286| 2015.892857142857|       8.0|15.964285714285714|\n",
      "|    7|   616.5818965517242| 2165.668103448276|2017.5905172413793|       7.0|15.387931034482758|\n",
      "|   10|   307.7752808988764|1578.9550561797753|2016.0224719101125|      10.0|14.561797752808989|\n",
      "|   11|  280.06976744186045|1918.2790697674418|2015.8255813953488|      11.0| 16.63953488372093|\n",
      "|    2|  358.93333333333334|            1880.6|2016.2666666666667|       2.0|13.466666666666667|\n",
      "+-----+--------------------+------------------+------------------+----------+------------------+\n",
      "\n"
     ]
    }
   ],
   "source": [
    "df.groupBy('MONTH').mean().show()"
   ]
  },
  {
   "cell_type": "code",
   "execution_count": 13,
   "metadata": {},
   "outputs": [
    {
     "name": "stdout",
     "output_type": "stream",
     "text": [
      "Sorted by HOUR\n",
      "+-----+--------------------+------------------+------------------+----------+------------------+\n",
      "|MONTH|avg(INCIDENT_NUMBER)| avg(OFFENSE_CODE)|         avg(YEAR)|avg(MONTH)|         avg(HOUR)|\n",
      "+-----+--------------------+------------------+------------------+----------+------------------+\n",
      "|    2|  358.93333333333334|            1880.6|2016.2666666666667|       2.0|13.466666666666667|\n",
      "|    5|   404.9130434782609|2087.1739130434785|2016.5652173913043|       5.0|13.695652173913043|\n",
      "|    6|  387.76785714285717| 2149.214285714286|            2016.5|       6.0|              14.5|\n",
      "|   10|   307.7752808988764|1578.9550561797753|2016.0224719101125|      10.0|14.561797752808989|\n",
      "|    3|               403.6|           1981.25|            2016.5|       3.0|             15.35|\n",
      "|    7|   616.5818965517242| 2165.668103448276|2017.5905172413793|       7.0|15.387931034482758|\n",
      "|   12|   298.0091743119266| 1735.697247706422|2015.9816513761468|      12.0|15.458715596330276|\n",
      "|    4|   361.1764705882353|1483.6470588235295|2016.3529411764705|       4.0|15.647058823529411|\n",
      "|    8|  267.67857142857144| 2092.214285714286| 2015.892857142857|       8.0|15.964285714285714|\n",
      "|    9|             275.175|         1879.8125|         2015.8375|       9.0|             16.45|\n",
      "|   11|  280.06976744186045|1918.2790697674418|2015.8255813953488|      11.0| 16.63953488372093|\n",
      "|    1|  339.05882352941177|1959.2941176470588|2016.4117647058824|       1.0|17.529411764705884|\n",
      "+-----+--------------------+------------------+------------------+----------+------------------+\n",
      "\n",
      "Sorted by YEAR\n",
      "+-----+--------------------+------------------+------------------+----------+------------------+\n",
      "|MONTH|avg(INCIDENT_NUMBER)| avg(OFFENSE_CODE)|         avg(YEAR)|avg(MONTH)|         avg(HOUR)|\n",
      "+-----+--------------------+------------------+------------------+----------+------------------+\n",
      "|   11|  280.06976744186045|1918.2790697674418|2015.8255813953488|      11.0| 16.63953488372093|\n",
      "|    9|             275.175|         1879.8125|         2015.8375|       9.0|             16.45|\n",
      "|    8|  267.67857142857144| 2092.214285714286| 2015.892857142857|       8.0|15.964285714285714|\n",
      "|   12|   298.0091743119266| 1735.697247706422|2015.9816513761468|      12.0|15.458715596330276|\n",
      "|   10|   307.7752808988764|1578.9550561797753|2016.0224719101125|      10.0|14.561797752808989|\n",
      "|    2|  358.93333333333334|            1880.6|2016.2666666666667|       2.0|13.466666666666667|\n",
      "|    4|   361.1764705882353|1483.6470588235295|2016.3529411764705|       4.0|15.647058823529411|\n",
      "|    1|  339.05882352941177|1959.2941176470588|2016.4117647058824|       1.0|17.529411764705884|\n",
      "|    6|  387.76785714285717| 2149.214285714286|            2016.5|       6.0|              14.5|\n",
      "|    3|               403.6|           1981.25|            2016.5|       3.0|             15.35|\n",
      "|    5|   404.9130434782609|2087.1739130434785|2016.5652173913043|       5.0|13.695652173913043|\n",
      "|    7|   616.5818965517242| 2165.668103448276|2017.5905172413793|       7.0|15.387931034482758|\n",
      "+-----+--------------------+------------------+------------------+----------+------------------+\n",
      "\n"
     ]
    }
   ],
   "source": [
    "group_month_df = df.groupBy('MONTH').mean()\n",
    "print(\"Sorted by HOUR\")\n",
    "group_month_df.orderBy('avg(HOUR)').show()\n",
    "print(\"Sorted by YEAR\")\n",
    "df.groupBy('MONTH').mean().orderBy('avg(YEAR)').show()"
   ]
  },
  {
   "cell_type": "markdown",
   "metadata": {},
   "source": [
    "Data Clean"
   ]
  },
  {
   "cell_type": "code",
   "execution_count": 22,
   "metadata": {},
   "outputs": [
    {
     "name": "stdout",
     "output_type": "stream",
     "text": [
      "+-----+--------------------+------------------+------------------+----------+------------------+\n",
      "|MONTH|avg(INCIDENT_NUMBER)| avg(OFFENSE_CODE)|         avg(YEAR)|avg(MONTH)|         avg(HOUR)|\n",
      "+-----+--------------------+------------------+------------------+----------+------------------+\n",
      "|   12|   298.0091743119266| 1735.697247706422|2015.9816513761468|      12.0|15.458715596330276|\n",
      "|    1|  339.05882352941177|1959.2941176470588|2016.4117647058824|       1.0|17.529411764705884|\n",
      "|    6|  387.76785714285717| 2149.214285714286|            2016.5|       6.0|              14.5|\n",
      "|    3|               403.6|           1981.25|            2016.5|       3.0|             15.35|\n",
      "|    5|   404.9130434782609|2087.1739130434785|2016.5652173913043|       5.0|13.695652173913043|\n",
      "|    9|             275.175|         1879.8125|         2015.8375|       9.0|             16.45|\n",
      "|    4|   361.1764705882353|1483.6470588235295|2016.3529411764705|       4.0|15.647058823529411|\n",
      "|    8|  267.67857142857144| 2092.214285714286| 2015.892857142857|       8.0|15.964285714285714|\n",
      "|    7|   616.5818965517242| 2165.668103448276|2017.5905172413793|       7.0|15.387931034482758|\n",
      "|   10|   307.7752808988764|1578.9550561797753|2016.0224719101125|      10.0|14.561797752808989|\n",
      "|   11|  280.06976744186045|1918.2790697674418|2015.8255813953488|      11.0| 16.63953488372093|\n",
      "|    2|  358.93333333333334|            1880.6|2016.2666666666667|       2.0|13.466666666666667|\n",
      "+-----+--------------------+------------------+------------------+----------+------------------+\n",
      "\n",
      "+-----+---------------------------+---------------------------+\n",
      "|MONTH|format_number(avg(HOUR), 2)|format_number(avg(YEAR), 2)|\n",
      "+-----+---------------------------+---------------------------+\n",
      "|   12|                      15.46|                   2,015.98|\n",
      "|    1|                      17.53|                   2,016.41|\n",
      "|    6|                      14.50|                   2,016.50|\n",
      "|    3|                      15.35|                   2,016.50|\n",
      "|    5|                      13.70|                   2,016.57|\n",
      "|    9|                      16.45|                   2,015.84|\n",
      "|    4|                      15.65|                   2,016.35|\n",
      "|    8|                      15.96|                   2,015.89|\n",
      "|    7|                      15.39|                   2,017.59|\n",
      "|   10|                      14.56|                   2,016.02|\n",
      "|   11|                      16.64|                   2,015.83|\n",
      "|    2|                      13.47|                   2,016.27|\n",
      "+-----+---------------------------+---------------------------+\n",
      "\n",
      "+---------------+------------+------------+\n",
      "|INCIDENT_NUMBER|Average HOUR|Average YEAR|\n",
      "+---------------+------------+------------+\n",
      "|             12|       15.46|    2,015.98|\n",
      "|              1|       17.53|    2,016.41|\n",
      "|              6|       14.50|    2,016.50|\n",
      "|              3|       15.35|    2,016.50|\n",
      "|              5|       13.70|    2,016.57|\n",
      "|              9|       16.45|    2,015.84|\n",
      "|              4|       15.65|    2,016.35|\n",
      "|              8|       15.96|    2,015.89|\n",
      "|              7|       15.39|    2,017.59|\n",
      "|             10|       14.56|    2,016.02|\n",
      "|             11|       16.64|    2,015.83|\n",
      "|              2|       13.47|    2,016.27|\n",
      "+---------------+------------+------------+\n",
      "\n",
      "Average HOUR and YEAR by INCIDENT_NUMBER\n",
      "+---------------+------------+------------+\n",
      "|INCIDENT_NUMBER|Average HOUR|Average YEAR|\n",
      "+---------------+------------+------------+\n",
      "|              2|       13.47|    2,016.27|\n",
      "|              5|       13.70|    2,016.57|\n",
      "|              6|       14.50|    2,016.50|\n",
      "|             10|       14.56|    2,016.02|\n",
      "|              3|       15.35|    2,016.50|\n",
      "|              7|       15.39|    2,017.59|\n",
      "|             12|       15.46|    2,015.98|\n",
      "|              4|       15.65|    2,016.35|\n",
      "|              8|       15.96|    2,015.89|\n",
      "|              9|       16.45|    2,015.84|\n",
      "|             11|       16.64|    2,015.83|\n",
      "|              1|       17.53|    2,016.41|\n",
      "+---------------+------------+------------+\n",
      "\n"
     ]
    }
   ],
   "source": [
    "from pyspark.sql.functions import format_number, col\n",
    "group_month_df = df.groupBy('MONTH').mean()\n",
    "group_month_df.show()\n",
    "group_month_df = group_month_df.select('MONTH',\n",
    "                                   format_number('avg(HOUR)',2),\n",
    "                                   format_number('avg(YEAR)',2))\n",
    "group_month_df.show()\n",
    "\n",
    "group_month_df = group_month_df.select(col('MONTH').alias('INCIDENT_NUMBER'),\n",
    "                                   col('format_number(avg(HOUR), 2)').alias('Average HOUR'),\n",
    "                                   col('format_number(avg(YEAR), 2)').alias('Average YEAR'))\n",
    "group_month_df.show()\n",
    "                            \n",
    "group_month_df = group_month_df.orderBy('Average HOUR')\n",
    "                                       \n",
    "print('Average HOUR and YEAR by INCIDENT_NUMBER')\n",
    "group_month_df.show()"
   ]
  },
  {
   "cell_type": "code",
   "execution_count": null,
   "metadata": {},
   "outputs": [],
   "source": []
  }
 ],
 "metadata": {
  "kernelspec": {
   "display_name": "Python 3",
   "language": "python",
   "name": "python3"
  },
  "language_info": {
   "codemirror_mode": {
    "name": "ipython",
    "version": 3
   },
   "file_extension": ".py",
   "mimetype": "text/x-python",
   "name": "python",
   "nbconvert_exporter": "python",
   "pygments_lexer": "ipython3",
   "version": "3.5.2"
  }
 },
 "nbformat": 4,
 "nbformat_minor": 2
}
