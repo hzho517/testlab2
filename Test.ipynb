{
 "cells": [
  {
   "cell_type": "markdown",
   "metadata": {},
   "source": [
    "## INFOSYS722_BDAS_ASSIGNMENT_LORRAINE ZHOU"
   ]
  },
  {
   "cell_type": "code",
   "execution_count": 109,
   "metadata": {},
   "outputs": [],
   "source": [
    "# Import the relevant packages.\n",
    "import findspark\n",
    "findspark.init('/home/ubuntu/spark-2.1.1-bin-hadoop2.7')\n",
    "import pyspark\n",
    "from pyspark.sql import SparkSession\n",
    "spark = SparkSession.builder.appName('INFOSYS722').getOrCreate()\n",
    "import pandas as pd\n",
    "sc = spark.sparkContext"
   ]
  },
  {
   "cell_type": "code",
   "execution_count": 110,
   "metadata": {},
   "outputs": [],
   "source": [
    "# Each column has a header in this dataset, its done by stating header=True.\n",
    "df = spark.read.csv('BostonCrime2.0.csv',header=True,inferSchema=True)"
   ]
  },
  {
   "cell_type": "markdown",
   "metadata": {},
   "source": [
    "# Data Exploration"
   ]
  },
  {
   "cell_type": "code",
   "execution_count": 111,
   "metadata": {},
   "outputs": [
    {
     "name": "stdout",
     "output_type": "stream",
     "text": [
      "+--------------+-----------+--------------------+--------+----+-----+---------+----+----------+--------------+--------+\n",
      "|INCIDENTNUMBER|OFFENSECODE|    OFFENSECODEGROUP|DISTRICT|YEAR|MONTH|DAYOFWEEK|HOUR|   UCRPART|        STREET|SHOOTING|\n",
      "+--------------+-----------+--------------------+--------+----+-----+---------+----+----------+--------------+--------+\n",
      "|             1|       1102|               Fraud|      D4|2015|   12|   Sunday|  14|  Part Two|  WESTLAND AVE|       N|\n",
      "|             2|        619|             Larceny|      D4|2015|   12|   Sunday|  14|  Part One|  WESTLAND AVE|       N|\n",
      "|             3|       1107|               Fraud|     E18|2015|    7|Wednesday|  12|  Part Two|   OAKCREST RD|       N|\n",
      "|             4|       1107|               Fraud|      C6|2015|   11| Thursday|   8|  Part Two|   E FOURTH ST|       N|\n",
      "|             5|       2647|               Other|      D4|2015|   10| Saturday|  13|  Part Two|   BERKELEY ST|       N|\n",
      "|             6|       1102|               Fraud|     D14|2015|    9|  Tuesday|  11|  Part Two|    ALLSTON ST|       N|\n",
      "|             7|       3201|       Property Lost|     C11|2015|    8| Thursday|   8|Part Three|      EDWIN ST|       N|\n",
      "|             8|       1102|               Fraud|     C11|2015|   10|Wednesday|  12|  Part Two| WASHINGTON ST|       N|\n",
      "|             9|       1102|               Fraud|     C11|2015|    8| Saturday|   6|  Part Two|     DITSON ST|       N|\n",
      "|            10|       1107|               Fraud|      A1|2015|    8| Saturday|  15|  Part Two| WASHINGTON ST|       N|\n",
      "|            11|       1107|               Fraud|    null|2015|    7|Wednesday|  24|  Part Two|        COBDEN|       N|\n",
      "|            12|        735| Auto Theft Recovery|     C11|2015|   11|   Sunday|  11|     Other|     HALLET ST|       N|\n",
      "|            13|       1102|               Fraud|     C11|2015|   12|   Monday|   4|  Part Two|     DRAPER ST|       N|\n",
      "|            14|       1107|               Fraud|      A7|2015|    7|Wednesday|   8|  Part Two|      PARIS ST|       N|\n",
      "|            15|       1102|               Fraud|     C11|2015|    9|  Tuesday|  24|  Part Two|    TOPLIFF ST|       N|\n",
      "|            16|       1102|               Fraud|     C11|2015|    9| Thursday|   9|  Part Two|     SEMONT RD|       N|\n",
      "|            17|        615|Larceny From Moto...|     C11|2015|   10| Thursday|   8|  Part One|      EDWIN ST|       N|\n",
      "|            18|       3115|  Investigate Person|     D14|2015|    7|Wednesday|  24|Part Three|WALLINGFORD RD|       N|\n",
      "|            19|       1102|               Fraud|      A1|2015|    8|   Friday|   9|  Part Two|      BROAD ST|       N|\n",
      "|            20|       1102|               Fraud|      D4|2015|   10| Thursday|  24|  Part Two|     ALBANY ST|       N|\n",
      "+--------------+-----------+--------------------+--------+----+-----+---------+----+----------+--------------+--------+\n",
      "only showing top 20 rows\n",
      "\n"
     ]
    }
   ],
   "source": [
    "# The show method allows to visualise DataFrames in a tabular format. \n",
    "df.show()"
   ]
  },
  {
   "cell_type": "code",
   "execution_count": 112,
   "metadata": {},
   "outputs": [
    {
     "name": "stdout",
     "output_type": "stream",
     "text": [
      "root\n",
      " |-- INCIDENTNUMBER: integer (nullable = true)\n",
      " |-- OFFENSECODE: integer (nullable = true)\n",
      " |-- OFFENSECODEGROUP: string (nullable = true)\n",
      " |-- DISTRICT: string (nullable = true)\n",
      " |-- YEAR: integer (nullable = true)\n",
      " |-- MONTH: integer (nullable = true)\n",
      " |-- DAYOFWEEK: string (nullable = true)\n",
      " |-- HOUR: integer (nullable = true)\n",
      " |-- UCRPART: string (nullable = true)\n",
      " |-- STREET: string (nullable = true)\n",
      " |-- SHOOTING: string (nullable = true)\n",
      "\n"
     ]
    }
   ],
   "source": [
    "# Print schema allows to visualise the data structure at a high level. \n",
    "df.printSchema()"
   ]
  },
  {
   "cell_type": "code",
   "execution_count": 113,
   "metadata": {},
   "outputs": [
    {
     "name": "stdout",
     "output_type": "stream",
     "text": [
      "[Row(INCIDENTNUMBER=1, OFFENSECODE=1102, OFFENSECODEGROUP='Fraud', DISTRICT='D4', YEAR=2015, MONTH=12, DAYOFWEEK='Sunday', HOUR=14, UCRPART='Part Two', STREET='WESTLAND AVE', SHOOTING='N')]\n"
     ]
    }
   ],
   "source": [
    "# Use head to print a specific amount of rows, so I can get a better understanding of the data points. \n",
    "print(df.head(1))"
   ]
  },
  {
   "cell_type": "code",
   "execution_count": 114,
   "metadata": {},
   "outputs": [
    {
     "name": "stdout",
     "output_type": "stream",
     "text": [
      "+-------+------------------+------------------+------------------+--------+------------------+-----------------+---------+-----------------+--------+---------+--------+\n",
      "|summary|    INCIDENTNUMBER|       OFFENSECODE|  OFFENSECODEGROUP|DISTRICT|              YEAR|            MONTH|DAYOFWEEK|             HOUR| UCRPART|   STREET|SHOOTING|\n",
      "+-------+------------------+------------------+------------------+--------+------------------+-----------------+---------+-----------------+--------+---------+--------+\n",
      "|  count|               800|               800|               800|     772|               800|              800|      800|              800|     800|      783|     800|\n",
      "|   mean|             400.5|        1949.24875|              null|    null|        2016.50375|           8.2025|     null|            15.49|    null|     null|    null|\n",
      "| stddev|231.08440016582685|1095.3304308812276|              null|    null|1.1209623692572204|2.677770867909777|     null|6.011661591762074|    null|     null|    null|\n",
      "|    min|                 1|               301|Aggravated Assault|      A1|              2015|                1|   Friday|                1|   Other| ADAMS ST|       N|\n",
      "|    max|               800|              3831|   Warrant Arrests|      E5|              2018|               12|Wednesday|               24|Part Two|ZAMORA ST|       Y|\n",
      "+-------+------------------+------------------+------------------+--------+------------------+-----------------+---------+-----------------+--------+---------+--------+\n",
      "\n"
     ]
    }
   ],
   "source": [
    "# Use the describe method get some general statistics on the data too. \n",
    "df.describe().show()"
   ]
  },
  {
   "cell_type": "code",
   "execution_count": 115,
   "metadata": {},
   "outputs": [
    {
     "name": "stdout",
     "output_type": "stream",
     "text": [
      "+-------+------------------+-----------------+-----------------+\n",
      "|summary|              YEAR|            MONTH|             HOUR|\n",
      "+-------+------------------+-----------------+-----------------+\n",
      "|  count|               800|              800|              800|\n",
      "|   mean|        2016.50375|           8.2025|            15.49|\n",
      "| stddev|1.1209623692572204|2.677770867909777|6.011661591762074|\n",
      "|    min|              2015|                1|                1|\n",
      "|    max|              2018|               12|               24|\n",
      "+-------+------------------+-----------------+-----------------+\n",
      "\n"
     ]
    }
   ],
   "source": [
    "# Select the columns that are integers, and use the describe method again,it shows the mean, standard deviation, min and max. \n",
    "# My dataset is categorical data rather than numerical, therfore this step is actually not applicable to my dataset,however, it gives me more understanding on deal with the numerical problem in the future.\n",
    "df.select('YEAR','MONTH','HOUR').describe().show()"
   ]
  },
  {
   "cell_type": "code",
   "execution_count": 116,
   "metadata": {
    "scrolled": true
   },
   "outputs": [
    {
     "name": "stdout",
     "output_type": "stream",
     "text": [
      "+-------+------------------+------------------+------------------+--------+------------------+-----------------+---------+-----------------+--------+---------+--------+\n",
      "|summary|    INCIDENTNUMBER|       OFFENSECODE|  OFFENSECODEGROUP|DISTRICT|              YEAR|            MONTH|DAYOFWEEK|             HOUR| UCRPART|   STREET|SHOOTING|\n",
      "+-------+------------------+------------------+------------------+--------+------------------+-----------------+---------+-----------------+--------+---------+--------+\n",
      "|  count|               800|               800|               800|     772|               800|              800|      800|              800|     800|      783|     800|\n",
      "|   mean|             400.5|        1949.24875|              null|    null|        2016.50375|           8.2025|     null|            15.49|    null|     null|    null|\n",
      "| stddev|231.08440016582685|1095.3304308812276|              null|    null|1.1209623692572204|2.677770867909777|     null|6.011661591762074|    null|     null|    null|\n",
      "|    min|                 1|               301|Aggravated Assault|      A1|              2015|                1|   Friday|                1|   Other| ADAMS ST|       N|\n",
      "|    max|               800|              3831|   Warrant Arrests|      E5|              2018|               12|Wednesday|               24|Part Two|ZAMORA ST|       Y|\n",
      "+-------+------------------+------------------+------------------+--------+------------------+-----------------+---------+-----------------+--------+---------+--------+\n",
      "\n"
     ]
    }
   ],
   "source": [
    "# Select all columns of the dataset, describe and show the detailed information.\n",
    "df.select('INCIDENTNUMBER','OFFENSECODE','OFFENSECODEGROUP','DISTRICT','YEAR','MONTH','DAYOFWEEK','HOUR','UCRPART','STREET','SHOOTING').describe().show()"
   ]
  },
  {
   "cell_type": "code",
   "execution_count": 159,
   "metadata": {},
   "outputs": [],
   "source": [
    "df1 = pd.read_csv('BostonCrime2.0.csv')"
   ]
  },
  {
   "cell_type": "code",
   "execution_count": 160,
   "metadata": {},
   "outputs": [
    {
     "name": "stdout",
     "output_type": "stream",
     "text": [
      "(800, 11)\n"
     ]
    }
   ],
   "source": [
    "print(df1.shape)"
   ]
  },
  {
   "cell_type": "code",
   "execution_count": 161,
   "metadata": {},
   "outputs": [
    {
     "name": "stdout",
     "output_type": "stream",
     "text": [
      "Index(['INCIDENTNUMBER', 'OFFENSECODE', 'OFFENSECODEGROUP', 'DISTRICT', 'YEAR',\n",
      "       'MONTH', 'DAYOFWEEK', 'HOUR', 'UCRPART', 'STREET', 'SHOOTING'],\n",
      "      dtype='object')\n"
     ]
    }
   ],
   "source": [
    "print(df1.columns)"
   ]
  },
  {
   "cell_type": "code",
   "execution_count": 163,
   "metadata": {},
   "outputs": [
    {
     "data": {
      "text/html": [
       "<div>\n",
       "<style scoped>\n",
       "    .dataframe tbody tr th:only-of-type {\n",
       "        vertical-align: middle;\n",
       "    }\n",
       "\n",
       "    .dataframe tbody tr th {\n",
       "        vertical-align: top;\n",
       "    }\n",
       "\n",
       "    .dataframe thead th {\n",
       "        text-align: right;\n",
       "    }\n",
       "</style>\n",
       "<table border=\"1\" class=\"dataframe\">\n",
       "  <thead>\n",
       "    <tr style=\"text-align: right;\">\n",
       "      <th></th>\n",
       "      <th>INCIDENTNUMBER</th>\n",
       "      <th>OFFENSECODE</th>\n",
       "      <th>YEAR</th>\n",
       "      <th>MONTH</th>\n",
       "      <th>HOUR</th>\n",
       "    </tr>\n",
       "  </thead>\n",
       "  <tbody>\n",
       "    <tr>\n",
       "      <th>count</th>\n",
       "      <td>800.0000</td>\n",
       "      <td>800.000000</td>\n",
       "      <td>800.000000</td>\n",
       "      <td>800.000000</td>\n",
       "      <td>800.000000</td>\n",
       "    </tr>\n",
       "    <tr>\n",
       "      <th>mean</th>\n",
       "      <td>400.5000</td>\n",
       "      <td>1949.248750</td>\n",
       "      <td>2016.503750</td>\n",
       "      <td>8.202500</td>\n",
       "      <td>15.490000</td>\n",
       "    </tr>\n",
       "    <tr>\n",
       "      <th>std</th>\n",
       "      <td>231.0844</td>\n",
       "      <td>1095.330431</td>\n",
       "      <td>1.120962</td>\n",
       "      <td>2.677771</td>\n",
       "      <td>6.011662</td>\n",
       "    </tr>\n",
       "    <tr>\n",
       "      <th>min</th>\n",
       "      <td>1.0000</td>\n",
       "      <td>301.000000</td>\n",
       "      <td>2015.000000</td>\n",
       "      <td>1.000000</td>\n",
       "      <td>1.000000</td>\n",
       "    </tr>\n",
       "    <tr>\n",
       "      <th>25%</th>\n",
       "      <td>200.7500</td>\n",
       "      <td>1102.000000</td>\n",
       "      <td>2015.750000</td>\n",
       "      <td>7.000000</td>\n",
       "      <td>12.000000</td>\n",
       "    </tr>\n",
       "    <tr>\n",
       "      <th>50%</th>\n",
       "      <td>400.5000</td>\n",
       "      <td>1402.000000</td>\n",
       "      <td>2017.000000</td>\n",
       "      <td>8.000000</td>\n",
       "      <td>14.000000</td>\n",
       "    </tr>\n",
       "    <tr>\n",
       "      <th>75%</th>\n",
       "      <td>600.2500</td>\n",
       "      <td>3115.000000</td>\n",
       "      <td>2018.000000</td>\n",
       "      <td>10.000000</td>\n",
       "      <td>24.000000</td>\n",
       "    </tr>\n",
       "    <tr>\n",
       "      <th>max</th>\n",
       "      <td>800.0000</td>\n",
       "      <td>3831.000000</td>\n",
       "      <td>2018.000000</td>\n",
       "      <td>12.000000</td>\n",
       "      <td>24.000000</td>\n",
       "    </tr>\n",
       "  </tbody>\n",
       "</table>\n",
       "</div>"
      ],
      "text/plain": [
       "       INCIDENTNUMBER  OFFENSECODE         YEAR       MONTH        HOUR\n",
       "count        800.0000   800.000000   800.000000  800.000000  800.000000\n",
       "mean         400.5000  1949.248750  2016.503750    8.202500   15.490000\n",
       "std          231.0844  1095.330431     1.120962    2.677771    6.011662\n",
       "min            1.0000   301.000000  2015.000000    1.000000    1.000000\n",
       "25%          200.7500  1102.000000  2015.750000    7.000000   12.000000\n",
       "50%          400.5000  1402.000000  2017.000000    8.000000   14.000000\n",
       "75%          600.2500  3115.000000  2018.000000   10.000000   24.000000\n",
       "max          800.0000  3831.000000  2018.000000   12.000000   24.000000"
      ]
     },
     "execution_count": 163,
     "metadata": {},
     "output_type": "execute_result"
    }
   ],
   "source": [
    "df1.describe()"
   ]
  },
  {
   "cell_type": "code",
   "execution_count": 164,
   "metadata": {},
   "outputs": [
    {
     "data": {
      "text/html": [
       "<div>\n",
       "<style scoped>\n",
       "    .dataframe tbody tr th:only-of-type {\n",
       "        vertical-align: middle;\n",
       "    }\n",
       "\n",
       "    .dataframe tbody tr th {\n",
       "        vertical-align: top;\n",
       "    }\n",
       "\n",
       "    .dataframe thead th {\n",
       "        text-align: right;\n",
       "    }\n",
       "</style>\n",
       "<table border=\"1\" class=\"dataframe\">\n",
       "  <thead>\n",
       "    <tr style=\"text-align: right;\">\n",
       "      <th></th>\n",
       "      <th>INCIDENTNUMBER</th>\n",
       "      <th>OFFENSECODE</th>\n",
       "      <th>OFFENSECODEGROUP</th>\n",
       "      <th>DISTRICT</th>\n",
       "      <th>YEAR</th>\n",
       "      <th>MONTH</th>\n",
       "      <th>DAYOFWEEK</th>\n",
       "      <th>HOUR</th>\n",
       "      <th>UCRPART</th>\n",
       "      <th>STREET</th>\n",
       "      <th>SHOOTING</th>\n",
       "    </tr>\n",
       "  </thead>\n",
       "  <tbody>\n",
       "    <tr>\n",
       "      <th>0</th>\n",
       "      <td>1</td>\n",
       "      <td>1102</td>\n",
       "      <td>Fraud</td>\n",
       "      <td>D4</td>\n",
       "      <td>2015</td>\n",
       "      <td>12</td>\n",
       "      <td>Sunday</td>\n",
       "      <td>14</td>\n",
       "      <td>Part Two</td>\n",
       "      <td>WESTLAND AVE</td>\n",
       "      <td>N</td>\n",
       "    </tr>\n",
       "    <tr>\n",
       "      <th>1</th>\n",
       "      <td>2</td>\n",
       "      <td>619</td>\n",
       "      <td>Larceny</td>\n",
       "      <td>D4</td>\n",
       "      <td>2015</td>\n",
       "      <td>12</td>\n",
       "      <td>Sunday</td>\n",
       "      <td>14</td>\n",
       "      <td>Part One</td>\n",
       "      <td>WESTLAND AVE</td>\n",
       "      <td>N</td>\n",
       "    </tr>\n",
       "    <tr>\n",
       "      <th>2</th>\n",
       "      <td>3</td>\n",
       "      <td>1107</td>\n",
       "      <td>Fraud</td>\n",
       "      <td>E18</td>\n",
       "      <td>2015</td>\n",
       "      <td>7</td>\n",
       "      <td>Wednesday</td>\n",
       "      <td>12</td>\n",
       "      <td>Part Two</td>\n",
       "      <td>OAKCREST RD</td>\n",
       "      <td>N</td>\n",
       "    </tr>\n",
       "    <tr>\n",
       "      <th>3</th>\n",
       "      <td>4</td>\n",
       "      <td>1107</td>\n",
       "      <td>Fraud</td>\n",
       "      <td>C6</td>\n",
       "      <td>2015</td>\n",
       "      <td>11</td>\n",
       "      <td>Thursday</td>\n",
       "      <td>8</td>\n",
       "      <td>Part Two</td>\n",
       "      <td>E FOURTH ST</td>\n",
       "      <td>N</td>\n",
       "    </tr>\n",
       "    <tr>\n",
       "      <th>4</th>\n",
       "      <td>5</td>\n",
       "      <td>2647</td>\n",
       "      <td>Other</td>\n",
       "      <td>D4</td>\n",
       "      <td>2015</td>\n",
       "      <td>10</td>\n",
       "      <td>Saturday</td>\n",
       "      <td>13</td>\n",
       "      <td>Part Two</td>\n",
       "      <td>BERKELEY ST</td>\n",
       "      <td>N</td>\n",
       "    </tr>\n",
       "    <tr>\n",
       "      <th>5</th>\n",
       "      <td>6</td>\n",
       "      <td>1102</td>\n",
       "      <td>Fraud</td>\n",
       "      <td>D14</td>\n",
       "      <td>2015</td>\n",
       "      <td>9</td>\n",
       "      <td>Tuesday</td>\n",
       "      <td>11</td>\n",
       "      <td>Part Two</td>\n",
       "      <td>ALLSTON ST</td>\n",
       "      <td>N</td>\n",
       "    </tr>\n",
       "    <tr>\n",
       "      <th>6</th>\n",
       "      <td>7</td>\n",
       "      <td>3201</td>\n",
       "      <td>Property Lost</td>\n",
       "      <td>C11</td>\n",
       "      <td>2015</td>\n",
       "      <td>8</td>\n",
       "      <td>Thursday</td>\n",
       "      <td>8</td>\n",
       "      <td>Part Three</td>\n",
       "      <td>EDWIN ST</td>\n",
       "      <td>N</td>\n",
       "    </tr>\n",
       "    <tr>\n",
       "      <th>7</th>\n",
       "      <td>8</td>\n",
       "      <td>1102</td>\n",
       "      <td>Fraud</td>\n",
       "      <td>C11</td>\n",
       "      <td>2015</td>\n",
       "      <td>10</td>\n",
       "      <td>Wednesday</td>\n",
       "      <td>12</td>\n",
       "      <td>Part Two</td>\n",
       "      <td>WASHINGTON ST</td>\n",
       "      <td>N</td>\n",
       "    </tr>\n",
       "    <tr>\n",
       "      <th>8</th>\n",
       "      <td>9</td>\n",
       "      <td>1102</td>\n",
       "      <td>Fraud</td>\n",
       "      <td>C11</td>\n",
       "      <td>2015</td>\n",
       "      <td>8</td>\n",
       "      <td>Saturday</td>\n",
       "      <td>6</td>\n",
       "      <td>Part Two</td>\n",
       "      <td>DITSON ST</td>\n",
       "      <td>N</td>\n",
       "    </tr>\n",
       "    <tr>\n",
       "      <th>9</th>\n",
       "      <td>10</td>\n",
       "      <td>1107</td>\n",
       "      <td>Fraud</td>\n",
       "      <td>A1</td>\n",
       "      <td>2015</td>\n",
       "      <td>8</td>\n",
       "      <td>Saturday</td>\n",
       "      <td>15</td>\n",
       "      <td>Part Two</td>\n",
       "      <td>WASHINGTON ST</td>\n",
       "      <td>N</td>\n",
       "    </tr>\n",
       "    <tr>\n",
       "      <th>10</th>\n",
       "      <td>11</td>\n",
       "      <td>1107</td>\n",
       "      <td>Fraud</td>\n",
       "      <td>NaN</td>\n",
       "      <td>2015</td>\n",
       "      <td>7</td>\n",
       "      <td>Wednesday</td>\n",
       "      <td>24</td>\n",
       "      <td>Part Two</td>\n",
       "      <td>COBDEN</td>\n",
       "      <td>N</td>\n",
       "    </tr>\n",
       "    <tr>\n",
       "      <th>11</th>\n",
       "      <td>12</td>\n",
       "      <td>735</td>\n",
       "      <td>Auto Theft Recovery</td>\n",
       "      <td>C11</td>\n",
       "      <td>2015</td>\n",
       "      <td>11</td>\n",
       "      <td>Sunday</td>\n",
       "      <td>11</td>\n",
       "      <td>Other</td>\n",
       "      <td>HALLET ST</td>\n",
       "      <td>N</td>\n",
       "    </tr>\n",
       "    <tr>\n",
       "      <th>12</th>\n",
       "      <td>13</td>\n",
       "      <td>1102</td>\n",
       "      <td>Fraud</td>\n",
       "      <td>C11</td>\n",
       "      <td>2015</td>\n",
       "      <td>12</td>\n",
       "      <td>Monday</td>\n",
       "      <td>4</td>\n",
       "      <td>Part Two</td>\n",
       "      <td>DRAPER ST</td>\n",
       "      <td>N</td>\n",
       "    </tr>\n",
       "    <tr>\n",
       "      <th>13</th>\n",
       "      <td>14</td>\n",
       "      <td>1107</td>\n",
       "      <td>Fraud</td>\n",
       "      <td>A7</td>\n",
       "      <td>2015</td>\n",
       "      <td>7</td>\n",
       "      <td>Wednesday</td>\n",
       "      <td>8</td>\n",
       "      <td>Part Two</td>\n",
       "      <td>PARIS ST</td>\n",
       "      <td>N</td>\n",
       "    </tr>\n",
       "    <tr>\n",
       "      <th>14</th>\n",
       "      <td>15</td>\n",
       "      <td>1102</td>\n",
       "      <td>Fraud</td>\n",
       "      <td>C11</td>\n",
       "      <td>2015</td>\n",
       "      <td>9</td>\n",
       "      <td>Tuesday</td>\n",
       "      <td>24</td>\n",
       "      <td>Part Two</td>\n",
       "      <td>TOPLIFF ST</td>\n",
       "      <td>N</td>\n",
       "    </tr>\n",
       "    <tr>\n",
       "      <th>15</th>\n",
       "      <td>16</td>\n",
       "      <td>1102</td>\n",
       "      <td>Fraud</td>\n",
       "      <td>C11</td>\n",
       "      <td>2015</td>\n",
       "      <td>9</td>\n",
       "      <td>Thursday</td>\n",
       "      <td>9</td>\n",
       "      <td>Part Two</td>\n",
       "      <td>SEMONT RD</td>\n",
       "      <td>N</td>\n",
       "    </tr>\n",
       "    <tr>\n",
       "      <th>16</th>\n",
       "      <td>17</td>\n",
       "      <td>615</td>\n",
       "      <td>Larceny From Motor Vehicle</td>\n",
       "      <td>C11</td>\n",
       "      <td>2015</td>\n",
       "      <td>10</td>\n",
       "      <td>Thursday</td>\n",
       "      <td>8</td>\n",
       "      <td>Part One</td>\n",
       "      <td>EDWIN ST</td>\n",
       "      <td>N</td>\n",
       "    </tr>\n",
       "    <tr>\n",
       "      <th>17</th>\n",
       "      <td>18</td>\n",
       "      <td>3115</td>\n",
       "      <td>Investigate Person</td>\n",
       "      <td>D14</td>\n",
       "      <td>2015</td>\n",
       "      <td>7</td>\n",
       "      <td>Wednesday</td>\n",
       "      <td>24</td>\n",
       "      <td>Part Three</td>\n",
       "      <td>WALLINGFORD RD</td>\n",
       "      <td>N</td>\n",
       "    </tr>\n",
       "    <tr>\n",
       "      <th>18</th>\n",
       "      <td>19</td>\n",
       "      <td>1102</td>\n",
       "      <td>Fraud</td>\n",
       "      <td>A1</td>\n",
       "      <td>2015</td>\n",
       "      <td>8</td>\n",
       "      <td>Friday</td>\n",
       "      <td>9</td>\n",
       "      <td>Part Two</td>\n",
       "      <td>BROAD ST</td>\n",
       "      <td>N</td>\n",
       "    </tr>\n",
       "    <tr>\n",
       "      <th>19</th>\n",
       "      <td>20</td>\n",
       "      <td>1102</td>\n",
       "      <td>Fraud</td>\n",
       "      <td>D4</td>\n",
       "      <td>2015</td>\n",
       "      <td>10</td>\n",
       "      <td>Thursday</td>\n",
       "      <td>24</td>\n",
       "      <td>Part Two</td>\n",
       "      <td>ALBANY ST</td>\n",
       "      <td>N</td>\n",
       "    </tr>\n",
       "  </tbody>\n",
       "</table>\n",
       "</div>"
      ],
      "text/plain": [
       "    INCIDENTNUMBER  OFFENSECODE            OFFENSECODEGROUP DISTRICT  YEAR  \\\n",
       "0                1         1102                       Fraud       D4  2015   \n",
       "1                2          619                     Larceny       D4  2015   \n",
       "2                3         1107                       Fraud      E18  2015   \n",
       "3                4         1107                       Fraud       C6  2015   \n",
       "4                5         2647                       Other       D4  2015   \n",
       "5                6         1102                       Fraud      D14  2015   \n",
       "6                7         3201               Property Lost      C11  2015   \n",
       "7                8         1102                       Fraud      C11  2015   \n",
       "8                9         1102                       Fraud      C11  2015   \n",
       "9               10         1107                       Fraud       A1  2015   \n",
       "10              11         1107                       Fraud      NaN  2015   \n",
       "11              12          735         Auto Theft Recovery      C11  2015   \n",
       "12              13         1102                       Fraud      C11  2015   \n",
       "13              14         1107                       Fraud       A7  2015   \n",
       "14              15         1102                       Fraud      C11  2015   \n",
       "15              16         1102                       Fraud      C11  2015   \n",
       "16              17          615  Larceny From Motor Vehicle      C11  2015   \n",
       "17              18         3115          Investigate Person      D14  2015   \n",
       "18              19         1102                       Fraud       A1  2015   \n",
       "19              20         1102                       Fraud       D4  2015   \n",
       "\n",
       "    MONTH  DAYOFWEEK  HOUR     UCRPART          STREET SHOOTING  \n",
       "0      12     Sunday    14    Part Two    WESTLAND AVE        N  \n",
       "1      12     Sunday    14    Part One    WESTLAND AVE        N  \n",
       "2       7  Wednesday    12    Part Two     OAKCREST RD        N  \n",
       "3      11   Thursday     8    Part Two     E FOURTH ST        N  \n",
       "4      10   Saturday    13    Part Two     BERKELEY ST        N  \n",
       "5       9    Tuesday    11    Part Two      ALLSTON ST        N  \n",
       "6       8   Thursday     8  Part Three        EDWIN ST        N  \n",
       "7      10  Wednesday    12    Part Two   WASHINGTON ST        N  \n",
       "8       8   Saturday     6    Part Two       DITSON ST        N  \n",
       "9       8   Saturday    15    Part Two   WASHINGTON ST        N  \n",
       "10      7  Wednesday    24    Part Two          COBDEN        N  \n",
       "11     11     Sunday    11       Other       HALLET ST        N  \n",
       "12     12     Monday     4    Part Two       DRAPER ST        N  \n",
       "13      7  Wednesday     8    Part Two        PARIS ST        N  \n",
       "14      9    Tuesday    24    Part Two      TOPLIFF ST        N  \n",
       "15      9   Thursday     9    Part Two       SEMONT RD        N  \n",
       "16     10   Thursday     8    Part One        EDWIN ST        N  \n",
       "17      7  Wednesday    24  Part Three  WALLINGFORD RD        N  \n",
       "18      8     Friday     9    Part Two        BROAD ST        N  \n",
       "19     10   Thursday    24    Part Two       ALBANY ST        N  "
      ]
     },
     "execution_count": 164,
     "metadata": {},
     "output_type": "execute_result"
    }
   ],
   "source": [
    "df1.head(20)"
   ]
  },
  {
   "cell_type": "code",
   "execution_count": 165,
   "metadata": {},
   "outputs": [
    {
     "data": {
      "image/png": "[encoded data removed]",
      "text/plain": [
       "<Figure size 432x288 with 1 Axes>"
      ]
     },
     "metadata": {},
     "output_type": "display_data"
    }
   ],
   "source": [
    "plt.hist(df1[\"DISTRICT\"])\n",
    "plt.show()"
   ]
  },
  {
   "cell_type": "code",
   "execution_count": 166,
   "metadata": {},
   "outputs": [
    {
     "data": {
      "image/png": "[encoded data removed]",
      "text/plain": [
       "<Figure size 432x288 with 1 Axes>"
      ]
     },
     "metadata": {},
     "output_type": "display_data"
    }
   ],
   "source": [
    "plt.hist(df1[\"HOUR\"])\n",
    "plt.show()"
   ]
  },
  {
   "cell_type": "code",
   "execution_count": 167,
   "metadata": {},
   "outputs": [
    {
     "data": {
      "text/plain": [
       "<matplotlib.axes._subplots.AxesSubplot at 0x7f4d92cfeba8>"
      ]
     },
     "execution_count": 167,
     "metadata": {},
     "output_type": "execute_result"
    },
    {
     "data": {
      "image/png": "[encoded data removed]",
      "text/plain": [
       "<Figure size 432x288 with 1 Axes>"
      ]
     },
     "metadata": {},
     "output_type": "display_data"
    }
   ],
   "source": [
    "df1['HOUR'].hist(bins=50)"
   ]
  },
  {
   "cell_type": "code",
   "execution_count": 168,
   "metadata": {},
   "outputs": [
    {
     "data": {
      "text/plain": [
       "<matplotlib.axes._subplots.AxesSubplot at 0x7f4d904c7cf8>"
      ]
     },
     "execution_count": 168,
     "metadata": {},
     "output_type": "execute_result"
    },
    {
     "data": {
      "image/png": "[encoded data removed]",
      "text/plain": [
       "<Figure size 432x288 with 1 Axes>"
      ]
     },
     "metadata": {},
     "output_type": "display_data"
    }
   ],
   "source": [
    "df1.boxplot(column='HOUR')"
   ]
  },
  {
   "cell_type": "code",
   "execution_count": 169,
   "metadata": {},
   "outputs": [
    {
     "data": {
      "text/plain": [
       "<matplotlib.axes._subplots.AxesSubplot at 0x7f4d901ad9b0>"
      ]
     },
     "execution_count": 169,
     "metadata": {},
     "output_type": "execute_result"
    },
    {
     "data": {
      "image/png": "[encoded data removed]",
      "text/plain": [
       "<Figure size 432x288 with 1 Axes>"
      ]
     },
     "metadata": {},
     "output_type": "display_data"
    }
   ],
   "source": [
    "df1.boxplot(column='HOUR',by='DISTRICT')"
   ]
  },
  {
   "cell_type": "code",
   "execution_count": 170,
   "metadata": {},
   "outputs": [
    {
     "data": {
      "text/plain": [
       "<matplotlib.axes._subplots.AxesSubplot at 0x7f4d95813048>"
      ]
     },
     "execution_count": 170,
     "metadata": {},
     "output_type": "execute_result"
    },
    {
     "data": {
      "image/png": "[encoded data removed]",
      "text/plain": [
       "<Figure size 432x288 with 1 Axes>"
      ]
     },
     "metadata": {},
     "output_type": "display_data"
    }
   ],
   "source": [
    "df1['OFFENSECODE'].hist(bins=50)"
   ]
  },
  {
   "cell_type": "code",
   "execution_count": 171,
   "metadata": {},
   "outputs": [
    {
     "data": {
      "text/plain": [
       "<matplotlib.axes._subplots.AxesSubplot at 0x7f4d92b846a0>"
      ]
     },
     "execution_count": 171,
     "metadata": {},
     "output_type": "execute_result"
    },
    {
     "data": {
      "image/png": "[encoded data removed]",
      "text/plain": [
       "<Figure size 432x288 with 1 Axes>"
      ]
     },
     "metadata": {},
     "output_type": "display_data"
    }
   ],
   "source": [
    "df1.boxplot(column='OFFENSECODE')"
   ]
  },
  {
   "cell_type": "code",
   "execution_count": 172,
   "metadata": {},
   "outputs": [
    {
     "data": {
      "text/plain": [
       "<matplotlib.axes._subplots.AxesSubplot at 0x7f4d927f4da0>"
      ]
     },
     "execution_count": 172,
     "metadata": {},
     "output_type": "execute_result"
    },
    {
     "data": {
      "image/png": "[encoded data removed]",
      "text/plain": [
       "<Figure size 432x288 with 1 Axes>"
      ]
     },
     "metadata": {},
     "output_type": "display_data"
    }
   ],
   "source": [
    "df1.boxplot(column='OFFENSECODE', by= 'DISTRICT')"
   ]
  },
  {
   "cell_type": "code",
   "execution_count": 173,
   "metadata": {},
   "outputs": [
    {
     "name": "stdout",
     "output_type": "stream",
     "text": [
      "2      15\n",
      "1      17\n",
      "4      17\n",
      "3      20\n",
      "5      23\n",
      "6      56\n",
      "8      56\n",
      "9      80\n",
      "11     86\n",
      "10     89\n",
      "12    109\n",
      "7     232\n",
      "Name: MONTH, dtype: int64\n"
     ]
    },
    {
     "data": {
      "text/plain": [
       "<matplotlib.axes._subplots.AxesSubplot at 0x7f4d926d7390>"
      ]
     },
     "execution_count": 173,
     "metadata": {},
     "output_type": "execute_result"
    },
    {
     "data": {
      "image/png": "[encoded data removed]",
      "text/plain": [
       "<Figure size 576x288 with 1 Axes>"
      ]
     },
     "metadata": {},
     "output_type": "display_data"
    },
    {
     "data": {
      "image/png": "[encoded data removed]",
      "text/plain": [
       "<Figure size 432x288 with 1 Axes>"
      ]
     },
     "metadata": {},
     "output_type": "display_data"
    }
   ],
   "source": [
    "temp1 = df1['MONTH'].value_counts(ascending=True)\n",
    "print (temp1)\n",
    "\n",
    "fig = plt.figure(figsize = (8,4))\n",
    "ax1 = fig.add_subplot(121)\n",
    "temp1.plot(kind='bar')\n",
    "\n",
    "temp2=pd.crosstab(df1['HOUR'],df1['SHOOTING'])\n",
    "temp2.plot(kind='bar', stacked=True, color=['red','blue'], grid=False)"
   ]
  },
  {
   "cell_type": "markdown",
   "metadata": {},
   "source": [
    "# Data Manipulation"
   ]
  },
  {
   "cell_type": "markdown",
   "metadata": {},
   "source": [
    "Using Select"
   ]
  },
  {
   "cell_type": "code",
   "execution_count": 117,
   "metadata": {},
   "outputs": [
    {
     "name": "stdout",
     "output_type": "stream",
     "text": [
      "+-----+\n",
      "|MONTH|\n",
      "+-----+\n",
      "|   12|\n",
      "|   12|\n",
      "|    7|\n",
      "|   11|\n",
      "|   10|\n",
      "|    9|\n",
      "|    8|\n",
      "|   10|\n",
      "|    8|\n",
      "|    8|\n",
      "|    7|\n",
      "|   11|\n",
      "|   12|\n",
      "|    7|\n",
      "|    9|\n",
      "|    9|\n",
      "|   10|\n",
      "|    7|\n",
      "|    8|\n",
      "|   10|\n",
      "+-----+\n",
      "only showing top 20 rows\n",
      "\n"
     ]
    }
   ],
   "source": [
    "# Select the MONTH column and assign it to a variable. \n",
    "mon_col = df.select('MONTH')\n",
    "\n",
    "# Use the show method on that variable.\n",
    "mon_col.show()"
   ]
  },
  {
   "cell_type": "markdown",
   "metadata": {},
   "source": [
    "Using Filter"
   ]
  },
  {
   "cell_type": "code",
   "execution_count": 118,
   "metadata": {},
   "outputs": [
    {
     "name": "stdout",
     "output_type": "stream",
     "text": [
      "+--------------+-----------+--------------------+--------+----+-----+---------+----+----------+--------------+--------+\n",
      "|INCIDENTNUMBER|OFFENSECODE|    OFFENSECODEGROUP|DISTRICT|YEAR|MONTH|DAYOFWEEK|HOUR|   UCRPART|        STREET|SHOOTING|\n",
      "+--------------+-----------+--------------------+--------+----+-----+---------+----+----------+--------------+--------+\n",
      "|             1|       1102|               Fraud|      D4|2015|   12|   Sunday|  14|  Part Two|  WESTLAND AVE|       N|\n",
      "|             2|        619|             Larceny|      D4|2015|   12|   Sunday|  14|  Part One|  WESTLAND AVE|       N|\n",
      "|             3|       1107|               Fraud|     E18|2015|    7|Wednesday|  12|  Part Two|   OAKCREST RD|       N|\n",
      "|             4|       1107|               Fraud|      C6|2015|   11| Thursday|   8|  Part Two|   E FOURTH ST|       N|\n",
      "|             5|       2647|               Other|      D4|2015|   10| Saturday|  13|  Part Two|   BERKELEY ST|       N|\n",
      "|             6|       1102|               Fraud|     D14|2015|    9|  Tuesday|  11|  Part Two|    ALLSTON ST|       N|\n",
      "|             7|       3201|       Property Lost|     C11|2015|    8| Thursday|   8|Part Three|      EDWIN ST|       N|\n",
      "|             8|       1102|               Fraud|     C11|2015|   10|Wednesday|  12|  Part Two| WASHINGTON ST|       N|\n",
      "|             9|       1102|               Fraud|     C11|2015|    8| Saturday|   6|  Part Two|     DITSON ST|       N|\n",
      "|            10|       1107|               Fraud|      A1|2015|    8| Saturday|  15|  Part Two| WASHINGTON ST|       N|\n",
      "|            11|       1107|               Fraud|    null|2015|    7|Wednesday|  24|  Part Two|        COBDEN|       N|\n",
      "|            12|        735| Auto Theft Recovery|     C11|2015|   11|   Sunday|  11|     Other|     HALLET ST|       N|\n",
      "|            13|       1102|               Fraud|     C11|2015|   12|   Monday|   4|  Part Two|     DRAPER ST|       N|\n",
      "|            14|       1107|               Fraud|      A7|2015|    7|Wednesday|   8|  Part Two|      PARIS ST|       N|\n",
      "|            15|       1102|               Fraud|     C11|2015|    9|  Tuesday|  24|  Part Two|    TOPLIFF ST|       N|\n",
      "|            16|       1102|               Fraud|     C11|2015|    9| Thursday|   9|  Part Two|     SEMONT RD|       N|\n",
      "|            17|        615|Larceny From Moto...|     C11|2015|   10| Thursday|   8|  Part One|      EDWIN ST|       N|\n",
      "|            18|       3115|  Investigate Person|     D14|2015|    7|Wednesday|  24|Part Three|WALLINGFORD RD|       N|\n",
      "|            19|       1102|               Fraud|      A1|2015|    8|   Friday|   9|  Part Two|      BROAD ST|       N|\n",
      "|            20|       1102|               Fraud|      D4|2015|   10| Thursday|  24|  Part Two|     ALBANY ST|       N|\n",
      "+--------------+-----------+--------------------+--------+----+-----+---------+----+----------+--------------+--------+\n",
      "only showing top 20 rows\n",
      "\n",
      "+----+-----+\n",
      "|YEAR|MONTH|\n",
      "+----+-----+\n",
      "|2015|   12|\n",
      "|2015|   12|\n",
      "|2015|    7|\n",
      "|2015|   11|\n",
      "|2015|   10|\n",
      "|2015|    9|\n",
      "|2015|    8|\n",
      "|2015|   10|\n",
      "|2015|    8|\n",
      "|2015|    8|\n",
      "|2015|    7|\n",
      "|2015|   11|\n",
      "|2015|   12|\n",
      "|2015|    7|\n",
      "|2015|    9|\n",
      "|2015|    9|\n",
      "|2015|   10|\n",
      "|2015|    7|\n",
      "|2015|    8|\n",
      "|2015|   10|\n",
      "+----+-----+\n",
      "only showing top 20 rows\n",
      "\n"
     ]
    }
   ],
   "source": [
    "# Try out some additional DataFrame methods by using filter.\n",
    "# Using filter to identify crime occurs after June.\n",
    "df.filter(\"MONTH > 6\").show()\n",
    "\n",
    "# Use more advanced filters to see the crime occurs with corresponding years.\n",
    "df.filter(\"MONTH > 6\").select('YEAR','MONTH').show()"
   ]
  },
  {
   "cell_type": "code",
   "execution_count": 119,
   "metadata": {},
   "outputs": [
    {
     "name": "stdout",
     "output_type": "stream",
     "text": [
      "+--------------+-----------+--------------------+--------+----+-----+---------+----+----------+--------------------+--------+\n",
      "|INCIDENTNUMBER|OFFENSECODE|    OFFENSECODEGROUP|DISTRICT|YEAR|MONTH|DAYOFWEEK|HOUR|   UCRPART|              STREET|SHOOTING|\n",
      "+--------------+-----------+--------------------+--------+----+-----+---------+----+----------+--------------------+--------+\n",
      "|            38|       2629|          Harassment|     C11|2015|    6|   Monday|  24|  Part Two|        MELBOURNE ST|       N|\n",
      "|            93|       3018|  Medical Assistance|      C6|2015|    6|   Sunday|  12|Part Three|      NEW SUDBURY ST|       N|\n",
      "|            97|       1102|               Fraud|      D4|2015|    6|   Friday|  17|  Part Two|            OPERA PL|       N|\n",
      "|           123|       3501|Missing Person Re...|      B3|2015|    6| Saturday|  16|Part Three|         DRUMMOND ST|       N|\n",
      "|           124|       3502|Missing Person Lo...|      B3|2015|    6| Saturday|  16|Part Three|         DRUMMOND ST|       N|\n",
      "|           132|       1102|               Fraud|      D4|2015|    6|   Monday|   9|  Part Two|        DARTMOUTH ST|       N|\n",
      "|           140|       3115|  Investigate Person|     D14|2015|    6|  Tuesday|  16|Part Three|       LAKE SHORE RD|       N|\n",
      "|           141|       3201|       Property Lost|      B3|2015|    6|  Tuesday|  24|Part Three|          SPENCER ST|       N|\n",
      "|           142|       2629|          Harassment|      D4|2015|    6|   Monday|  12|  Part Two|   HARRISON ARCHWAYS|       N|\n",
      "|           205|       1102|               Fraud|     C11|2016|    6| Thursday|  24|  Part Two|          ARGYLE TER|       N|\n",
      "|           214|       2629|          Harassment|      D4|2016|    6|Wednesday|  11|  Part Two|        HARRISON AVE|       N|\n",
      "|           218|       2629|          Harassment|     A15|2016|    6|  Tuesday|   8|  Part Two|           N MEAD ST|       N|\n",
      "|           228|       3201|       Property Lost|     D14|2016|    6|Wednesday|  12|Part Three|            BUICK ST|       N|\n",
      "|           230|       2647|               Other|     E18|2016|    6|Wednesday|   8|  Part Two|           PIERCE ST|       N|\n",
      "|           241|       1102|               Fraud|     C11|2016|    6|Wednesday|   9|  Part Two|        SPEEDWELL ST|       N|\n",
      "|           245|       1102|               Fraud|      A1|2016|    6|   Monday|   9|  Part Two|           HUDSON ST|       N|\n",
      "|           259|       1102|               Fraud|      B3|2016|    6| Thursday|   9|  Part Two|        WOODRUFF WAY|       N|\n",
      "|           272|       3115|  Investigate Person|     C11|2016|    6|Wednesday|   8|Part Three|          SANTUIT ST|       N|\n",
      "|           301|        616|             Larceny|      D4|2016|    6|Wednesday|  12|  Part One|FATHER FRANCIS J ...|       N|\n",
      "|           311|       1102|               Fraud|      B2|2016|    6| Saturday|  24|  Part Two|          BURRELL ST|       N|\n",
      "+--------------+-----------+--------------------+--------+----+-----+---------+----+----------+--------------------+--------+\n",
      "only showing top 20 rows\n",
      "\n"
     ]
    }
   ],
   "source": [
    "# Use this filter to see the crime occurs in June.\n",
    "df.filter(df.MONTH == '6').show()"
   ]
  },
  {
   "cell_type": "code",
   "execution_count": 120,
   "metadata": {},
   "outputs": [
    {
     "name": "stdout",
     "output_type": "stream",
     "text": [
      "+--------------+-----------+--------------------+--------+----+-----+---------+----+----------+--------------------+--------+\n",
      "|INCIDENTNUMBER|OFFENSECODE|    OFFENSECODEGROUP|DISTRICT|YEAR|MONTH|DAYOFWEEK|HOUR|   UCRPART|              STREET|SHOOTING|\n",
      "+--------------+-----------+--------------------+--------+----+-----+---------+----+----------+--------------------+--------+\n",
      "|             3|       1107|               Fraud|     E18|2015|    7|Wednesday|  12|  Part Two|         OAKCREST RD|       N|\n",
      "|             8|       1102|               Fraud|     C11|2015|   10|Wednesday|  12|  Part Two|       WASHINGTON ST|       N|\n",
      "|            23|       3110|Police Service In...|      E5|2015|    9|  Tuesday|  12|Part Three|          DENTON TER|       N|\n",
      "|            32|       1102|               Fraud|      A1|2015|   10|  Tuesday|  12|  Part Two|            COURT ST|       N|\n",
      "|            33|       1109|               Fraud|      B2|2015|   11| Thursday|  12|  Part Two|       BLUE HILL AVE|       N|\n",
      "|            40|       1102|               Fraud|      B3|2015|    9|   Monday|  12|  Part Two|            EVANS ST|       N|\n",
      "|            42|       1107|               Fraud|      B2|2015|    8| Saturday|  12|  Part Two|       JOHN ELIOT SQ|       N|\n",
      "|            44|       3201|       Property Lost|     D14|2015|    9|   Friday|  12|Part Three|    COMMONWEALTH AVE|       N|\n",
      "|            54|       2647|               Other|      B2|2015|   12|  Tuesday|  12|  Part Two|         HIGHLAND ST|       N|\n",
      "|            56|       3201|       Property Lost|      C6|2015|    8| Saturday|  12|Part Three|      NEW SUDBURY ST|       N|\n",
      "|            65|       1107|               Fraud|      D4|2015|   12|  Tuesday|  12|  Part Two|         E NEWTON ST|       N|\n",
      "|            72|       1102|               Fraud|      C6|2015|   10| Thursday|  12|  Part Two|GENERAL LAWRENCE ...|       N|\n",
      "|            80|       1107|               Fraud|      D4|2015|   11| Saturday|  12|  Part Two|        LATTIMORE CT|       N|\n",
      "|            83|       1102|               Fraud|      C6|2015|   11|   Friday|  12|  Part Two|         COLUMBIA RD|       N|\n",
      "|            84|        614|Larceny From Moto...|      B2|2015|   11|  Tuesday|  12|  Part One|           QUINCY ST|       N|\n",
      "|            88|       1106|    Confidence Games|      D4|2015|   10|   Monday|  12|  Part Two|     PETERBOROUGH ST|       N|\n",
      "|            90|       1107|               Fraud|      D4|2015|   11|   Monday|  12|  Part Two|           ALBANY ST|       N|\n",
      "|            92|       2629|          Harassment|      B2|2015|   10|Wednesday|  12|  Part Two|          DUNMORE ST|       N|\n",
      "|            93|       3018|  Medical Assistance|      C6|2015|    6|   Sunday|  12|Part Three|      NEW SUDBURY ST|       N|\n",
      "|            94|       1102|               Fraud|      E5|2015|   10| Saturday|  12|  Part Two|             JUNE ST|       N|\n",
      "+--------------+-----------+--------------------+--------+----+-----+---------+----+----------+--------------------+--------+\n",
      "only showing top 20 rows\n",
      "\n"
     ]
    }
   ],
   "source": [
    "# Use this filter to see the crime occurs at 12.\n",
    "df.filter(\"HOUR='12'\").show()"
   ]
  },
  {
   "cell_type": "code",
   "execution_count": 121,
   "metadata": {},
   "outputs": [
    {
     "name": "stdout",
     "output_type": "stream",
     "text": [
      "+--------------+-----+----+\n",
      "|INCIDENTNUMBER|MONTH|HOUR|\n",
      "+--------------+-----+----+\n",
      "|             4|   11|   8|\n",
      "|             6|    9|  11|\n",
      "|             7|    8|   8|\n",
      "|             9|    8|   6|\n",
      "|            12|   11|  11|\n",
      "|            13|   12|   4|\n",
      "|            14|    7|   8|\n",
      "|            16|    9|   9|\n",
      "|            17|   10|   8|\n",
      "|            19|    8|   9|\n",
      "|            21|   12|   9|\n",
      "|            25|    9|   9|\n",
      "|            26|   10|   9|\n",
      "|            27|    8|   9|\n",
      "|            28|    7|   2|\n",
      "|            29|   10|   9|\n",
      "|            31|   11|   9|\n",
      "|            43|    9|   7|\n",
      "|            45|    8|   9|\n",
      "|            55|    8|   9|\n",
      "+--------------+-----+----+\n",
      "only showing top 20 rows\n",
      "\n"
     ]
    }
   ],
   "source": [
    "# Use multiple condition in the filters to see those crime that occurred after June and before 12pm. \n",
    "df.filter(\"MONTH > 6 AND HOUR < 12\").select('INCIDENTNUMBER','MONTH','HOUR').show()"
   ]
  },
  {
   "cell_type": "markdown",
   "metadata": {},
   "source": [
    "Mutate, or creating new columns"
   ]
  },
  {
   "cell_type": "code",
   "execution_count": 122,
   "metadata": {},
   "outputs": [
    {
     "name": "stdout",
     "output_type": "stream",
     "text": [
      "+--------------+-----------+--------------------+--------+----+-----+---------+----+----------+--------------+--------+---------+\n",
      "|INCIDENTNUMBER|OFFENSECODE|    OFFENSECODEGROUP|DISTRICT|YEAR|MONTH|DAYOFWEEK|HOUR|   UCRPART|        STREET|SHOOTING|YEARMONTH|\n",
      "+--------------+-----------+--------------------+--------+----+-----+---------+----+----------+--------------+--------+---------+\n",
      "|             1|       1102|               Fraud|      D4|2015|   12|   Sunday|  14|  Part Two|  WESTLAND AVE|       N|    24180|\n",
      "|             2|        619|             Larceny|      D4|2015|   12|   Sunday|  14|  Part One|  WESTLAND AVE|       N|    24180|\n",
      "|             3|       1107|               Fraud|     E18|2015|    7|Wednesday|  12|  Part Two|   OAKCREST RD|       N|    14105|\n",
      "|             4|       1107|               Fraud|      C6|2015|   11| Thursday|   8|  Part Two|   E FOURTH ST|       N|    22165|\n",
      "|             5|       2647|               Other|      D4|2015|   10| Saturday|  13|  Part Two|   BERKELEY ST|       N|    20150|\n",
      "|             6|       1102|               Fraud|     D14|2015|    9|  Tuesday|  11|  Part Two|    ALLSTON ST|       N|    18135|\n",
      "|             7|       3201|       Property Lost|     C11|2015|    8| Thursday|   8|Part Three|      EDWIN ST|       N|    16120|\n",
      "|             8|       1102|               Fraud|     C11|2015|   10|Wednesday|  12|  Part Two| WASHINGTON ST|       N|    20150|\n",
      "|             9|       1102|               Fraud|     C11|2015|    8| Saturday|   6|  Part Two|     DITSON ST|       N|    16120|\n",
      "|            10|       1107|               Fraud|      A1|2015|    8| Saturday|  15|  Part Two| WASHINGTON ST|       N|    16120|\n",
      "|            11|       1107|               Fraud|    null|2015|    7|Wednesday|  24|  Part Two|        COBDEN|       N|    14105|\n",
      "|            12|        735| Auto Theft Recovery|     C11|2015|   11|   Sunday|  11|     Other|     HALLET ST|       N|    22165|\n",
      "|            13|       1102|               Fraud|     C11|2015|   12|   Monday|   4|  Part Two|     DRAPER ST|       N|    24180|\n",
      "|            14|       1107|               Fraud|      A7|2015|    7|Wednesday|   8|  Part Two|      PARIS ST|       N|    14105|\n",
      "|            15|       1102|               Fraud|     C11|2015|    9|  Tuesday|  24|  Part Two|    TOPLIFF ST|       N|    18135|\n",
      "|            16|       1102|               Fraud|     C11|2015|    9| Thursday|   9|  Part Two|     SEMONT RD|       N|    18135|\n",
      "|            17|        615|Larceny From Moto...|     C11|2015|   10| Thursday|   8|  Part One|      EDWIN ST|       N|    20150|\n",
      "|            18|       3115|  Investigate Person|     D14|2015|    7|Wednesday|  24|Part Three|WALLINGFORD RD|       N|    14105|\n",
      "|            19|       1102|               Fraud|      A1|2015|    8|   Friday|   9|  Part Two|      BROAD ST|       N|    16120|\n",
      "|            20|       1102|               Fraud|      D4|2015|   10| Thursday|  24|  Part Two|     ALBANY ST|       N|    20150|\n",
      "+--------------+-----------+--------------------+--------+----+-----+---------+----+----------+--------------+--------+---------+\n",
      "only showing top 20 rows\n",
      "\n"
     ]
    }
   ],
   "source": [
    "# Only boolean type, string is not applicable, and my dataset is categorical data rather than numerical, \n",
    "# Therfore this step is just tried to use this functiton by YEARMONTH, the result is unnecessary here.\n",
    "df.withColumn('YEARMONTH', df.YEAR*df.MONTH).show()"
   ]
  },
  {
   "cell_type": "markdown",
   "metadata": {},
   "source": [
    "Summarize and group by data"
   ]
  },
  {
   "cell_type": "code",
   "execution_count": 123,
   "metadata": {},
   "outputs": [
    {
     "name": "stdout",
     "output_type": "stream",
     "text": [
      "+-----+-------------------+------------------+------------------+----------+------------------+\n",
      "|MONTH|avg(INCIDENTNUMBER)|  avg(OFFENSECODE)|         avg(YEAR)|avg(MONTH)|         avg(HOUR)|\n",
      "+-----+-------------------+------------------+------------------+----------+------------------+\n",
      "|   12|  298.0091743119266| 1735.697247706422|2015.9816513761468|      12.0|15.458715596330276|\n",
      "|    1| 339.05882352941177|1959.2941176470588|2016.4117647058824|       1.0|17.529411764705884|\n",
      "|    6| 387.76785714285717| 2149.214285714286|            2016.5|       6.0|              14.5|\n",
      "|    3|              403.6|           1981.25|            2016.5|       3.0|             15.35|\n",
      "|    5|  404.9130434782609|2087.1739130434785|2016.5652173913043|       5.0|13.695652173913043|\n",
      "|    9|            275.175|         1879.8125|         2015.8375|       9.0|             16.45|\n",
      "|    4|  361.1764705882353|1483.6470588235295|2016.3529411764705|       4.0|15.647058823529411|\n",
      "|    8| 267.67857142857144| 2092.214285714286| 2015.892857142857|       8.0|15.964285714285714|\n",
      "|    7|  616.5818965517242| 2165.668103448276|2017.5905172413793|       7.0|15.387931034482758|\n",
      "|   10|  307.7752808988764|1578.9550561797753|2016.0224719101125|      10.0|14.561797752808989|\n",
      "|   11| 280.06976744186045|1918.2790697674418|2015.8255813953488|      11.0| 16.63953488372093|\n",
      "|    2| 358.93333333333334|            1880.6|2016.2666666666667|       2.0|13.466666666666667|\n",
      "+-----+-------------------+------------------+------------------+----------+------------------+\n",
      "\n"
     ]
    }
   ],
   "source": [
    "# Group by MONTH, and the average Offensecode, Year, Month and Hour was calculated.\n",
    "# mean() automatically filters out any non-numeric features.\n",
    "df.groupBy('MONTH').mean().show()"
   ]
  },
  {
   "cell_type": "code",
   "execution_count": 124,
   "metadata": {},
   "outputs": [
    {
     "name": "stdout",
     "output_type": "stream",
     "text": [
      "+--------------------+-------------------+------------------+------------------+------------------+------------------+\n",
      "|              STREET|avg(INCIDENTNUMBER)|  avg(OFFENSECODE)|         avg(YEAR)|        avg(MONTH)|         avg(HOUR)|\n",
      "+--------------------+-------------------+------------------+------------------+------------------+------------------+\n",
      "|      GEORGETOWNE DR|               76.0|             619.0|            2015.0|              12.0|              14.0|\n",
      "|        CLARENDON ST|               99.0|            1102.0|            2015.0|               9.0|              12.0|\n",
      "|      DORCHESTER AVE| 290.44444444444446|1804.4444444444443| 2016.111111111111|10.222222222222221|16.333333333333332|\n",
      "|        HOLLANDER ST|              627.0|            1402.0|            2018.0|               7.0|               5.0|\n",
      "|          GENEVA AVE|              227.6|            2232.4|            2015.6|              11.4|               8.6|\n",
      "|         BRADWOOD ST|              491.0|            3801.0|            2017.0|              12.0|               9.0|\n",
      "|        GRANVILLE ST|              775.0|            3115.0|            2018.0|               7.0|               9.0|\n",
      "|            RHODA ST|              297.0|            1402.0|            2016.0|               9.0|              24.0|\n",
      "|        ARLINGTON ST|              484.0|            1102.0|            2017.0|               2.0|              12.0|\n",
      "|          STANTON ST|              131.0|            1102.0|            2015.0|               9.0|              16.0|\n",
      "|             VINE ST|              378.0|            1051.5|            2016.5|               7.0|              19.5|\n",
      "|      SAVIN HILL AVE|              486.0|            1102.0|            2017.0|               9.0|              13.0|\n",
      "|           SCHOOL ST|              765.0|            3115.0|            2018.0|               7.0|              12.0|\n",
      "|         WESTMOOR RD|              784.0|             617.0|            2018.0|               7.0|              12.0|\n",
      "|          ALLSTON ST|                6.0|            1102.0|            2015.0|               9.0|              11.0|\n",
      "|          PAYSON AVE|              231.0|            2351.0|            2015.5|               5.0|              16.5|\n",
      "|       BLUE HILL AVE|              479.0|2048.3076923076924|2016.8461538461538| 7.076923076923077|14.615384615384615|\n",
      "|MONSIGNOR DENNIS ...|               59.0|            1108.0|            2015.0|               8.0|              13.0|\n",
      "|   HARRISON ARCHWAYS|              142.0|            2629.0|            2015.0|               6.0|              12.0|\n",
      "|             RUTHVEN|              247.0|            1102.0|            2016.0|               3.0|               9.0|\n",
      "+--------------------+-------------------+------------------+------------------+------------------+------------------+\n",
      "only showing top 20 rows\n",
      "\n"
     ]
    }
   ],
   "source": [
    "# Group by STREET, and the average Offensecode, Year, Month and Hour was calculated.\n",
    "# mean() automatically filters out any non-numeric features.\n",
    "df.groupBy('STREET').mean().show()"
   ]
  },
  {
   "cell_type": "markdown",
   "metadata": {},
   "source": [
    "# Data Cleaning"
   ]
  },
  {
   "cell_type": "code",
   "execution_count": 125,
   "metadata": {},
   "outputs": [
    {
     "name": "stdout",
     "output_type": "stream",
     "text": [
      "+--------------+-----------+--------------------+--------+----+-----+---------+----+----------+--------------+--------+\n",
      "|INCIDENTNUMBER|OFFENSECODE|    OFFENSECODEGROUP|DISTRICT|YEAR|MONTH|DAYOFWEEK|HOUR|   UCRPART|        STREET|SHOOTING|\n",
      "+--------------+-----------+--------------------+--------+----+-----+---------+----+----------+--------------+--------+\n",
      "|             1|       1102|               Fraud|      D4|2015|   12|   Sunday|  14|  Part Two|  WESTLAND AVE|       N|\n",
      "|             2|        619|             Larceny|      D4|2015|   12|   Sunday|  14|  Part One|  WESTLAND AVE|       N|\n",
      "|             3|       1107|               Fraud|     E18|2015|    7|Wednesday|  12|  Part Two|   OAKCREST RD|       N|\n",
      "|             4|       1107|               Fraud|      C6|2015|   11| Thursday|   8|  Part Two|   E FOURTH ST|       N|\n",
      "|             5|       2647|               Other|      D4|2015|   10| Saturday|  13|  Part Two|   BERKELEY ST|       N|\n",
      "|             6|       1102|               Fraud|     D14|2015|    9|  Tuesday|  11|  Part Two|    ALLSTON ST|       N|\n",
      "|             7|       3201|       Property Lost|     C11|2015|    8| Thursday|   8|Part Three|      EDWIN ST|       N|\n",
      "|             8|       1102|               Fraud|     C11|2015|   10|Wednesday|  12|  Part Two| WASHINGTON ST|       N|\n",
      "|             9|       1102|               Fraud|     C11|2015|    8| Saturday|   6|  Part Two|     DITSON ST|       N|\n",
      "|            10|       1107|               Fraud|      A1|2015|    8| Saturday|  15|  Part Two| WASHINGTON ST|       N|\n",
      "|            11|       1107|               Fraud|    null|2015|    7|Wednesday|  24|  Part Two|        COBDEN|       N|\n",
      "|            12|        735| Auto Theft Recovery|     C11|2015|   11|   Sunday|  11|     Other|     HALLET ST|       N|\n",
      "|            13|       1102|               Fraud|     C11|2015|   12|   Monday|   4|  Part Two|     DRAPER ST|       N|\n",
      "|            14|       1107|               Fraud|      A7|2015|    7|Wednesday|   8|  Part Two|      PARIS ST|       N|\n",
      "|            15|       1102|               Fraud|     C11|2015|    9|  Tuesday|  24|  Part Two|    TOPLIFF ST|       N|\n",
      "|            16|       1102|               Fraud|     C11|2015|    9| Thursday|   9|  Part Two|     SEMONT RD|       N|\n",
      "|            17|        615|Larceny From Moto...|     C11|2015|   10| Thursday|   8|  Part One|      EDWIN ST|       N|\n",
      "|            18|       3115|  Investigate Person|     D14|2015|    7|Wednesday|  24|Part Three|WALLINGFORD RD|       N|\n",
      "|            19|       1102|               Fraud|      A1|2015|    8|   Friday|   9|  Part Two|      BROAD ST|       N|\n",
      "|            20|       1102|               Fraud|      D4|2015|   10| Thursday|  24|  Part Two|     ALBANY ST|       N|\n",
      "+--------------+-----------+--------------------+--------+----+-----+---------+----+----------+--------------+--------+\n",
      "only showing top 20 rows\n",
      "\n",
      "Total data points: 800\n"
     ]
    }
   ],
   "source": [
    "# Visually inspect the data. There are some nulls in the DISTRICT and STREET column. \n",
    "df.show()\n",
    "\n",
    "# See how many rows of data the dataset originally has.\n",
    "print(\"Total data points:\", df.count())"
   ]
  },
  {
   "cell_type": "markdown",
   "metadata": {},
   "source": [
    "Dropping Rows - Missing Data Point"
   ]
  },
  {
   "cell_type": "code",
   "execution_count": 126,
   "metadata": {},
   "outputs": [
    {
     "name": "stdout",
     "output_type": "stream",
     "text": [
      "+--------------+-----------+--------------------+--------+----+-----+---------+----+----------+--------------+--------+\n",
      "|INCIDENTNUMBER|OFFENSECODE|    OFFENSECODEGROUP|DISTRICT|YEAR|MONTH|DAYOFWEEK|HOUR|   UCRPART|        STREET|SHOOTING|\n",
      "+--------------+-----------+--------------------+--------+----+-----+---------+----+----------+--------------+--------+\n",
      "|             1|       1102|               Fraud|      D4|2015|   12|   Sunday|  14|  Part Two|  WESTLAND AVE|       N|\n",
      "|             2|        619|             Larceny|      D4|2015|   12|   Sunday|  14|  Part One|  WESTLAND AVE|       N|\n",
      "|             3|       1107|               Fraud|     E18|2015|    7|Wednesday|  12|  Part Two|   OAKCREST RD|       N|\n",
      "|             4|       1107|               Fraud|      C6|2015|   11| Thursday|   8|  Part Two|   E FOURTH ST|       N|\n",
      "|             5|       2647|               Other|      D4|2015|   10| Saturday|  13|  Part Two|   BERKELEY ST|       N|\n",
      "|             6|       1102|               Fraud|     D14|2015|    9|  Tuesday|  11|  Part Two|    ALLSTON ST|       N|\n",
      "|             7|       3201|       Property Lost|     C11|2015|    8| Thursday|   8|Part Three|      EDWIN ST|       N|\n",
      "|             8|       1102|               Fraud|     C11|2015|   10|Wednesday|  12|  Part Two| WASHINGTON ST|       N|\n",
      "|             9|       1102|               Fraud|     C11|2015|    8| Saturday|   6|  Part Two|     DITSON ST|       N|\n",
      "|            10|       1107|               Fraud|      A1|2015|    8| Saturday|  15|  Part Two| WASHINGTON ST|       N|\n",
      "|            12|        735| Auto Theft Recovery|     C11|2015|   11|   Sunday|  11|     Other|     HALLET ST|       N|\n",
      "|            13|       1102|               Fraud|     C11|2015|   12|   Monday|   4|  Part Two|     DRAPER ST|       N|\n",
      "|            14|       1107|               Fraud|      A7|2015|    7|Wednesday|   8|  Part Two|      PARIS ST|       N|\n",
      "|            15|       1102|               Fraud|     C11|2015|    9|  Tuesday|  24|  Part Two|    TOPLIFF ST|       N|\n",
      "|            16|       1102|               Fraud|     C11|2015|    9| Thursday|   9|  Part Two|     SEMONT RD|       N|\n",
      "|            17|        615|Larceny From Moto...|     C11|2015|   10| Thursday|   8|  Part One|      EDWIN ST|       N|\n",
      "|            18|       3115|  Investigate Person|     D14|2015|    7|Wednesday|  24|Part Three|WALLINGFORD RD|       N|\n",
      "|            19|       1102|               Fraud|      A1|2015|    8|   Friday|   9|  Part Two|      BROAD ST|       N|\n",
      "|            20|       1102|               Fraud|      D4|2015|   10| Thursday|  24|  Part Two|     ALBANY ST|       N|\n",
      "|            21|       1102|               Fraud|     C11|2015|   12|  Tuesday|   9|  Part Two|   JULIETTE ST|       N|\n",
      "+--------------+-----------+--------------------+--------+----+-----+---------+----+----------+--------------+--------+\n",
      "only showing top 20 rows\n",
      "\n",
      "Total data points: 769\n"
     ]
    }
   ],
   "source": [
    "# Drop the rows with missing data.\n",
    "# 'na' stands for Not Available. Using na, then use drop. \n",
    "dropped_df = df.na.drop()\n",
    "dropped_df.show()\n",
    "\n",
    "print(\"Total data points:\", dropped_df.count())"
   ]
  },
  {
   "cell_type": "code",
   "execution_count": 127,
   "metadata": {},
   "outputs": [
    {
     "name": "stdout",
     "output_type": "stream",
     "text": [
      "+--------------+-----------+--------------------+--------+----+-----+---------+----+----------+--------------+--------+\n",
      "|INCIDENTNUMBER|OFFENSECODE|    OFFENSECODEGROUP|DISTRICT|YEAR|MONTH|DAYOFWEEK|HOUR|   UCRPART|        STREET|SHOOTING|\n",
      "+--------------+-----------+--------------------+--------+----+-----+---------+----+----------+--------------+--------+\n",
      "|             1|       1102|               Fraud|      D4|2015|   12|   Sunday|  14|  Part Two|  WESTLAND AVE|       N|\n",
      "|             2|        619|             Larceny|      D4|2015|   12|   Sunday|  14|  Part One|  WESTLAND AVE|       N|\n",
      "|             3|       1107|               Fraud|     E18|2015|    7|Wednesday|  12|  Part Two|   OAKCREST RD|       N|\n",
      "|             4|       1107|               Fraud|      C6|2015|   11| Thursday|   8|  Part Two|   E FOURTH ST|       N|\n",
      "|             5|       2647|               Other|      D4|2015|   10| Saturday|  13|  Part Two|   BERKELEY ST|       N|\n",
      "|             6|       1102|               Fraud|     D14|2015|    9|  Tuesday|  11|  Part Two|    ALLSTON ST|       N|\n",
      "|             7|       3201|       Property Lost|     C11|2015|    8| Thursday|   8|Part Three|      EDWIN ST|       N|\n",
      "|             8|       1102|               Fraud|     C11|2015|   10|Wednesday|  12|  Part Two| WASHINGTON ST|       N|\n",
      "|             9|       1102|               Fraud|     C11|2015|    8| Saturday|   6|  Part Two|     DITSON ST|       N|\n",
      "|            10|       1107|               Fraud|      A1|2015|    8| Saturday|  15|  Part Two| WASHINGTON ST|       N|\n",
      "|            12|        735| Auto Theft Recovery|     C11|2015|   11|   Sunday|  11|     Other|     HALLET ST|       N|\n",
      "|            13|       1102|               Fraud|     C11|2015|   12|   Monday|   4|  Part Two|     DRAPER ST|       N|\n",
      "|            14|       1107|               Fraud|      A7|2015|    7|Wednesday|   8|  Part Two|      PARIS ST|       N|\n",
      "|            15|       1102|               Fraud|     C11|2015|    9|  Tuesday|  24|  Part Two|    TOPLIFF ST|       N|\n",
      "|            16|       1102|               Fraud|     C11|2015|    9| Thursday|   9|  Part Two|     SEMONT RD|       N|\n",
      "|            17|        615|Larceny From Moto...|     C11|2015|   10| Thursday|   8|  Part One|      EDWIN ST|       N|\n",
      "|            18|       3115|  Investigate Person|     D14|2015|    7|Wednesday|  24|Part Three|WALLINGFORD RD|       N|\n",
      "|            19|       1102|               Fraud|      A1|2015|    8|   Friday|   9|  Part Two|      BROAD ST|       N|\n",
      "|            20|       1102|               Fraud|      D4|2015|   10| Thursday|  24|  Part Two|     ALBANY ST|       N|\n",
      "|            21|       1102|               Fraud|     C11|2015|   12|  Tuesday|   9|  Part Two|   JULIETTE ST|       N|\n",
      "+--------------+-----------+--------------------+--------+----+-----+---------+----+----------+--------------+--------+\n",
      "only showing top 20 rows\n",
      "\n",
      "Total data points: 769\n"
     ]
    }
   ],
   "source": [
    "df = df.na.drop()\n",
    "\n",
    "# After using show, you'll find that the rows with the null values are gone. \n",
    "df.show()\n",
    "\n",
    "# See how many rows of data have now. \n",
    "print(\"Total data points:\", df.count())"
   ]
  },
  {
   "cell_type": "markdown",
   "metadata": {},
   "source": [
    "# Logistic Regression "
   ]
  },
  {
   "cell_type": "code",
   "execution_count": 128,
   "metadata": {},
   "outputs": [],
   "source": [
    "# Import the relevant packages.\n",
    "import findspark\n",
    "findspark.init('/home/ubuntu/spark-2.1.1-bin-hadoop2.7')\n",
    "import pyspark\n",
    "from pyspark.sql import *\n",
    "spark = SparkSession.builder.appName('INFOSYS722').getOrCreate()\n",
    "\n",
    "from pyspark.ml.classification import LogisticRegression"
   ]
  },
  {
   "cell_type": "code",
   "execution_count": 129,
   "metadata": {},
   "outputs": [
    {
     "name": "stdout",
     "output_type": "stream",
     "text": [
      "root\n",
      " |-- INCIDENTNUMBER: integer (nullable = true)\n",
      " |-- OFFENSECODE: integer (nullable = true)\n",
      " |-- OFFENSECODEGROUP: string (nullable = true)\n",
      " |-- DISTRICT: string (nullable = true)\n",
      " |-- YEAR: integer (nullable = true)\n",
      " |-- MONTH: integer (nullable = true)\n",
      " |-- DAYOFWEEK: string (nullable = true)\n",
      " |-- HOUR: integer (nullable = true)\n",
      " |-- UCRPART: string (nullable = true)\n",
      " |-- STREET: string (nullable = true)\n",
      " |-- SHOOTING: string (nullable = true)\n",
      "\n",
      "['INCIDENTNUMBER', 'OFFENSECODE', 'OFFENSECODEGROUP', 'DISTRICT', 'YEAR', 'MONTH', 'DAYOFWEEK', 'HOUR', 'UCRPART', 'STREET', 'SHOOTING']\n"
     ]
    }
   ],
   "source": [
    "# Print schema of columns to view the data's feature.\n",
    "df.printSchema()\n",
    "print(df.columns)"
   ]
  },
  {
   "cell_type": "markdown",
   "metadata": {},
   "source": [
    "Utilising Pandas"
   ]
  },
  {
   "cell_type": "code",
   "execution_count": 130,
   "metadata": {},
   "outputs": [
    {
     "data": {
      "text/html": [
       "<div>\n",
       "<style scoped>\n",
       "    .dataframe tbody tr th:only-of-type {\n",
       "        vertical-align: middle;\n",
       "    }\n",
       "\n",
       "    .dataframe tbody tr th {\n",
       "        vertical-align: top;\n",
       "    }\n",
       "\n",
       "    .dataframe thead th {\n",
       "        text-align: right;\n",
       "    }\n",
       "</style>\n",
       "<table border=\"1\" class=\"dataframe\">\n",
       "  <thead>\n",
       "    <tr style=\"text-align: right;\">\n",
       "      <th></th>\n",
       "      <th>INCIDENTNUMBER</th>\n",
       "      <th>OFFENSECODE</th>\n",
       "      <th>OFFENSECODEGROUP</th>\n",
       "      <th>DISTRICT</th>\n",
       "      <th>YEAR</th>\n",
       "      <th>MONTH</th>\n",
       "      <th>DAYOFWEEK</th>\n",
       "      <th>HOUR</th>\n",
       "      <th>UCRPART</th>\n",
       "      <th>STREET</th>\n",
       "      <th>SHOOTING</th>\n",
       "    </tr>\n",
       "  </thead>\n",
       "  <tbody>\n",
       "    <tr>\n",
       "      <th>0</th>\n",
       "      <td>1</td>\n",
       "      <td>1102</td>\n",
       "      <td>Fraud</td>\n",
       "      <td>D4</td>\n",
       "      <td>2015</td>\n",
       "      <td>12</td>\n",
       "      <td>Sunday</td>\n",
       "      <td>14</td>\n",
       "      <td>Part Two</td>\n",
       "      <td>WESTLAND AVE</td>\n",
       "      <td>N</td>\n",
       "    </tr>\n",
       "    <tr>\n",
       "      <th>1</th>\n",
       "      <td>2</td>\n",
       "      <td>619</td>\n",
       "      <td>Larceny</td>\n",
       "      <td>D4</td>\n",
       "      <td>2015</td>\n",
       "      <td>12</td>\n",
       "      <td>Sunday</td>\n",
       "      <td>14</td>\n",
       "      <td>Part One</td>\n",
       "      <td>WESTLAND AVE</td>\n",
       "      <td>N</td>\n",
       "    </tr>\n",
       "    <tr>\n",
       "      <th>2</th>\n",
       "      <td>3</td>\n",
       "      <td>1107</td>\n",
       "      <td>Fraud</td>\n",
       "      <td>E18</td>\n",
       "      <td>2015</td>\n",
       "      <td>7</td>\n",
       "      <td>Wednesday</td>\n",
       "      <td>12</td>\n",
       "      <td>Part Two</td>\n",
       "      <td>OAKCREST RD</td>\n",
       "      <td>N</td>\n",
       "    </tr>\n",
       "    <tr>\n",
       "      <th>3</th>\n",
       "      <td>4</td>\n",
       "      <td>1107</td>\n",
       "      <td>Fraud</td>\n",
       "      <td>C6</td>\n",
       "      <td>2015</td>\n",
       "      <td>11</td>\n",
       "      <td>Thursday</td>\n",
       "      <td>8</td>\n",
       "      <td>Part Two</td>\n",
       "      <td>E FOURTH ST</td>\n",
       "      <td>N</td>\n",
       "    </tr>\n",
       "    <tr>\n",
       "      <th>4</th>\n",
       "      <td>5</td>\n",
       "      <td>2647</td>\n",
       "      <td>Other</td>\n",
       "      <td>D4</td>\n",
       "      <td>2015</td>\n",
       "      <td>10</td>\n",
       "      <td>Saturday</td>\n",
       "      <td>13</td>\n",
       "      <td>Part Two</td>\n",
       "      <td>BERKELEY ST</td>\n",
       "      <td>N</td>\n",
       "    </tr>\n",
       "  </tbody>\n",
       "</table>\n",
       "</div>"
      ],
      "text/plain": [
       "   INCIDENTNUMBER  OFFENSECODE OFFENSECODEGROUP DISTRICT  YEAR  MONTH  \\\n",
       "0               1         1102            Fraud       D4  2015     12   \n",
       "1               2          619          Larceny       D4  2015     12   \n",
       "2               3         1107            Fraud      E18  2015      7   \n",
       "3               4         1107            Fraud       C6  2015     11   \n",
       "4               5         2647            Other       D4  2015     10   \n",
       "\n",
       "   DAYOFWEEK  HOUR   UCRPART        STREET SHOOTING  \n",
       "0     Sunday    14  Part Two  WESTLAND AVE        N  \n",
       "1     Sunday    14  Part One  WESTLAND AVE        N  \n",
       "2  Wednesday    12  Part Two   OAKCREST RD        N  \n",
       "3   Thursday     8  Part Two   E FOURTH ST        N  \n",
       "4   Saturday    13  Part Two   BERKELEY ST        N  "
      ]
     },
     "execution_count": 130,
     "metadata": {},
     "output_type": "execute_result"
    }
   ],
   "source": [
    "# Import pandas.\n",
    "import pandas as pd\n",
    "\n",
    "# Take the first five rows of data, and visualise.\n",
    "pd.DataFrame(df.take(5), columns=df.columns)"
   ]
  },
  {
   "cell_type": "code",
   "execution_count": 131,
   "metadata": {},
   "outputs": [
    {
     "data": {
      "text/html": [
       "<div>\n",
       "<style scoped>\n",
       "    .dataframe tbody tr th:only-of-type {\n",
       "        vertical-align: middle;\n",
       "    }\n",
       "\n",
       "    .dataframe tbody tr th {\n",
       "        vertical-align: top;\n",
       "    }\n",
       "\n",
       "    .dataframe thead th {\n",
       "        text-align: right;\n",
       "    }\n",
       "</style>\n",
       "<table border=\"1\" class=\"dataframe\">\n",
       "  <thead>\n",
       "    <tr style=\"text-align: right;\">\n",
       "      <th></th>\n",
       "      <th>0</th>\n",
       "      <th>1</th>\n",
       "      <th>2</th>\n",
       "      <th>3</th>\n",
       "      <th>4</th>\n",
       "    </tr>\n",
       "  </thead>\n",
       "  <tbody>\n",
       "    <tr>\n",
       "      <th>INCIDENTNUMBER</th>\n",
       "      <td>1</td>\n",
       "      <td>2</td>\n",
       "      <td>3</td>\n",
       "      <td>4</td>\n",
       "      <td>5</td>\n",
       "    </tr>\n",
       "    <tr>\n",
       "      <th>OFFENSECODE</th>\n",
       "      <td>1102</td>\n",
       "      <td>619</td>\n",
       "      <td>1107</td>\n",
       "      <td>1107</td>\n",
       "      <td>2647</td>\n",
       "    </tr>\n",
       "    <tr>\n",
       "      <th>OFFENSECODEGROUP</th>\n",
       "      <td>Fraud</td>\n",
       "      <td>Larceny</td>\n",
       "      <td>Fraud</td>\n",
       "      <td>Fraud</td>\n",
       "      <td>Other</td>\n",
       "    </tr>\n",
       "    <tr>\n",
       "      <th>DISTRICT</th>\n",
       "      <td>D4</td>\n",
       "      <td>D4</td>\n",
       "      <td>E18</td>\n",
       "      <td>C6</td>\n",
       "      <td>D4</td>\n",
       "    </tr>\n",
       "    <tr>\n",
       "      <th>YEAR</th>\n",
       "      <td>2015</td>\n",
       "      <td>2015</td>\n",
       "      <td>2015</td>\n",
       "      <td>2015</td>\n",
       "      <td>2015</td>\n",
       "    </tr>\n",
       "    <tr>\n",
       "      <th>MONTH</th>\n",
       "      <td>12</td>\n",
       "      <td>12</td>\n",
       "      <td>7</td>\n",
       "      <td>11</td>\n",
       "      <td>10</td>\n",
       "    </tr>\n",
       "    <tr>\n",
       "      <th>DAYOFWEEK</th>\n",
       "      <td>Sunday</td>\n",
       "      <td>Sunday</td>\n",
       "      <td>Wednesday</td>\n",
       "      <td>Thursday</td>\n",
       "      <td>Saturday</td>\n",
       "    </tr>\n",
       "    <tr>\n",
       "      <th>HOUR</th>\n",
       "      <td>14</td>\n",
       "      <td>14</td>\n",
       "      <td>12</td>\n",
       "      <td>8</td>\n",
       "      <td>13</td>\n",
       "    </tr>\n",
       "    <tr>\n",
       "      <th>UCRPART</th>\n",
       "      <td>Part Two</td>\n",
       "      <td>Part One</td>\n",
       "      <td>Part Two</td>\n",
       "      <td>Part Two</td>\n",
       "      <td>Part Two</td>\n",
       "    </tr>\n",
       "    <tr>\n",
       "      <th>STREET</th>\n",
       "      <td>WESTLAND AVE</td>\n",
       "      <td>WESTLAND AVE</td>\n",
       "      <td>OAKCREST RD</td>\n",
       "      <td>E FOURTH ST</td>\n",
       "      <td>BERKELEY ST</td>\n",
       "    </tr>\n",
       "    <tr>\n",
       "      <th>SHOOTING</th>\n",
       "      <td>N</td>\n",
       "      <td>N</td>\n",
       "      <td>N</td>\n",
       "      <td>N</td>\n",
       "      <td>N</td>\n",
       "    </tr>\n",
       "  </tbody>\n",
       "</table>\n",
       "</div>"
      ],
      "text/plain": [
       "                             0             1            2            3  \\\n",
       "INCIDENTNUMBER               1             2            3            4   \n",
       "OFFENSECODE               1102           619         1107         1107   \n",
       "OFFENSECODEGROUP         Fraud       Larceny        Fraud        Fraud   \n",
       "DISTRICT                    D4            D4          E18           C6   \n",
       "YEAR                      2015          2015         2015         2015   \n",
       "MONTH                       12            12            7           11   \n",
       "DAYOFWEEK               Sunday        Sunday    Wednesday     Thursday   \n",
       "HOUR                        14            14           12            8   \n",
       "UCRPART               Part Two      Part One     Part Two     Part Two   \n",
       "STREET            WESTLAND AVE  WESTLAND AVE  OAKCREST RD  E FOURTH ST   \n",
       "SHOOTING                     N             N            N            N   \n",
       "\n",
       "                            4  \n",
       "INCIDENTNUMBER              5  \n",
       "OFFENSECODE              2647  \n",
       "OFFENSECODEGROUP        Other  \n",
       "DISTRICT                   D4  \n",
       "YEAR                     2015  \n",
       "MONTH                      10  \n",
       "DAYOFWEEK            Saturday  \n",
       "HOUR                       13  \n",
       "UCRPART              Part Two  \n",
       "STREET            BERKELEY ST  \n",
       "SHOOTING                    N  "
      ]
     },
     "execution_count": 131,
     "metadata": {},
     "output_type": "execute_result"
    }
   ],
   "source": [
    "# To visualise the first five columns, simply add transpose. \n",
    "pd.DataFrame(df.take(5), columns=df.columns).transpose()"
   ]
  },
  {
   "cell_type": "code",
   "execution_count": 132,
   "metadata": {},
   "outputs": [
    {
     "data": {
      "text/html": [
       "<div>\n",
       "<style scoped>\n",
       "    .dataframe tbody tr th:only-of-type {\n",
       "        vertical-align: middle;\n",
       "    }\n",
       "\n",
       "    .dataframe tbody tr th {\n",
       "        vertical-align: top;\n",
       "    }\n",
       "\n",
       "    .dataframe thead th {\n",
       "        text-align: right;\n",
       "    }\n",
       "</style>\n",
       "<table border=\"1\" class=\"dataframe\">\n",
       "  <thead>\n",
       "    <tr style=\"text-align: right;\">\n",
       "      <th></th>\n",
       "      <th>SHOOTING</th>\n",
       "      <th>count</th>\n",
       "    </tr>\n",
       "  </thead>\n",
       "  <tbody>\n",
       "    <tr>\n",
       "      <th>0</th>\n",
       "      <td>Y</td>\n",
       "      <td>3</td>\n",
       "    </tr>\n",
       "    <tr>\n",
       "      <th>1</th>\n",
       "      <td>N</td>\n",
       "      <td>766</td>\n",
       "    </tr>\n",
       "  </tbody>\n",
       "</table>\n",
       "</div>"
      ],
      "text/plain": [
       "  SHOOTING  count\n",
       "0        Y      3\n",
       "1        N    766"
      ]
     },
     "execution_count": 132,
     "metadata": {},
     "output_type": "execute_result"
    }
   ],
   "source": [
    "# Use group by and count to find out how many data points have for each class in the predictor. \n",
    "df.groupby('SHOOTING').count().toPandas()"
   ]
  },
  {
   "cell_type": "markdown",
   "metadata": {},
   "source": [
    "Summary statistics for numeric variables"
   ]
  },
  {
   "cell_type": "code",
   "execution_count": 133,
   "metadata": {},
   "outputs": [
    {
     "data": {
      "text/html": [
       "<div>\n",
       "<style scoped>\n",
       "    .dataframe tbody tr th:only-of-type {\n",
       "        vertical-align: middle;\n",
       "    }\n",
       "\n",
       "    .dataframe tbody tr th {\n",
       "        vertical-align: top;\n",
       "    }\n",
       "\n",
       "    .dataframe thead th {\n",
       "        text-align: right;\n",
       "    }\n",
       "</style>\n",
       "<table border=\"1\" class=\"dataframe\">\n",
       "  <thead>\n",
       "    <tr style=\"text-align: right;\">\n",
       "      <th></th>\n",
       "      <th>0</th>\n",
       "      <th>1</th>\n",
       "      <th>2</th>\n",
       "      <th>3</th>\n",
       "      <th>4</th>\n",
       "    </tr>\n",
       "  </thead>\n",
       "  <tbody>\n",
       "    <tr>\n",
       "      <th>summary</th>\n",
       "      <td>count</td>\n",
       "      <td>mean</td>\n",
       "      <td>stddev</td>\n",
       "      <td>min</td>\n",
       "      <td>max</td>\n",
       "    </tr>\n",
       "    <tr>\n",
       "      <th>INCIDENTNUMBER</th>\n",
       "      <td>769</td>\n",
       "      <td>393.629388816645</td>\n",
       "      <td>229.57054385073621</td>\n",
       "      <td>1</td>\n",
       "      <td>800</td>\n",
       "    </tr>\n",
       "    <tr>\n",
       "      <th>OFFENSECODE</th>\n",
       "      <td>769</td>\n",
       "      <td>1940.8673602080623</td>\n",
       "      <td>1089.8672083620763</td>\n",
       "      <td>301</td>\n",
       "      <td>3831</td>\n",
       "    </tr>\n",
       "    <tr>\n",
       "      <th>YEAR</th>\n",
       "      <td>769</td>\n",
       "      <td>2016.4655396618987</td>\n",
       "      <td>1.1118073692673838</td>\n",
       "      <td>2015</td>\n",
       "      <td>2018</td>\n",
       "    </tr>\n",
       "    <tr>\n",
       "      <th>MONTH</th>\n",
       "      <td>769</td>\n",
       "      <td>8.263979193758127</td>\n",
       "      <td>2.691472892841368</td>\n",
       "      <td>1</td>\n",
       "      <td>12</td>\n",
       "    </tr>\n",
       "    <tr>\n",
       "      <th>HOUR</th>\n",
       "      <td>769</td>\n",
       "      <td>15.47074122236671</td>\n",
       "      <td>6.059770828731808</td>\n",
       "      <td>1</td>\n",
       "      <td>24</td>\n",
       "    </tr>\n",
       "  </tbody>\n",
       "</table>\n",
       "</div>"
      ],
      "text/plain": [
       "                    0                   1                   2     3     4\n",
       "summary         count                mean              stddev   min   max\n",
       "INCIDENTNUMBER    769    393.629388816645  229.57054385073621     1   800\n",
       "OFFENSECODE       769  1940.8673602080623  1089.8672083620763   301  3831\n",
       "YEAR              769  2016.4655396618987  1.1118073692673838  2015  2018\n",
       "MONTH             769   8.263979193758127   2.691472892841368     1    12\n",
       "HOUR              769   15.47074122236671   6.059770828731808     1    24"
      ]
     },
     "execution_count": 133,
     "metadata": {},
     "output_type": "execute_result"
    }
   ],
   "source": [
    "# Using a for loop to find all columns that belong to the integer data type. \n",
    "numeric_features = [t[0] for t in df.dtypes if t[1] == 'int']\n",
    "\n",
    "# Selecting the numeric features, generating summary statistics, and converting to a Pandas DataFrame.\n",
    "df.select(numeric_features).describe().toPandas().transpose()"
   ]
  },
  {
   "cell_type": "markdown",
   "metadata": {},
   "source": [
    "Correlations"
   ]
  },
  {
   "cell_type": "code",
   "execution_count": 134,
   "metadata": {},
   "outputs": [
    {
     "data": {
      "image/png": "[encoded data removed]",
      "text/plain": [
       "<Figure size 576x576 with 25 Axes>"
      ]
     },
     "metadata": {},
     "output_type": "display_data"
    }
   ],
   "source": [
    "numeric_data = df.select(numeric_features).toPandas()\n",
    "axs = pd.plotting.scatter_matrix(numeric_data, figsize=(8, 8));\n",
    "n = len(numeric_data.columns)\n",
    "for i in range(n):\n",
    "    v = axs[i, 0]\n",
    "    v.yaxis.label.set_rotation(0)\n",
    "    v.yaxis.label.set_ha('right')\n",
    "    v.set_yticks(())\n",
    "    h = axs[n-1, i]\n",
    "    h.xaxis.label.set_rotation(90)\n",
    "    h.set_xticks(())"
   ]
  },
  {
   "cell_type": "markdown",
   "metadata": {},
   "source": [
    "Select useful columns"
   ]
  },
  {
   "cell_type": "code",
   "execution_count": 135,
   "metadata": {},
   "outputs": [
    {
     "name": "stdout",
     "output_type": "stream",
     "text": [
      "root\n",
      " |-- OFFENSECODE: integer (nullable = true)\n",
      " |-- DISTRICT: string (nullable = true)\n",
      " |-- YEAR: integer (nullable = true)\n",
      " |-- MONTH: integer (nullable = true)\n",
      " |-- DAYOFWEEK: string (nullable = true)\n",
      " |-- HOUR: integer (nullable = true)\n",
      " |-- STREET: string (nullable = true)\n",
      " |-- SHOOTING: string (nullable = true)\n",
      "\n"
     ]
    }
   ],
   "source": [
    "# Now that I've carried out some basic data exploration, I will select the relevant features. \n",
    "# IncidentNumber,ReportingArea and UCRPart have been excluded as they're irrelevant.\n",
    "df = df.select('OFFENSECODE','DISTRICT','YEAR','MONTH','DAYOFWEEK','HOUR','STREET','SHOOTING')\n",
    "df.printSchema()"
   ]
  },
  {
   "cell_type": "markdown",
   "metadata": {},
   "source": [
    "Working with Categorical Columns\n"
   ]
  },
  {
   "cell_type": "code",
   "execution_count": 136,
   "metadata": {},
   "outputs": [],
   "source": [
    "# Import the relevant packages.\n",
    "from pyspark.ml.feature import (VectorAssembler,VectorIndexer,OneHotEncoder,StringIndexer)\n",
    "\n",
    "# First create a string indexer which converts every string into a number.\n",
    "# A number will be assigned to every category in the column.\n",
    "DISTRICT_indexer = StringIndexer(inputCol='DISTRICT',outputCol='DISTRICTIndex')\n",
    "DAYOFWEEK_indexer = StringIndexer(inputCol='DAYOFWEEK',outputCol='DAYOFWEEKIndex')\n",
    "STREET_indexer = StringIndexer(inputCol='STREET',outputCol='STREETIndex')\n",
    "SHOOTING_indexer = StringIndexer(inputCol='SHOOTING',outputCol='label')\n",
    "\n",
    "# Now one hot encode these numbers. This converts the various outputs into a single vector.\n",
    "# Multiple columns are collapsed into one. \n",
    "# This makes it easier to process when contains multiple classes.\n",
    "DISTRICT_encoder = OneHotEncoder(inputCol='DISTRICTIndex',outputCol='DISTRICTVec')\n",
    "DAYOFWEEK_encoder = OneHotEncoder(inputCol='DAYOFWEEKIndex',outputCol='DAYOFWEEKVec')\n",
    "STREET_encoder = OneHotEncoder(inputCol='STREETIndex',outputCol='STREETVec')\n",
    "\n",
    "# And finally, using vector assembler to turn all of these columns into one column (named features).\n",
    "assembler = VectorAssembler(inputCols=['DISTRICTVec','DAYOFWEEKVec','STREETVec',\n",
    "                                       'OFFENSECODE','YEAR','MONTH','HOUR'], outputCol=\"features\")"
   ]
  },
  {
   "cell_type": "markdown",
   "metadata": {},
   "source": [
    "Pipelines"
   ]
  },
  {
   "cell_type": "code",
   "execution_count": 137,
   "metadata": {},
   "outputs": [],
   "source": [
    "# Import the relevant packages.\n",
    "from pyspark.ml import Pipeline\n",
    "\n",
    "# Use pipelines which allow to specify a set of steps for everything to occur, it's essentially sequential to the above.\n",
    "pipeline = Pipeline(stages=[DISTRICT_indexer, DAYOFWEEK_indexer, STREET_indexer, SHOOTING_indexer,\n",
    "                            DISTRICT_encoder, DAYOFWEEK_encoder, STREET_encoder, assembler])\n",
    "\n",
    "# Now apply it to the DataFrame.\n",
    "pipeline_model = pipeline.fit(df)\n",
    "\n",
    "# Incorporate results into a new DataFrame.\n",
    "pipe_df = pipeline_model.transform(df)\n",
    "\n",
    "# Remove all variables other than features and label. \n",
    "pipe_df = pipe_df.select('label', 'features')"
   ]
  },
  {
   "cell_type": "markdown",
   "metadata": {},
   "source": [
    "# Logistic Regression Model"
   ]
  },
  {
   "cell_type": "markdown",
   "metadata": {},
   "source": [
    "Train and Test"
   ]
  },
  {
   "cell_type": "code",
   "execution_count": 138,
   "metadata": {},
   "outputs": [
    {
     "name": "stdout",
     "output_type": "stream",
     "text": [
      "Training Dataset Count: 537\n",
      "Test Dataset Count: 232\n"
     ]
    }
   ],
   "source": [
    "from pyspark.ml.classification import LogisticRegression\n",
    "\n",
    "# Split the data. Note that the new DataFrame is being used.\n",
    "train_data, test_data = pipe_df.randomSplit([0.7,0.3])\n",
    "print(\"Training Dataset Count: \" + str(train_data.count()))\n",
    "print(\"Test Dataset Count: \" + str(test_data.count()))\n",
    "\n",
    "# Instantiate the model.\n",
    "lr = LogisticRegression(featuresCol='features',labelCol='label', maxIter=10)\n",
    "\n",
    "# Fit the model.\n",
    "lrModel = lr.fit(train_data)\n",
    "\n",
    "# And evaluate the model using the test data.\n",
    "results = lrModel.transform(test_data)"
   ]
  },
  {
   "cell_type": "code",
   "execution_count": 139,
   "metadata": {},
   "outputs": [
    {
     "name": "stdout",
     "output_type": "stream",
     "text": [
      "+-----+--------------------+--------------------+----------+--------------------+\n",
      "|label|            features|       rawPrediction|prediction|         probability|\n",
      "+-----+--------------------+--------------------+----------+--------------------+\n",
      "|  0.0|(456,[0,11,17,452...|[5.30652990840763...|       0.0|[0.99506536592603...|\n",
      "|  0.0|(456,[0,11,31,452...|[5.30482378614684...|       0.0|[0.99505698130214...|\n",
      "|  0.0|(456,[0,11,52,452...|[5.30338936038319...|       0.0|[0.99504992094420...|\n",
      "|  0.0|(456,[0,11,60,452...|[5.30502877050964...|       0.0|[0.99505798943289...|\n",
      "|  0.0|(456,[0,11,60,452...|[5.30460445448892...|       0.0|[0.99505590238353...|\n",
      "|  0.0|(456,[0,11,148,45...|[5.30402197625744...|       0.0|[0.99505303596597...|\n",
      "|  0.0|(456,[0,11,226,45...|[5.30442052608321...|       0.0|[0.99505499743710...|\n",
      "|  0.0|(456,[0,11,444,45...|[5.30444539494799...|       0.0|[0.99505511980408...|\n",
      "|  0.0|(456,[0,12,36,452...|[5.30490126322160...|       0.0|[0.99505736236512...|\n",
      "|  0.0|(456,[0,12,290,45...|[5.29907629273679...|       0.0|[0.99502863117814...|\n",
      "+-----+--------------------+--------------------+----------+--------------------+\n",
      "only showing top 10 rows\n",
      "\n"
     ]
    }
   ],
   "source": [
    "# Make predictions on the test set.\n",
    "predictions = lrModel.transform(test_data)\n",
    "predictions.select( 'label', 'features', 'rawPrediction', 'prediction', 'probability').show(10)"
   ]
  },
  {
   "cell_type": "markdown",
   "metadata": {},
   "source": [
    "# Model Evaluation"
   ]
  },
  {
   "cell_type": "code",
   "execution_count": 140,
   "metadata": {},
   "outputs": [
    {
     "data": {
      "image/png": "[encoded data removed]",
      "text/plain": [
       "<Figure size 432x288 with 1 Axes>"
      ]
     },
     "metadata": {},
     "output_type": "display_data"
    }
   ],
   "source": [
    "# Obtain the coefficients by using LogisticRegressionModel's attributes.\n",
    "import matplotlib.pyplot as plt\n",
    "import numpy as np\n",
    "\n",
    "# Visualising the coefficients. Sort from lowest to highest.\n",
    "beta = np.sort(lrModel.coefficients)\n",
    "\n",
    "# Plot the data.\n",
    "plt.plot(beta)\n",
    "\n",
    "# Add a label to the data.\n",
    "plt.ylabel('Beta Coefficients')\n",
    "\n",
    "# Show the graph. \n",
    "plt.show()"
   ]
  },
  {
   "cell_type": "markdown",
   "metadata": {},
   "source": [
    "Obtain the receiver-operating characteristic and areaUnderROC"
   ]
  },
  {
   "cell_type": "code",
   "execution_count": 141,
   "metadata": {},
   "outputs": [
    {
     "data": {
      "image/png": "[encoded data removed]",
      "text/plain": [
       "<Figure size 432x288 with 1 Axes>"
      ]
     },
     "metadata": {},
     "output_type": "display_data"
    },
    {
     "name": "stdout",
     "output_type": "stream",
     "text": [
      "Training set areaUnderROC: 0.9971962616822431\n"
     ]
    }
   ],
   "source": [
    "# Get a summary of the data.\n",
    "trainingSummary = lrModel.summary\n",
    "\n",
    "# Convert the DataFrame to a Pandas DataFrame.\n",
    "roc = trainingSummary.roc.toPandas()\n",
    "\n",
    "# Plot the true positive and false positive rates.\n",
    "plt.plot(roc['FPR'],roc['TPR'])\n",
    "\n",
    "# Define the labels.\n",
    "plt.ylabel('False Positive Rate')\n",
    "plt.xlabel('True Positive Rate')\n",
    "plt.title('ROC Curve')\n",
    "plt.show()\n",
    "\n",
    "# Print the AUC statistic. \n",
    "print('Training set areaUnderROC: ' + str(trainingSummary.areaUnderROC))"
   ]
  },
  {
   "cell_type": "markdown",
   "metadata": {},
   "source": [
    "Precision and Recall"
   ]
  },
  {
   "cell_type": "code",
   "execution_count": 142,
   "metadata": {},
   "outputs": [
    {
     "data": {
      "image/png": "[encoded data removed]",
      "text/plain": [
       "<Figure size 432x288 with 1 Axes>"
      ]
     },
     "metadata": {},
     "output_type": "display_data"
    }
   ],
   "source": [
    "# Convert DataFrame to Pandas DataFrame.\n",
    "pr = trainingSummary.pr.toPandas()\n",
    "\n",
    "# Plot model recall and precision.\n",
    "plt.plot(pr['recall'],pr['precision'])\n",
    "\n",
    "\n",
    "# Define the labels and show the graph. \n",
    "plt.ylabel('Precision')\n",
    "plt.xlabel('Recall')\n",
    "plt.show()"
   ]
  },
  {
   "cell_type": "markdown",
   "metadata": {},
   "source": [
    "Set the model threshold to maximize F-Measure"
   ]
  },
  {
   "cell_type": "code",
   "execution_count": 143,
   "metadata": {},
   "outputs": [
    {
     "data": {
      "image/png": "[encoded data removed]",
      "text/plain": [
       "<Figure size 432x288 with 1 Axes>"
      ]
     },
     "metadata": {},
     "output_type": "display_data"
    }
   ],
   "source": [
    "f = trainingSummary.fMeasureByThreshold.toPandas()\n",
    "plt.plot(f['threshold'],f['F-Measure'])\n",
    "plt.ylabel('F-Measure')\n",
    "plt.xlabel('Threshold')\n",
    "plt.show()"
   ]
  },
  {
   "cell_type": "markdown",
   "metadata": {},
   "source": [
    "Evaluate the Logistic Regression model"
   ]
  },
  {
   "cell_type": "code",
   "execution_count": 144,
   "metadata": {},
   "outputs": [
    {
     "name": "stdout",
     "output_type": "stream",
     "text": [
      "Test Area Under ROC 0.8917748917748918\n"
     ]
    }
   ],
   "source": [
    "from pyspark.ml.evaluation import BinaryClassificationEvaluator\n",
    "\n",
    "evaluator = BinaryClassificationEvaluator()\n",
    "print('Test Area Under ROC', evaluator.evaluate(predictions))"
   ]
  },
  {
   "cell_type": "code",
   "execution_count": 145,
   "metadata": {},
   "outputs": [
    {
     "data": {
      "text/plain": [
       "'areaUnderROC'"
      ]
     },
     "execution_count": 145,
     "metadata": {},
     "output_type": "execute_result"
    }
   ],
   "source": [
    "evaluator.getMetricName()"
   ]
  },
  {
   "cell_type": "markdown",
   "metadata": {},
   "source": [
    "Try tuning the model with the ParamGridBuilder and the CrossValidator."
   ]
  },
  {
   "cell_type": "code",
   "execution_count": 146,
   "metadata": {},
   "outputs": [
    {
     "name": "stdout",
     "output_type": "stream",
     "text": [
      "Test Area Under ROC 0.5\n"
     ]
    }
   ],
   "source": [
    "from pyspark.ml.tuning import ParamGridBuilder, CrossValidator\n",
    "\n",
    "# Create ParamGrid for Cross Validation\n",
    "paramGrid = (ParamGridBuilder()\n",
    "             .addGrid(lr.regParam, [0.01, 0.5, 2.0])\n",
    "             .addGrid(lr.elasticNetParam, [0.0, 0.5, 1.0])\n",
    "             .addGrid(lr.maxIter, [1, 5, 10])\n",
    "             .build())\n",
    "\n",
    "cv = CrossValidator(estimator=lr, estimatorParamMaps=paramGrid, evaluator=evaluator, numFolds=5)\n",
    "\n",
    "cvModel = cv.fit(train_data)\n",
    "predictions = cvModel.transform(test_data)\n",
    "print('Test Area Under ROC', evaluator.evaluate(predictions))"
   ]
  },
  {
   "cell_type": "code",
   "execution_count": 147,
   "metadata": {},
   "outputs": [
    {
     "data": {
      "text/plain": [
       "'areaUnderROC'"
      ]
     },
     "execution_count": 147,
     "metadata": {},
     "output_type": "execute_result"
    }
   ],
   "source": [
    "evaluator.getMetricName()"
   ]
  },
  {
   "cell_type": "markdown",
   "metadata": {},
   "source": [
    "# Decision Tree Classifier"
   ]
  },
  {
   "cell_type": "code",
   "execution_count": 148,
   "metadata": {},
   "outputs": [],
   "source": [
    "from pyspark.ml.classification import DecisionTreeClassifier"
   ]
  },
  {
   "cell_type": "code",
   "execution_count": 149,
   "metadata": {},
   "outputs": [
    {
     "name": "stdout",
     "output_type": "stream",
     "text": [
      "+-----+-------------+----------+-----------+\n",
      "|label|rawPrediction|prediction|probability|\n",
      "+-----+-------------+----------+-----------+\n",
      "|  0.0|  [529.0,0.0]|       0.0|  [1.0,0.0]|\n",
      "|  0.0|  [529.0,0.0]|       0.0|  [1.0,0.0]|\n",
      "|  0.0|  [529.0,0.0]|       0.0|  [1.0,0.0]|\n",
      "|  0.0|  [529.0,0.0]|       0.0|  [1.0,0.0]|\n",
      "|  0.0|  [529.0,0.0]|       0.0|  [1.0,0.0]|\n",
      "|  0.0|  [529.0,0.0]|       0.0|  [1.0,0.0]|\n",
      "|  0.0|  [529.0,0.0]|       0.0|  [1.0,0.0]|\n",
      "|  0.0|  [529.0,0.0]|       0.0|  [1.0,0.0]|\n",
      "|  0.0|  [529.0,0.0]|       0.0|  [1.0,0.0]|\n",
      "|  0.0|  [529.0,0.0]|       0.0|  [1.0,0.0]|\n",
      "+-----+-------------+----------+-----------+\n",
      "only showing top 10 rows\n",
      "\n"
     ]
    }
   ],
   "source": [
    "dt = DecisionTreeClassifier(featuresCol = 'features', labelCol = 'label', maxDepth = 3)\n",
    "dtModel = dt.fit(train_data)\n",
    "predictions = dtModel.transform(test_data)\n",
    "predictions.select('label', 'rawPrediction', 'prediction', 'probability').show(10)"
   ]
  },
  {
   "cell_type": "markdown",
   "metadata": {},
   "source": [
    "Evaluate the Decision Tree model"
   ]
  },
  {
   "cell_type": "code",
   "execution_count": 150,
   "metadata": {},
   "outputs": [
    {
     "name": "stdout",
     "output_type": "stream",
     "text": [
      "Test Area Under ROC: 0.49783549783549785\n"
     ]
    }
   ],
   "source": [
    "evaluator = BinaryClassificationEvaluator()\n",
    "print(\"Test Area Under ROC: \" + str(evaluator.evaluate(predictions, {evaluator.metricName: \"areaUnderROC\"})))"
   ]
  },
  {
   "cell_type": "code",
   "execution_count": 151,
   "metadata": {},
   "outputs": [
    {
     "data": {
      "text/plain": [
       "'areaUnderROC'"
      ]
     },
     "execution_count": 151,
     "metadata": {},
     "output_type": "execute_result"
    }
   ],
   "source": [
    "evaluator.getMetricName()"
   ]
  },
  {
   "cell_type": "markdown",
   "metadata": {},
   "source": [
    "# Random Forest Classifier"
   ]
  },
  {
   "cell_type": "code",
   "execution_count": 152,
   "metadata": {},
   "outputs": [],
   "source": [
    "from pyspark.ml.classification import RandomForestClassifier"
   ]
  },
  {
   "cell_type": "code",
   "execution_count": 153,
   "metadata": {},
   "outputs": [
    {
     "name": "stdout",
     "output_type": "stream",
     "text": [
      "+-----+--------------------+----------+--------------------+\n",
      "|label|       rawPrediction|prediction|         probability|\n",
      "+-----+--------------------+----------+--------------------+\n",
      "|  0.0|[19.9873948995900...|       0.0|[0.99936974497950...|\n",
      "|  0.0|[19.8716244251888...|       0.0|[0.99358122125944...|\n",
      "|  0.0|[19.9873948995900...|       0.0|[0.99936974497950...|\n",
      "|  0.0|[19.9549577585221...|       0.0|[0.99774788792610...|\n",
      "|  0.0|[19.9549577585221...|       0.0|[0.99774788792610...|\n",
      "|  0.0|[19.9549577585221...|       0.0|[0.99774788792610...|\n",
      "|  0.0|[19.9549577585221...|       0.0|[0.99774788792610...|\n",
      "|  0.0|[19.9549577585221...|       0.0|[0.99774788792610...|\n",
      "|  0.0|[19.9939662837752...|       0.0|[0.99969831418876...|\n",
      "|  0.0|[19.9820140925401...|       0.0|[0.99910070462700...|\n",
      "+-----+--------------------+----------+--------------------+\n",
      "only showing top 10 rows\n",
      "\n"
     ]
    }
   ],
   "source": [
    "rf = RandomForestClassifier(featuresCol = 'features', labelCol = 'label')\n",
    "rfModel = rf.fit(train_data)\n",
    "predictions = rfModel.transform(test_data)\n",
    "predictions.select('label', 'rawPrediction', 'prediction', 'probability').show(10)"
   ]
  },
  {
   "cell_type": "markdown",
   "metadata": {},
   "source": [
    "Evaluate the Random Forest Classifier"
   ]
  },
  {
   "cell_type": "code",
   "execution_count": 154,
   "metadata": {},
   "outputs": [
    {
     "name": "stdout",
     "output_type": "stream",
     "text": [
      "Test Area Under ROC: 0.8138528138528138\n"
     ]
    }
   ],
   "source": [
    "evaluator = BinaryClassificationEvaluator()\n",
    "print(\"Test Area Under ROC: \" + str(evaluator.evaluate(predictions, {evaluator.metricName: \"areaUnderROC\"})))"
   ]
  },
  {
   "cell_type": "code",
   "execution_count": 155,
   "metadata": {},
   "outputs": [
    {
     "data": {
      "text/plain": [
       "'areaUnderROC'"
      ]
     },
     "execution_count": 155,
     "metadata": {},
     "output_type": "execute_result"
    }
   ],
   "source": [
    "evaluator.getMetricName()"
   ]
  },
  {
   "cell_type": "code",
   "execution_count": 156,
   "metadata": {},
   "outputs": [
    {
     "name": "stdout",
     "output_type": "stream",
     "text": [
      "cacheNodeIds: If false, the algorithm will pass trees to executors to match instances with nodes. If true, the algorithm will cache node IDs for each instance. Caching can speed up training of deeper trees. Users can set how often should the cache be checkpointed or disable it by setting checkpointInterval. (default: False)\n",
      "checkpointInterval: set checkpoint interval (>= 1) or disable checkpoint (-1). E.g. 10 means that the cache will get checkpointed every 10 iterations. (default: 10)\n",
      "featureSubsetStrategy: The number of features to consider for splits at each tree node. Supported options: auto, all, onethird, sqrt, log2, (0.0-1.0], [1-n]. (default: auto)\n",
      "featuresCol: features column name. (default: features, current: features)\n",
      "impurity: Criterion used for information gain calculation (case-insensitive). Supported options: entropy, gini (default: gini)\n",
      "labelCol: label column name. (default: label, current: label)\n",
      "maxBins: Max number of bins for discretizing continuous features.  Must be >=2 and >= number of categories for any categorical feature. (default: 32)\n",
      "maxDepth: Maximum depth of the tree. (>= 0) E.g., depth 0 means 1 leaf node; depth 1 means 1 internal node + 2 leaf nodes. (default: 5)\n",
      "maxMemoryInMB: Maximum memory in MB allocated to histogram aggregation. If too small, then 1 node will be split per iteration, and its aggregates may exceed this size. (default: 256)\n",
      "minInfoGain: Minimum information gain for a split to be considered at a tree node. (default: 0.0)\n",
      "minInstancesPerNode: Minimum number of instances each child must have after split. If a split causes the left or right child to have fewer than minInstancesPerNode, the split will be discarded as invalid. Should be >= 1. (default: 1)\n",
      "numTrees: Number of trees to train (>= 1). (default: 20)\n",
      "predictionCol: prediction column name. (default: prediction)\n",
      "probabilityCol: Column name for predicted class conditional probabilities. Note: Not all models output well-calibrated probability estimates! These probabilities should be treated as confidences, not precise probabilities. (default: probability)\n",
      "rawPredictionCol: raw prediction (a.k.a. confidence) column name. (default: rawPrediction)\n",
      "seed: random seed. (default: 2710775196464482973)\n",
      "subsamplingRate: Fraction of the training data used for learning each decision tree, in range (0, 1]. (default: 1.0)\n"
     ]
    }
   ],
   "source": [
    "print(rf.explainParams())"
   ]
  },
  {
   "cell_type": "code",
   "execution_count": 158,
   "metadata": {},
   "outputs": [],
   "source": [
    "df.write.csv('dataset.csv')"
   ]
  },
  {
   "cell_type": "code",
   "execution_count": null,
   "metadata": {},
   "outputs": [],
   "source": []
  }
 ],
 "metadata": {
  "kernelspec": {
   "display_name": "Python 3",
   "language": "python",
   "name": "python3"
  },
  "language_info": {
   "codemirror_mode": {
    "name": "ipython",
    "version": 3
   },
   "file_extension": ".py",
   "mimetype": "text/x-python",
   "name": "python",
   "nbconvert_exporter": "python",
   "pygments_lexer": "ipython3",
   "version": "3.5.2"
  }
 },
 "nbformat": 4,
 "nbformat_minor": 2
}
