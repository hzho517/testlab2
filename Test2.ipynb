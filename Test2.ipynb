{
 "cells": [
  {
   "cell_type": "code",
   "execution_count": 2,
   "metadata": {},
   "outputs": [],
   "source": [
    "import findspark\n",
    "findspark.init('/home/ubuntu/spark-2.1.1-bin-hadoop2.7')\n",
    "import pyspark\n",
    "import pandas as pd\n",
    "import numpy as np\n",
    "import matplotlib as mpl\n",
    "import matplotlib.pyplot as plt\n",
    "from pyspark.sql import SparkSession\n",
    "spark = SparkSession.builder.appName('INFO').getOrCreate()\n",
    "sc = spark.sparkContext"
   ]
  },
  {
   "cell_type": "code",
   "execution_count": 3,
   "metadata": {},
   "outputs": [
    {
     "name": "stdout",
     "output_type": "stream",
     "text": [
      "+--------------+-----------+--------------------+--------+----+-----+---------+----+----------+--------------+--------+\n",
      "|INCIDENTNUMBER|OFFENSECODE|    OFFENSECODEGROUP|DISTRICT|YEAR|MONTH|DAYOFWEEK|HOUR|   UCRPART|        STREET|SHOOTING|\n",
      "+--------------+-----------+--------------------+--------+----+-----+---------+----+----------+--------------+--------+\n",
      "|             1|       1102|               Fraud|      D4|2015|   12|   Sunday|  14|  Part Two|  WESTLAND AVE|       N|\n",
      "|             2|        619|             Larceny|      D4|2015|   12|   Sunday|  14|  Part One|  WESTLAND AVE|       N|\n",
      "|             3|       1107|               Fraud|     E18|2015|    7|Wednesday|  12|  Part Two|   OAKCREST RD|       N|\n",
      "|             4|       1107|               Fraud|      C6|2015|   11| Thursday|   8|  Part Two|   E FOURTH ST|       N|\n",
      "|             5|       2647|               Other|      D4|2015|   10| Saturday|  13|  Part Two|   BERKELEY ST|       N|\n",
      "|             6|       1102|               Fraud|     D14|2015|    9|  Tuesday|  11|  Part Two|    ALLSTON ST|       N|\n",
      "|             7|       3201|       Property Lost|     C11|2015|    8| Thursday|   8|Part Three|      EDWIN ST|       N|\n",
      "|             8|       1102|               Fraud|     C11|2015|   10|Wednesday|  12|  Part Two| WASHINGTON ST|       N|\n",
      "|             9|       1102|               Fraud|     C11|2015|    8| Saturday|   6|  Part Two|     DITSON ST|       N|\n",
      "|            10|       1107|               Fraud|      A1|2015|    8| Saturday|  15|  Part Two| WASHINGTON ST|       N|\n",
      "|            11|       1107|               Fraud|    null|2015|    7|Wednesday|  24|  Part Two|        COBDEN|       N|\n",
      "|            12|        735| Auto Theft Recovery|     C11|2015|   11|   Sunday|  11|     Other|     HALLET ST|       N|\n",
      "|            13|       1102|               Fraud|     C11|2015|   12|   Monday|   4|  Part Two|     DRAPER ST|       N|\n",
      "|            14|       1107|               Fraud|      A7|2015|    7|Wednesday|   8|  Part Two|      PARIS ST|       N|\n",
      "|            15|       1102|               Fraud|     C11|2015|    9|  Tuesday|  24|  Part Two|    TOPLIFF ST|       N|\n",
      "|            16|       1102|               Fraud|     C11|2015|    9| Thursday|   9|  Part Two|     SEMONT RD|       N|\n",
      "|            17|        615|Larceny From Moto...|     C11|2015|   10| Thursday|   8|  Part One|      EDWIN ST|       N|\n",
      "|            18|       3115|  Investigate Person|     D14|2015|    7|Wednesday|  24|Part Three|WALLINGFORD RD|       N|\n",
      "|            19|       1102|               Fraud|      A1|2015|    8|   Friday|   9|  Part Two|      BROAD ST|       N|\n",
      "|            20|       1102|               Fraud|      D4|2015|   10| Thursday|  24|  Part Two|     ALBANY ST|       N|\n",
      "+--------------+-----------+--------------------+--------+----+-----+---------+----+----------+--------------+--------+\n",
      "only showing top 20 rows\n",
      "\n"
     ]
    }
   ],
   "source": [
    "df = spark.read.csv('BostonCrime2.0.csv', header = True, inferSchema = True)\n",
    "df.show()"
   ]
  },
  {
   "cell_type": "code",
   "execution_count": 4,
   "metadata": {},
   "outputs": [
    {
     "name": "stdout",
     "output_type": "stream",
     "text": [
      "root\n",
      " |-- INCIDENTNUMBER: integer (nullable = true)\n",
      " |-- OFFENSECODE: integer (nullable = true)\n",
      " |-- OFFENSECODEGROUP: string (nullable = true)\n",
      " |-- DISTRICT: string (nullable = true)\n",
      " |-- YEAR: integer (nullable = true)\n",
      " |-- MONTH: integer (nullable = true)\n",
      " |-- DAYOFWEEK: string (nullable = true)\n",
      " |-- HOUR: integer (nullable = true)\n",
      " |-- UCRPART: string (nullable = true)\n",
      " |-- STREET: string (nullable = true)\n",
      " |-- SHOOTING: string (nullable = true)\n",
      "\n"
     ]
    }
   ],
   "source": [
    "df.printSchema()"
   ]
  },
  {
   "cell_type": "code",
   "execution_count": 5,
   "metadata": {},
   "outputs": [],
   "source": [
    "df1 = pd.read_csv('BostonCrime2.0.csv')"
   ]
  },
  {
   "cell_type": "code",
   "execution_count": 6,
   "metadata": {},
   "outputs": [
    {
     "name": "stdout",
     "output_type": "stream",
     "text": [
      "(800, 11)\n"
     ]
    }
   ],
   "source": [
    "print(df1.shape)"
   ]
  },
  {
   "cell_type": "code",
   "execution_count": 7,
   "metadata": {},
   "outputs": [
    {
     "name": "stdout",
     "output_type": "stream",
     "text": [
      "Index(['INCIDENTNUMBER', 'OFFENSECODE', 'OFFENSECODEGROUP', 'DISTRICT', 'YEAR',\n",
      "       'MONTH', 'DAYOFWEEK', 'HOUR', 'UCRPART', 'STREET', 'SHOOTING'],\n",
      "      dtype='object')\n"
     ]
    }
   ],
   "source": [
    "print(df1.columns)"
   ]
  },
  {
   "cell_type": "code",
   "execution_count": 8,
   "metadata": {},
   "outputs": [
    {
     "data": {
      "text/html": [
       "<div>\n",
       "<style scoped>\n",
       "    .dataframe tbody tr th:only-of-type {\n",
       "        vertical-align: middle;\n",
       "    }\n",
       "\n",
       "    .dataframe tbody tr th {\n",
       "        vertical-align: top;\n",
       "    }\n",
       "\n",
       "    .dataframe thead th {\n",
       "        text-align: right;\n",
       "    }\n",
       "</style>\n",
       "<table border=\"1\" class=\"dataframe\">\n",
       "  <thead>\n",
       "    <tr style=\"text-align: right;\">\n",
       "      <th></th>\n",
       "      <th>INCIDENTNUMBER</th>\n",
       "      <th>OFFENSECODE</th>\n",
       "      <th>YEAR</th>\n",
       "      <th>MONTH</th>\n",
       "      <th>HOUR</th>\n",
       "    </tr>\n",
       "  </thead>\n",
       "  <tbody>\n",
       "    <tr>\n",
       "      <th>count</th>\n",
       "      <td>800.0000</td>\n",
       "      <td>800.000000</td>\n",
       "      <td>800.000000</td>\n",
       "      <td>800.000000</td>\n",
       "      <td>800.000000</td>\n",
       "    </tr>\n",
       "    <tr>\n",
       "      <th>mean</th>\n",
       "      <td>400.5000</td>\n",
       "      <td>1949.248750</td>\n",
       "      <td>2016.503750</td>\n",
       "      <td>8.202500</td>\n",
       "      <td>15.490000</td>\n",
       "    </tr>\n",
       "    <tr>\n",
       "      <th>std</th>\n",
       "      <td>231.0844</td>\n",
       "      <td>1095.330431</td>\n",
       "      <td>1.120962</td>\n",
       "      <td>2.677771</td>\n",
       "      <td>6.011662</td>\n",
       "    </tr>\n",
       "    <tr>\n",
       "      <th>min</th>\n",
       "      <td>1.0000</td>\n",
       "      <td>301.000000</td>\n",
       "      <td>2015.000000</td>\n",
       "      <td>1.000000</td>\n",
       "      <td>1.000000</td>\n",
       "    </tr>\n",
       "    <tr>\n",
       "      <th>25%</th>\n",
       "      <td>200.7500</td>\n",
       "      <td>1102.000000</td>\n",
       "      <td>2015.750000</td>\n",
       "      <td>7.000000</td>\n",
       "      <td>12.000000</td>\n",
       "    </tr>\n",
       "    <tr>\n",
       "      <th>50%</th>\n",
       "      <td>400.5000</td>\n",
       "      <td>1402.000000</td>\n",
       "      <td>2017.000000</td>\n",
       "      <td>8.000000</td>\n",
       "      <td>14.000000</td>\n",
       "    </tr>\n",
       "    <tr>\n",
       "      <th>75%</th>\n",
       "      <td>600.2500</td>\n",
       "      <td>3115.000000</td>\n",
       "      <td>2018.000000</td>\n",
       "      <td>10.000000</td>\n",
       "      <td>24.000000</td>\n",
       "    </tr>\n",
       "    <tr>\n",
       "      <th>max</th>\n",
       "      <td>800.0000</td>\n",
       "      <td>3831.000000</td>\n",
       "      <td>2018.000000</td>\n",
       "      <td>12.000000</td>\n",
       "      <td>24.000000</td>\n",
       "    </tr>\n",
       "  </tbody>\n",
       "</table>\n",
       "</div>"
      ],
      "text/plain": [
       "       INCIDENTNUMBER  OFFENSECODE         YEAR       MONTH        HOUR\n",
       "count        800.0000   800.000000   800.000000  800.000000  800.000000\n",
       "mean         400.5000  1949.248750  2016.503750    8.202500   15.490000\n",
       "std          231.0844  1095.330431     1.120962    2.677771    6.011662\n",
       "min            1.0000   301.000000  2015.000000    1.000000    1.000000\n",
       "25%          200.7500  1102.000000  2015.750000    7.000000   12.000000\n",
       "50%          400.5000  1402.000000  2017.000000    8.000000   14.000000\n",
       "75%          600.2500  3115.000000  2018.000000   10.000000   24.000000\n",
       "max          800.0000  3831.000000  2018.000000   12.000000   24.000000"
      ]
     },
     "execution_count": 8,
     "metadata": {},
     "output_type": "execute_result"
    }
   ],
   "source": [
    "df1.describe()"
   ]
  },
  {
   "cell_type": "code",
   "execution_count": 9,
   "metadata": {},
   "outputs": [
    {
     "data": {
      "text/html": [
       "<div>\n",
       "<style scoped>\n",
       "    .dataframe tbody tr th:only-of-type {\n",
       "        vertical-align: middle;\n",
       "    }\n",
       "\n",
       "    .dataframe tbody tr th {\n",
       "        vertical-align: top;\n",
       "    }\n",
       "\n",
       "    .dataframe thead th {\n",
       "        text-align: right;\n",
       "    }\n",
       "</style>\n",
       "<table border=\"1\" class=\"dataframe\">\n",
       "  <thead>\n",
       "    <tr style=\"text-align: right;\">\n",
       "      <th></th>\n",
       "      <th>INCIDENTNUMBER</th>\n",
       "      <th>OFFENSECODE</th>\n",
       "      <th>OFFENSECODEGROUP</th>\n",
       "      <th>DISTRICT</th>\n",
       "      <th>YEAR</th>\n",
       "      <th>MONTH</th>\n",
       "      <th>DAYOFWEEK</th>\n",
       "      <th>HOUR</th>\n",
       "      <th>UCRPART</th>\n",
       "      <th>STREET</th>\n",
       "      <th>SHOOTING</th>\n",
       "    </tr>\n",
       "  </thead>\n",
       "  <tbody>\n",
       "    <tr>\n",
       "      <th>0</th>\n",
       "      <td>1</td>\n",
       "      <td>1102</td>\n",
       "      <td>Fraud</td>\n",
       "      <td>D4</td>\n",
       "      <td>2015</td>\n",
       "      <td>12</td>\n",
       "      <td>Sunday</td>\n",
       "      <td>14</td>\n",
       "      <td>Part Two</td>\n",
       "      <td>WESTLAND AVE</td>\n",
       "      <td>N</td>\n",
       "    </tr>\n",
       "    <tr>\n",
       "      <th>1</th>\n",
       "      <td>2</td>\n",
       "      <td>619</td>\n",
       "      <td>Larceny</td>\n",
       "      <td>D4</td>\n",
       "      <td>2015</td>\n",
       "      <td>12</td>\n",
       "      <td>Sunday</td>\n",
       "      <td>14</td>\n",
       "      <td>Part One</td>\n",
       "      <td>WESTLAND AVE</td>\n",
       "      <td>N</td>\n",
       "    </tr>\n",
       "    <tr>\n",
       "      <th>2</th>\n",
       "      <td>3</td>\n",
       "      <td>1107</td>\n",
       "      <td>Fraud</td>\n",
       "      <td>E18</td>\n",
       "      <td>2015</td>\n",
       "      <td>7</td>\n",
       "      <td>Wednesday</td>\n",
       "      <td>12</td>\n",
       "      <td>Part Two</td>\n",
       "      <td>OAKCREST RD</td>\n",
       "      <td>N</td>\n",
       "    </tr>\n",
       "    <tr>\n",
       "      <th>3</th>\n",
       "      <td>4</td>\n",
       "      <td>1107</td>\n",
       "      <td>Fraud</td>\n",
       "      <td>C6</td>\n",
       "      <td>2015</td>\n",
       "      <td>11</td>\n",
       "      <td>Thursday</td>\n",
       "      <td>8</td>\n",
       "      <td>Part Two</td>\n",
       "      <td>E FOURTH ST</td>\n",
       "      <td>N</td>\n",
       "    </tr>\n",
       "    <tr>\n",
       "      <th>4</th>\n",
       "      <td>5</td>\n",
       "      <td>2647</td>\n",
       "      <td>Other</td>\n",
       "      <td>D4</td>\n",
       "      <td>2015</td>\n",
       "      <td>10</td>\n",
       "      <td>Saturday</td>\n",
       "      <td>13</td>\n",
       "      <td>Part Two</td>\n",
       "      <td>BERKELEY ST</td>\n",
       "      <td>N</td>\n",
       "    </tr>\n",
       "    <tr>\n",
       "      <th>5</th>\n",
       "      <td>6</td>\n",
       "      <td>1102</td>\n",
       "      <td>Fraud</td>\n",
       "      <td>D14</td>\n",
       "      <td>2015</td>\n",
       "      <td>9</td>\n",
       "      <td>Tuesday</td>\n",
       "      <td>11</td>\n",
       "      <td>Part Two</td>\n",
       "      <td>ALLSTON ST</td>\n",
       "      <td>N</td>\n",
       "    </tr>\n",
       "    <tr>\n",
       "      <th>6</th>\n",
       "      <td>7</td>\n",
       "      <td>3201</td>\n",
       "      <td>Property Lost</td>\n",
       "      <td>C11</td>\n",
       "      <td>2015</td>\n",
       "      <td>8</td>\n",
       "      <td>Thursday</td>\n",
       "      <td>8</td>\n",
       "      <td>Part Three</td>\n",
       "      <td>EDWIN ST</td>\n",
       "      <td>N</td>\n",
       "    </tr>\n",
       "    <tr>\n",
       "      <th>7</th>\n",
       "      <td>8</td>\n",
       "      <td>1102</td>\n",
       "      <td>Fraud</td>\n",
       "      <td>C11</td>\n",
       "      <td>2015</td>\n",
       "      <td>10</td>\n",
       "      <td>Wednesday</td>\n",
       "      <td>12</td>\n",
       "      <td>Part Two</td>\n",
       "      <td>WASHINGTON ST</td>\n",
       "      <td>N</td>\n",
       "    </tr>\n",
       "    <tr>\n",
       "      <th>8</th>\n",
       "      <td>9</td>\n",
       "      <td>1102</td>\n",
       "      <td>Fraud</td>\n",
       "      <td>C11</td>\n",
       "      <td>2015</td>\n",
       "      <td>8</td>\n",
       "      <td>Saturday</td>\n",
       "      <td>6</td>\n",
       "      <td>Part Two</td>\n",
       "      <td>DITSON ST</td>\n",
       "      <td>N</td>\n",
       "    </tr>\n",
       "    <tr>\n",
       "      <th>9</th>\n",
       "      <td>10</td>\n",
       "      <td>1107</td>\n",
       "      <td>Fraud</td>\n",
       "      <td>A1</td>\n",
       "      <td>2015</td>\n",
       "      <td>8</td>\n",
       "      <td>Saturday</td>\n",
       "      <td>15</td>\n",
       "      <td>Part Two</td>\n",
       "      <td>WASHINGTON ST</td>\n",
       "      <td>N</td>\n",
       "    </tr>\n",
       "    <tr>\n",
       "      <th>10</th>\n",
       "      <td>11</td>\n",
       "      <td>1107</td>\n",
       "      <td>Fraud</td>\n",
       "      <td>NaN</td>\n",
       "      <td>2015</td>\n",
       "      <td>7</td>\n",
       "      <td>Wednesday</td>\n",
       "      <td>24</td>\n",
       "      <td>Part Two</td>\n",
       "      <td>COBDEN</td>\n",
       "      <td>N</td>\n",
       "    </tr>\n",
       "    <tr>\n",
       "      <th>11</th>\n",
       "      <td>12</td>\n",
       "      <td>735</td>\n",
       "      <td>Auto Theft Recovery</td>\n",
       "      <td>C11</td>\n",
       "      <td>2015</td>\n",
       "      <td>11</td>\n",
       "      <td>Sunday</td>\n",
       "      <td>11</td>\n",
       "      <td>Other</td>\n",
       "      <td>HALLET ST</td>\n",
       "      <td>N</td>\n",
       "    </tr>\n",
       "    <tr>\n",
       "      <th>12</th>\n",
       "      <td>13</td>\n",
       "      <td>1102</td>\n",
       "      <td>Fraud</td>\n",
       "      <td>C11</td>\n",
       "      <td>2015</td>\n",
       "      <td>12</td>\n",
       "      <td>Monday</td>\n",
       "      <td>4</td>\n",
       "      <td>Part Two</td>\n",
       "      <td>DRAPER ST</td>\n",
       "      <td>N</td>\n",
       "    </tr>\n",
       "    <tr>\n",
       "      <th>13</th>\n",
       "      <td>14</td>\n",
       "      <td>1107</td>\n",
       "      <td>Fraud</td>\n",
       "      <td>A7</td>\n",
       "      <td>2015</td>\n",
       "      <td>7</td>\n",
       "      <td>Wednesday</td>\n",
       "      <td>8</td>\n",
       "      <td>Part Two</td>\n",
       "      <td>PARIS ST</td>\n",
       "      <td>N</td>\n",
       "    </tr>\n",
       "    <tr>\n",
       "      <th>14</th>\n",
       "      <td>15</td>\n",
       "      <td>1102</td>\n",
       "      <td>Fraud</td>\n",
       "      <td>C11</td>\n",
       "      <td>2015</td>\n",
       "      <td>9</td>\n",
       "      <td>Tuesday</td>\n",
       "      <td>24</td>\n",
       "      <td>Part Two</td>\n",
       "      <td>TOPLIFF ST</td>\n",
       "      <td>N</td>\n",
       "    </tr>\n",
       "    <tr>\n",
       "      <th>15</th>\n",
       "      <td>16</td>\n",
       "      <td>1102</td>\n",
       "      <td>Fraud</td>\n",
       "      <td>C11</td>\n",
       "      <td>2015</td>\n",
       "      <td>9</td>\n",
       "      <td>Thursday</td>\n",
       "      <td>9</td>\n",
       "      <td>Part Two</td>\n",
       "      <td>SEMONT RD</td>\n",
       "      <td>N</td>\n",
       "    </tr>\n",
       "    <tr>\n",
       "      <th>16</th>\n",
       "      <td>17</td>\n",
       "      <td>615</td>\n",
       "      <td>Larceny From Motor Vehicle</td>\n",
       "      <td>C11</td>\n",
       "      <td>2015</td>\n",
       "      <td>10</td>\n",
       "      <td>Thursday</td>\n",
       "      <td>8</td>\n",
       "      <td>Part One</td>\n",
       "      <td>EDWIN ST</td>\n",
       "      <td>N</td>\n",
       "    </tr>\n",
       "    <tr>\n",
       "      <th>17</th>\n",
       "      <td>18</td>\n",
       "      <td>3115</td>\n",
       "      <td>Investigate Person</td>\n",
       "      <td>D14</td>\n",
       "      <td>2015</td>\n",
       "      <td>7</td>\n",
       "      <td>Wednesday</td>\n",
       "      <td>24</td>\n",
       "      <td>Part Three</td>\n",
       "      <td>WALLINGFORD RD</td>\n",
       "      <td>N</td>\n",
       "    </tr>\n",
       "    <tr>\n",
       "      <th>18</th>\n",
       "      <td>19</td>\n",
       "      <td>1102</td>\n",
       "      <td>Fraud</td>\n",
       "      <td>A1</td>\n",
       "      <td>2015</td>\n",
       "      <td>8</td>\n",
       "      <td>Friday</td>\n",
       "      <td>9</td>\n",
       "      <td>Part Two</td>\n",
       "      <td>BROAD ST</td>\n",
       "      <td>N</td>\n",
       "    </tr>\n",
       "    <tr>\n",
       "      <th>19</th>\n",
       "      <td>20</td>\n",
       "      <td>1102</td>\n",
       "      <td>Fraud</td>\n",
       "      <td>D4</td>\n",
       "      <td>2015</td>\n",
       "      <td>10</td>\n",
       "      <td>Thursday</td>\n",
       "      <td>24</td>\n",
       "      <td>Part Two</td>\n",
       "      <td>ALBANY ST</td>\n",
       "      <td>N</td>\n",
       "    </tr>\n",
       "  </tbody>\n",
       "</table>\n",
       "</div>"
      ],
      "text/plain": [
       "    INCIDENTNUMBER  OFFENSECODE            OFFENSECODEGROUP DISTRICT  YEAR  \\\n",
       "0                1         1102                       Fraud       D4  2015   \n",
       "1                2          619                     Larceny       D4  2015   \n",
       "2                3         1107                       Fraud      E18  2015   \n",
       "3                4         1107                       Fraud       C6  2015   \n",
       "4                5         2647                       Other       D4  2015   \n",
       "5                6         1102                       Fraud      D14  2015   \n",
       "6                7         3201               Property Lost      C11  2015   \n",
       "7                8         1102                       Fraud      C11  2015   \n",
       "8                9         1102                       Fraud      C11  2015   \n",
       "9               10         1107                       Fraud       A1  2015   \n",
       "10              11         1107                       Fraud      NaN  2015   \n",
       "11              12          735         Auto Theft Recovery      C11  2015   \n",
       "12              13         1102                       Fraud      C11  2015   \n",
       "13              14         1107                       Fraud       A7  2015   \n",
       "14              15         1102                       Fraud      C11  2015   \n",
       "15              16         1102                       Fraud      C11  2015   \n",
       "16              17          615  Larceny From Motor Vehicle      C11  2015   \n",
       "17              18         3115          Investigate Person      D14  2015   \n",
       "18              19         1102                       Fraud       A1  2015   \n",
       "19              20         1102                       Fraud       D4  2015   \n",
       "\n",
       "    MONTH  DAYOFWEEK  HOUR     UCRPART          STREET SHOOTING  \n",
       "0      12     Sunday    14    Part Two    WESTLAND AVE        N  \n",
       "1      12     Sunday    14    Part One    WESTLAND AVE        N  \n",
       "2       7  Wednesday    12    Part Two     OAKCREST RD        N  \n",
       "3      11   Thursday     8    Part Two     E FOURTH ST        N  \n",
       "4      10   Saturday    13    Part Two     BERKELEY ST        N  \n",
       "5       9    Tuesday    11    Part Two      ALLSTON ST        N  \n",
       "6       8   Thursday     8  Part Three        EDWIN ST        N  \n",
       "7      10  Wednesday    12    Part Two   WASHINGTON ST        N  \n",
       "8       8   Saturday     6    Part Two       DITSON ST        N  \n",
       "9       8   Saturday    15    Part Two   WASHINGTON ST        N  \n",
       "10      7  Wednesday    24    Part Two          COBDEN        N  \n",
       "11     11     Sunday    11       Other       HALLET ST        N  \n",
       "12     12     Monday     4    Part Two       DRAPER ST        N  \n",
       "13      7  Wednesday     8    Part Two        PARIS ST        N  \n",
       "14      9    Tuesday    24    Part Two      TOPLIFF ST        N  \n",
       "15      9   Thursday     9    Part Two       SEMONT RD        N  \n",
       "16     10   Thursday     8    Part One        EDWIN ST        N  \n",
       "17      7  Wednesday    24  Part Three  WALLINGFORD RD        N  \n",
       "18      8     Friday     9    Part Two        BROAD ST        N  \n",
       "19     10   Thursday    24    Part Two       ALBANY ST        N  "
      ]
     },
     "execution_count": 9,
     "metadata": {},
     "output_type": "execute_result"
    }
   ],
   "source": [
    "df1.head(20)"
   ]
  },
  {
   "cell_type": "code",
   "execution_count": 10,
   "metadata": {},
   "outputs": [
    {
     "data": {
      "image/png": "[encoded data removed]",
      "text/plain": [
       "<Figure size 432x288 with 1 Axes>"
      ]
     },
     "metadata": {},
     "output_type": "display_data"
    }
   ],
   "source": [
    "plt.hist(df1[\"DISTRICT\"])\n",
    "plt.show()"
   ]
  },
  {
   "cell_type": "code",
   "execution_count": 11,
   "metadata": {},
   "outputs": [
    {
     "data": {
      "image/png": "[encoded data removed]",
      "text/plain": [
       "<Figure size 432x288 with 1 Axes>"
      ]
     },
     "metadata": {},
     "output_type": "display_data"
    }
   ],
   "source": [
    "plt.hist(df1[\"HOUR\"])\n",
    "plt.show()"
   ]
  },
  {
   "cell_type": "code",
   "execution_count": 12,
   "metadata": {},
   "outputs": [
    {
     "data": {
      "text/plain": [
       "<matplotlib.axes._subplots.AxesSubplot at 0x7fb636aeebe0>"
      ]
     },
     "execution_count": 12,
     "metadata": {},
     "output_type": "execute_result"
    },
    {
     "data": {
      "image/png": "[encoded data removed]",
      "text/plain": [
       "<Figure size 432x288 with 1 Axes>"
      ]
     },
     "metadata": {},
     "output_type": "display_data"
    }
   ],
   "source": [
    "df1['HOUR'].hist(bins=50)"
   ]
  },
  {
   "cell_type": "code",
   "execution_count": 13,
   "metadata": {},
   "outputs": [
    {
     "data": {
      "text/plain": [
       "<matplotlib.axes._subplots.AxesSubplot at 0x7fb63738a198>"
      ]
     },
     "execution_count": 13,
     "metadata": {},
     "output_type": "execute_result"
    },
    {
     "data": {
      "image/png": "[encoded data removed]",
      "text/plain": [
       "<Figure size 432x288 with 1 Axes>"
      ]
     },
     "metadata": {},
     "output_type": "display_data"
    }
   ],
   "source": [
    "df1.boxplot(column='HOUR')"
   ]
  },
  {
   "cell_type": "code",
   "execution_count": 14,
   "metadata": {},
   "outputs": [
    {
     "data": {
      "text/plain": [
       "<matplotlib.axes._subplots.AxesSubplot at 0x7fb636bd5b38>"
      ]
     },
     "execution_count": 14,
     "metadata": {},
     "output_type": "execute_result"
    },
    {
     "data": {
      "image/png": "[encoded data removed]",
      "text/plain": [
       "<Figure size 432x288 with 1 Axes>"
      ]
     },
     "metadata": {},
     "output_type": "display_data"
    }
   ],
   "source": [
    "df1.boxplot(column='HOUR',by='DISTRICT')"
   ]
  },
  {
   "cell_type": "code",
   "execution_count": 15,
   "metadata": {},
   "outputs": [
    {
     "data": {
      "text/plain": [
       "<matplotlib.axes._subplots.AxesSubplot at 0x7fb636a73518>"
      ]
     },
     "execution_count": 15,
     "metadata": {},
     "output_type": "execute_result"
    },
    {
     "data": {
      "image/png": "[encoded data removed]",
      "text/plain": [
       "<Figure size 432x288 with 1 Axes>"
      ]
     },
     "metadata": {},
     "output_type": "display_data"
    }
   ],
   "source": [
    "df1['OFFENSECODE'].hist(bins=50)"
   ]
  },
  {
   "cell_type": "code",
   "execution_count": 16,
   "metadata": {},
   "outputs": [
    {
     "data": {
      "text/plain": [
       "<matplotlib.axes._subplots.AxesSubplot at 0x7fb6369e38d0>"
      ]
     },
     "execution_count": 16,
     "metadata": {},
     "output_type": "execute_result"
    },
    {
     "data": {
      "image/png": "[encoded data removed]",
      "text/plain": [
       "<Figure size 432x288 with 1 Axes>"
      ]
     },
     "metadata": {},
     "output_type": "display_data"
    }
   ],
   "source": [
    "df1.boxplot(column='OFFENSECODE')"
   ]
  },
  {
   "cell_type": "code",
   "execution_count": 17,
   "metadata": {},
   "outputs": [
    {
     "data": {
      "text/plain": [
       "<matplotlib.axes._subplots.AxesSubplot at 0x7fb636a04fd0>"
      ]
     },
     "execution_count": 17,
     "metadata": {},
     "output_type": "execute_result"
    },
    {
     "data": {
      "image/png": "[encoded data removed]",
      "text/plain": [
       "<Figure size 432x288 with 1 Axes>"
      ]
     },
     "metadata": {},
     "output_type": "display_data"
    }
   ],
   "source": [
    "df1.boxplot(column='OFFENSECODE', by= 'DISTRICT')"
   ]
  },
  {
   "cell_type": "code",
   "execution_count": 18,
   "metadata": {},
   "outputs": [
    {
     "name": "stdout",
     "output_type": "stream",
     "text": [
      "2      15\n",
      "1      17\n",
      "4      17\n",
      "3      20\n",
      "5      23\n",
      "6      56\n",
      "8      56\n",
      "9      80\n",
      "11     86\n",
      "10     89\n",
      "12    109\n",
      "7     232\n",
      "Name: MONTH, dtype: int64\n"
     ]
    },
    {
     "data": {
      "text/plain": [
       "<matplotlib.axes._subplots.AxesSubplot at 0x7fb636e09588>"
      ]
     },
     "execution_count": 18,
     "metadata": {},
     "output_type": "execute_result"
    },
    {
     "data": {
      "image/png": "[encoded data removed]",
      "text/plain": [
       "<Figure size 576x288 with 1 Axes>"
      ]
     },
     "metadata": {},
     "output_type": "display_data"
    },
    {
     "data": {
      "image/png": "[encoded data removed]",
      "text/plain": [
       "<Figure size 432x288 with 1 Axes>"
      ]
     },
     "metadata": {},
     "output_type": "display_data"
    }
   ],
   "source": [
    "temp1 = df1['MONTH'].value_counts(ascending=True)\n",
    "print (temp1)\n",
    "\n",
    "fig = plt.figure(figsize = (8,4))\n",
    "ax1 = fig.add_subplot(121)\n",
    "temp1.plot(kind='bar')\n",
    "\n",
    "temp2=pd.crosstab(df1['HOUR'],df1['SHOOTING'])\n",
    "temp2.plot(kind='bar', stacked=True, color=['red','blue'], grid=False)"
   ]
  },
  {
   "cell_type": "code",
   "execution_count": 19,
   "metadata": {},
   "outputs": [
    {
     "data": {
      "text/plain": [
       "INCIDENTNUMBER       0\n",
       "OFFENSECODE          0\n",
       "OFFENSECODEGROUP     0\n",
       "DISTRICT            28\n",
       "YEAR                 0\n",
       "MONTH                0\n",
       "DAYOFWEEK            0\n",
       "HOUR                 0\n",
       "UCRPART              0\n",
       "STREET              17\n",
       "SHOOTING             0\n",
       "dtype: int64"
      ]
     },
     "execution_count": 19,
     "metadata": {},
     "output_type": "execute_result"
    }
   ],
   "source": [
    "df1.apply(lambda x: sum(x.isnull()),axis=0)"
   ]
  },
  {
   "cell_type": "code",
   "execution_count": 20,
   "metadata": {},
   "outputs": [
    {
     "data": {
      "text/plain": [
       "count     800\n",
       "unique     13\n",
       "top        D4\n",
       "freq      109\n",
       "Name: DISTRICT, dtype: object"
      ]
     },
     "execution_count": 20,
     "metadata": {},
     "output_type": "execute_result"
    }
   ],
   "source": [
    "np.count_nonzero(df1['DISTRICT'])\n",
    "df1.count()\n",
    "df1['DISTRICT'].value_counts()\n",
    "df1['DISTRICT'].fillna('No', inplace=True)\n",
    "df1['DISTRICT'].describe()"
   ]
  },
  {
   "cell_type": "code",
   "execution_count": 21,
   "metadata": {},
   "outputs": [
    {
     "data": {
      "text/plain": [
       "count               800\n",
       "unique              448\n",
       "top       WASHINGTON ST\n",
       "freq                 36\n",
       "Name: STREET, dtype: object"
      ]
     },
     "execution_count": 21,
     "metadata": {},
     "output_type": "execute_result"
    }
   ],
   "source": [
    "np.count_nonzero(df1['STREET'])\n",
    "df1.count()\n",
    "df1['STREET'].value_counts()\n",
    "df1['STREET'].fillna('No', inplace=True)\n",
    "df1['STREET'].describe()"
   ]
  },
  {
   "cell_type": "code",
   "execution_count": 22,
   "metadata": {},
   "outputs": [],
   "source": [
    "from pyspark.sql import SQLContext\n",
    "from pyspark import SparkContext\n",
    "sqlContest = SQLContext(spark)\n",
    "spark_df = sqlContest.createDataFrame(df1)"
   ]
  },
  {
   "cell_type": "code",
   "execution_count": 23,
   "metadata": {},
   "outputs": [
    {
     "data": {
      "text/html": [
       "<div>\n",
       "<style scoped>\n",
       "    .dataframe tbody tr th:only-of-type {\n",
       "        vertical-align: middle;\n",
       "    }\n",
       "\n",
       "    .dataframe tbody tr th {\n",
       "        vertical-align: top;\n",
       "    }\n",
       "\n",
       "    .dataframe thead th {\n",
       "        text-align: right;\n",
       "    }\n",
       "</style>\n",
       "<table border=\"1\" class=\"dataframe\">\n",
       "  <thead>\n",
       "    <tr style=\"text-align: right;\">\n",
       "      <th></th>\n",
       "      <th>0</th>\n",
       "      <th>1</th>\n",
       "      <th>2</th>\n",
       "      <th>3</th>\n",
       "      <th>4</th>\n",
       "    </tr>\n",
       "  </thead>\n",
       "  <tbody>\n",
       "    <tr>\n",
       "      <th>summary</th>\n",
       "      <td>count</td>\n",
       "      <td>mean</td>\n",
       "      <td>stddev</td>\n",
       "      <td>min</td>\n",
       "      <td>max</td>\n",
       "    </tr>\n",
       "    <tr>\n",
       "      <th>INCIDENTNUMBER</th>\n",
       "      <td>800</td>\n",
       "      <td>400.5</td>\n",
       "      <td>231.08440016582685</td>\n",
       "      <td>1</td>\n",
       "      <td>800</td>\n",
       "    </tr>\n",
       "    <tr>\n",
       "      <th>OFFENSECODE</th>\n",
       "      <td>800</td>\n",
       "      <td>1949.24875</td>\n",
       "      <td>1095.3304308812276</td>\n",
       "      <td>301</td>\n",
       "      <td>3831</td>\n",
       "    </tr>\n",
       "    <tr>\n",
       "      <th>OFFENSECODEGROUP</th>\n",
       "      <td>800</td>\n",
       "      <td>None</td>\n",
       "      <td>None</td>\n",
       "      <td>Aggravated Assault</td>\n",
       "      <td>Warrant Arrests</td>\n",
       "    </tr>\n",
       "    <tr>\n",
       "      <th>DISTRICT</th>\n",
       "      <td>772</td>\n",
       "      <td>None</td>\n",
       "      <td>None</td>\n",
       "      <td>A1</td>\n",
       "      <td>E5</td>\n",
       "    </tr>\n",
       "    <tr>\n",
       "      <th>YEAR</th>\n",
       "      <td>800</td>\n",
       "      <td>2016.50375</td>\n",
       "      <td>1.1209623692572204</td>\n",
       "      <td>2015</td>\n",
       "      <td>2018</td>\n",
       "    </tr>\n",
       "    <tr>\n",
       "      <th>MONTH</th>\n",
       "      <td>800</td>\n",
       "      <td>8.2025</td>\n",
       "      <td>2.677770867909777</td>\n",
       "      <td>1</td>\n",
       "      <td>12</td>\n",
       "    </tr>\n",
       "    <tr>\n",
       "      <th>DAYOFWEEK</th>\n",
       "      <td>800</td>\n",
       "      <td>None</td>\n",
       "      <td>None</td>\n",
       "      <td>Friday</td>\n",
       "      <td>Wednesday</td>\n",
       "    </tr>\n",
       "    <tr>\n",
       "      <th>HOUR</th>\n",
       "      <td>800</td>\n",
       "      <td>15.49</td>\n",
       "      <td>6.011661591762074</td>\n",
       "      <td>1</td>\n",
       "      <td>24</td>\n",
       "    </tr>\n",
       "    <tr>\n",
       "      <th>UCRPART</th>\n",
       "      <td>800</td>\n",
       "      <td>None</td>\n",
       "      <td>None</td>\n",
       "      <td>Other</td>\n",
       "      <td>Part Two</td>\n",
       "    </tr>\n",
       "    <tr>\n",
       "      <th>STREET</th>\n",
       "      <td>783</td>\n",
       "      <td>None</td>\n",
       "      <td>None</td>\n",
       "      <td>ADAMS ST</td>\n",
       "      <td>ZAMORA ST</td>\n",
       "    </tr>\n",
       "    <tr>\n",
       "      <th>SHOOTING</th>\n",
       "      <td>800</td>\n",
       "      <td>None</td>\n",
       "      <td>None</td>\n",
       "      <td>N</td>\n",
       "      <td>Y</td>\n",
       "    </tr>\n",
       "  </tbody>\n",
       "</table>\n",
       "</div>"
      ],
      "text/plain": [
       "                      0           1                   2                   3  \\\n",
       "summary           count        mean              stddev                 min   \n",
       "INCIDENTNUMBER      800       400.5  231.08440016582685                   1   \n",
       "OFFENSECODE         800  1949.24875  1095.3304308812276                 301   \n",
       "OFFENSECODEGROUP    800        None                None  Aggravated Assault   \n",
       "DISTRICT            772        None                None                  A1   \n",
       "YEAR                800  2016.50375  1.1209623692572204                2015   \n",
       "MONTH               800      8.2025   2.677770867909777                   1   \n",
       "DAYOFWEEK           800        None                None              Friday   \n",
       "HOUR                800       15.49   6.011661591762074                   1   \n",
       "UCRPART             800        None                None               Other   \n",
       "STREET              783        None                None            ADAMS ST   \n",
       "SHOOTING            800        None                None                   N   \n",
       "\n",
       "                                4  \n",
       "summary                       max  \n",
       "INCIDENTNUMBER                800  \n",
       "OFFENSECODE                  3831  \n",
       "OFFENSECODEGROUP  Warrant Arrests  \n",
       "DISTRICT                       E5  \n",
       "YEAR                         2018  \n",
       "MONTH                          12  \n",
       "DAYOFWEEK               Wednesday  \n",
       "HOUR                           24  \n",
       "UCRPART                  Part Two  \n",
       "STREET                  ZAMORA ST  \n",
       "SHOOTING                        Y  "
      ]
     },
     "execution_count": 23,
     "metadata": {},
     "output_type": "execute_result"
    }
   ],
   "source": [
    "df.describe().toPandas().transpose()"
   ]
  },
  {
   "cell_type": "code",
   "execution_count": 24,
   "metadata": {},
   "outputs": [],
   "source": [
    "from pyspark.ml.feature import OneHotEncoder\n",
    "from pyspark.ml.feature import StringIndexer\n",
    "from pyspark.ml.feature import VectorAssembler"
   ]
  },
  {
   "cell_type": "code",
   "execution_count": 25,
   "metadata": {},
   "outputs": [],
   "source": [
    "DISTRICT_indexer = StringIndexer(inputCol='DISTRICT',outputCol='DISTRICTIndex')\n",
    "DAYOFWEEK_indexer = StringIndexer(inputCol='DAYOFWEEK',outputCol='DAYOFWEEKIndex')\n",
    "STREET_indexer = StringIndexer(inputCol='STREET',outputCol='STREETIndex')\n",
    "SHOOTING_indexer = StringIndexer(inputCol='SHOOTING',outputCol='label')\n",
    "\n",
    "DISTRICT_encoder = OneHotEncoder(inputCol='DISTRICTIndex',outputCol='DISTRICTVec')\n",
    "DAYOFWEEK_encoder = OneHotEncoder(inputCol='DAYOFWEEKIndex',outputCol='DAYOFWEEKVec')\n",
    "STREET_encoder = OneHotEncoder(inputCol='STREETIndex',outputCol='STREETVec')\n",
    "\n",
    "assembler = VectorAssembler(inputCols=['DISTRICTVec','DAYOFWEEKVec','STREETVec',\n",
    "                                       'OFFENSECODE','YEAR','MONTH','HOUR'], outputCol=\"features\")"
   ]
  },
  {
   "cell_type": "code",
   "execution_count": 26,
   "metadata": {},
   "outputs": [],
   "source": [
    "from pyspark.ml import Pipeline\n",
    "\n",
    "pipeline = Pipeline(stages=[DISTRICT_indexer, DAYOFWEEK_indexer, STREET_indexer, SHOOTING_indexer,\n",
    "                            DISTRICT_encoder, DAYOFWEEK_encoder, STREET_encoder, assembler])\n",
    "\n",
    "# Apply it to the DataFrame.\n",
    "pipeline_model = pipeline.fit(spark_df)\n",
    "\n",
    "# Incorporate results into a new DataFrame.\n",
    "pipe_df = pipeline_model.transform(spark_df)\n",
    "\n",
    "# Remove all variables other than label and features\n",
    "pipe_df = pipe_df.select('label', 'features')"
   ]
  },
  {
   "cell_type": "markdown",
   "metadata": {},
   "source": [
    "Logistic Regression Model "
   ]
  },
  {
   "cell_type": "code",
   "execution_count": null,
   "metadata": {},
   "outputs": [
    {
     "name": "stdout",
     "output_type": "stream",
     "text": [
      "Training Dataset Count: 581\n",
      "Test Dataset Count: 219\n"
     ]
    }
   ],
   "source": [
    "from pyspark.ml.classification import LogisticRegression\n",
    "\n",
    "# Split our data. Note that the new DataFrame is being used.\n",
    "train_data, test_data = pipe_df.randomSplit([0.7,0.3])\n",
    "print(\"Training Dataset Count: \" + str(train_data.count()))\n",
    "print(\"Test Dataset Count: \" + str(test_data.count()))\n",
    "\n",
    "# Instantiate the model.\n",
    "lr_model = LogisticRegression(featuresCol='features',labelCol='label')\n",
    "\n",
    "# Fit the model.\n",
    "lr_model = lr_model.fit(train_data)\n",
    "\n",
    "# And evaluate the model using the test data.\n",
    "results = lr_model.transform(test_data)"
   ]
  },
  {
   "cell_type": "code",
   "execution_count": null,
   "metadata": {},
   "outputs": [],
   "source": [
    "# Make predictions on the test set\n",
    "\n",
    "predictions = lr_model.transform(test_data)\n",
    "predictions.select('DISTRICT', 'SHOOTING').show(10"
   ]
  },
  {
   "cell_type": "markdown",
   "metadata": {},
   "source": [
    "Model Evaluation"
   ]
  },
  {
   "cell_type": "code",
   "execution_count": 27,
   "metadata": {},
   "outputs": [
    {
     "data": {
      "image/png": "[encoded data removed]",
      "text/plain": [
       "<Figure size 432x288 with 1 Axes>"
      ]
     },
     "metadata": {},
     "output_type": "display_data"
    }
   ],
   "source": [
    "# Obtain the coefficients by using LogisticRegressionModel's attributes\n",
    "\n",
    "import matplotlib.pyplot as plt\n",
    "import numpy as np\n",
    "\n",
    "# Visualising the coefficients. Sort from lowest to highest.\n",
    "beta = np.sort(lr_model.coefficients)\n",
    "\n",
    "# Plot the data.\n",
    "plt.plot(beta)\n",
    "\n",
    "# Add a label to the data.\n",
    "plt.ylabel('Beta Coefficients')\n",
    "\n",
    "# Show the graph. \n",
    "plt.show()"
   ]
  },
  {
   "cell_type": "code",
   "execution_count": 28,
   "metadata": {},
   "outputs": [
    {
     "data": {
      "image/png": "[encoded data removed]",
      "text/plain": [
       "<Figure size 432x288 with 1 Axes>"
      ]
     },
     "metadata": {},
     "output_type": "display_data"
    },
    {
     "name": "stdout",
     "output_type": "stream",
     "text": [
      "Area Under the Curve: 1.0\n"
     ]
    }
   ],
   "source": [
    "# Obtain the receiver-operating characteristic and areaUnderROC\n",
    "\n",
    "# Let's get a summary of the data.\n",
    "training_summary = lr_model.summary\n",
    "\n",
    "# Convert the DataFrame to a Pandas DataFrame.\n",
    "ROC = training_summary.roc.toPandas()\n",
    "\n",
    "# Plot the true positive and false positive rates.\n",
    "plt.plot(ROC['FPR'],ROC['TPR'])\n",
    "\n",
    "# Define the labels.\n",
    "plt.ylabel('True Positive Rate')\n",
    "plt.xlabel('False Positive Rate')\n",
    "plt.title('ROC Curve')\n",
    "plt.show()\n",
    "\n",
    "# Print the AUC statistic. \n",
    "print('Area Under the Curve: ' + str(training_summary.areaUnderROC))"
   ]
  },
  {
   "cell_type": "code",
   "execution_count": 29,
   "metadata": {},
   "outputs": [
    {
     "data": {
      "image/png": "[encoded data removed]",
      "text/plain": [
       "<Figure size 432x288 with 1 Axes>"
      ]
     },
     "metadata": {},
     "output_type": "display_data"
    }
   ],
   "source": [
    "# Precision and Recall\n",
    "\n",
    "# Convert DataFrame to Pandas DataFrame.\n",
    "pr = training_summary.pr.toPandas()\n",
    "\n",
    "# Plot model recall and precision.\n",
    "plt.plot(pr['recall'],pr['precision'])\n",
    "\n",
    "# Define the labels and show the graph. \n",
    "plt.ylabel('Precision')\n",
    "plt.xlabel('Recall')\n",
    "plt.show()"
   ]
  },
  {
   "cell_type": "code",
   "execution_count": 31,
   "metadata": {},
   "outputs": [
    {
     "data": {
      "image/png": "[encoded data removed]",
      "text/plain": [
       "<Figure size 432x288 with 1 Axes>"
      ]
     },
     "metadata": {},
     "output_type": "display_data"
    }
   ],
   "source": [
    "# Set the model threshold to maximize F-Measure\n",
    "\n",
    "f = training_summary.fMeasureByThreshold.toPandas()\n",
    "plt.plot(f['threshold'],f['F-Measure'])\n",
    "plt.ylabel('F-Measure')\n",
    "plt.xlabel('Threshold')\n",
    "plt.show()"
   ]
  },
  {
   "cell_type": "code",
   "execution_count": null,
   "metadata": {},
   "outputs": [],
   "source": [
    "df.write.csv('dataset.csv')"
   ]
  }
 ],
 "metadata": {
  "kernelspec": {
   "display_name": "Python 3",
   "language": "python",
   "name": "python3"
  },
  "language_info": {
   "codemirror_mode": {
    "name": "ipython",
    "version": 3
   },
   "file_extension": ".py",
   "mimetype": "text/x-python",
   "name": "python",
   "nbconvert_exporter": "python",
   "pygments_lexer": "ipython3",
   "version": "3.5.2"
  }
 },
 "nbformat": 4,
 "nbformat_minor": 2
}
